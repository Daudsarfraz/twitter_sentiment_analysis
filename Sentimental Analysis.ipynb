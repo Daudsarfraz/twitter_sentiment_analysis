{
 "cells": [
  {
   "cell_type": "markdown",
   "id": "22e27546-8cd8-4861-b5a7-01344aab1959",
   "metadata": {},
   "source": [
    "## Dawood Sarfraz"
   ]
  },
  {
   "cell_type": "markdown",
   "id": "3aec8ec0-83da-49e5-82a6-262261c8e727",
   "metadata": {},
   "source": [
    "## Sentimental Analysis \n",
    "### Support Vector Machine\n",
    "### Random Forest\n",
    "### Decision Tree\n",
    "### XGBoost\n",
    "### Logistic Regression\n",
    "\n",
    "## Performed Feature Engineering "
   ]
  },
  {
   "cell_type": "markdown",
   "id": "e9a87169-fd1b-4870-a36d-1547c8db4b95",
   "metadata": {},
   "source": [
    "#### About Dataset\n",
    "Context\n",
    "This is the sentiment140 dataset. It contains 1,600,000 tweets extracted using the twitter api . The tweets have been annotated (0 = negative, 4 = positive) and they can be used to detect sentiment .\n",
    "\n",
    "#### Content\n",
    "It contains the following 6 fields:\n",
    "\n",
    "#### target: \n",
    "The polarity of the tweet (0 = negative, 4 = positive)\n",
    "\n",
    "#### ids: \n",
    "The id of the tweet ( 2087)\n",
    "\n",
    "#### date: \n",
    "The date of the tweet (Sat May 16 23:58:44 UTC 2009)\n",
    "\n",
    "#### flag: \n",
    "The query (lyx). If there is no query, then this value is NO_QUERY.\n",
    "\n",
    "#### user: \n",
    "The user that tweeted (robotickilldozr)\n",
    "\n",
    "#### text: \n",
    "The text of the tweet (Lyx is cool)"
   ]
  },
  {
   "cell_type": "code",
   "execution_count": 616,
   "id": "19bce7bb-47cc-4aa5-910b-1c3a1d5fe65e",
   "metadata": {},
   "outputs": [],
   "source": [
    "# This Library is Just for Calculte Ruuning Time of Notebook\n",
    "from datetime import datetime\n",
    "start_time = datetime.now()\n",
    "end_time = datetime.now()\n",
    "total_time = end_time - start_time"
   ]
  },
  {
   "cell_type": "code",
   "execution_count": 617,
   "id": "bcf9f0a7-45b0-496a-9fb1-b8d3308834a3",
   "metadata": {},
   "outputs": [
    {
     "name": "stdout",
     "output_type": "stream",
     "text": [
      " \u001b[0m\u001b[01;34mnltk_data\u001b[0m/                                 trained_Model.sav\n",
      "\u001b[01;35m'Screenshot from 2024-06-30 01-59-16.png'\u001b[0m   tweets.csv\n",
      "'Sentimental Analysis.ipynb'                \u001b[01;31mtweets.zip\u001b[0m\n",
      " trained_Model_logistic_regression.sav\n"
     ]
    }
   ],
   "source": [
    "ls"
   ]
  },
  {
   "cell_type": "code",
   "execution_count": 618,
   "id": "78fcd20e-6bb2-4a22-84ad-158350989a36",
   "metadata": {},
   "outputs": [
    {
     "name": "stdout",
     "output_type": "stream",
     "text": [
      "tweets.zip has extacted start your project.\n"
     ]
    }
   ],
   "source": [
    "# mostly we get dataset into Zip file Here is code to extact \n",
    "\n",
    "from zipfile import ZipFile as zf\n",
    "\n",
    "dataset_file = \"tweets.zip\"\n",
    "\n",
    "with zf(dataset_file, \"r\") as zip:\n",
    "    zip.extractall()\n",
    "    print(f\"{dataset_file} has extacted start your project.\")"
   ]
  },
  {
   "cell_type": "code",
   "execution_count": 619,
   "id": "1704fbc7-d246-49c8-af9f-022e9ecaefec",
   "metadata": {},
   "outputs": [
    {
     "name": "stdout",
     "output_type": "stream",
     "text": [
      " \u001b[0m\u001b[01;34mnltk_data\u001b[0m/                                 trained_Model.sav\n",
      "\u001b[01;35m'Screenshot from 2024-06-30 01-59-16.png'\u001b[0m   tweets.csv\n",
      "'Sentimental Analysis.ipynb'                \u001b[01;31mtweets.zip\u001b[0m\n",
      " trained_Model_logistic_regression.sav\n"
     ]
    }
   ],
   "source": [
    "ls"
   ]
  },
  {
   "cell_type": "code",
   "execution_count": 620,
   "id": "84aa7f5c-399e-4a2d-9af2-d93b199ae3d4",
   "metadata": {},
   "outputs": [],
   "source": [
    "# Importing Useful Libraries"
   ]
  },
  {
   "cell_type": "code",
   "execution_count": 621,
   "id": "0762ec9a-5217-4db3-8ae3-4ad4947b7778",
   "metadata": {},
   "outputs": [
    {
     "name": "stdout",
     "output_type": "stream",
     "text": [
      "The nltk version using 3.8.1.\n",
      "The scikit-learn version using 1.4.2.\n"
     ]
    },
    {
     "name": "stderr",
     "output_type": "stream",
     "text": [
      "[nltk_data] Downloading package stopwords to /home/ubuntu/nltk_data...\n",
      "[nltk_data]   Package stopwords is already up-to-date!\n"
     ]
    }
   ],
   "source": [
    "import re\n",
    "import numpy as np\n",
    "import pandas as pd\n",
    "import seaborn as sns\n",
    "import matplotlib.pyplot as plt\n",
    "\n",
    "# Import Natural Language Tool Kit library for text processing\n",
    "from nltk.stem.porter import PorterStemmer\n",
    "from nltk.corpus import stopwords\n",
    "\n",
    "# Downloading \"Stopworks\"\n",
    "import nltk\n",
    "nltk.download(\"stopwords\")\n",
    "\n",
    "# Import Sklean library\n",
    "import sklearn\n",
    "from sklearn.model_selection import train_test_split\n",
    "from sklearn.feature_extraction.text import TfidfVectorizer\n",
    "from sklearn.linear_model import LogisticRegression\n",
    "from sklearn.svm import SVC\n",
    "from sklearn.tree import DecisionTreeClassifier\n",
    "from sklearn.ensemble import RandomForestClassifier\n",
    "from xgboost import XGBClassifier\n",
    "from sklearn.neighbors import KNeighborsClassifier\n",
    "\n",
    "from sklearn.metrics import accuracy_score\n",
    "\n",
    "print('The nltk version using {}.'.format(nltk.__version__))\n",
    "print('The scikit-learn version using {}.'.format(sklearn.__version__))\n",
    "\n"
   ]
  },
  {
   "cell_type": "code",
   "execution_count": 622,
   "id": "5c277f60-c18f-4131-a9b8-a97e897ac533",
   "metadata": {},
   "outputs": [
    {
     "name": "stdout",
     "output_type": "stream",
     "text": [
      "['i', 'me', 'my', 'myself', 'we', 'our', 'ours', 'ourselves', 'you', \"you're\", \"you've\", \"you'll\", \"you'd\", 'your', 'yours', 'yourself', 'yourselves', 'he', 'him', 'his', 'himself', 'she', \"she's\", 'her', 'hers', 'herself', 'it', \"it's\", 'its', 'itself', 'they', 'them', 'their', 'theirs', 'themselves', 'what', 'which', 'who', 'whom', 'this', 'that', \"that'll\", 'these', 'those', 'am', 'is', 'are', 'was', 'were', 'be', 'been', 'being', 'have', 'has', 'had', 'having', 'do', 'does', 'did', 'doing', 'a', 'an', 'the', 'and', 'but', 'if', 'or', 'because', 'as', 'until', 'while', 'of', 'at', 'by', 'for', 'with', 'about', 'against', 'between', 'into', 'through', 'during', 'before', 'after', 'above', 'below', 'to', 'from', 'up', 'down', 'in', 'out', 'on', 'off', 'over', 'under', 'again', 'further', 'then', 'once', 'here', 'there', 'when', 'where', 'why', 'how', 'all', 'any', 'both', 'each', 'few', 'more', 'most', 'other', 'some', 'such', 'no', 'nor', 'not', 'only', 'own', 'same', 'so', 'than', 'too', 'very', 's', 't', 'can', 'will', 'just', 'don', \"don't\", 'should', \"should've\", 'now', 'd', 'll', 'm', 'o', 're', 've', 'y', 'ain', 'aren', \"aren't\", 'couldn', \"couldn't\", 'didn', \"didn't\", 'doesn', \"doesn't\", 'hadn', \"hadn't\", 'hasn', \"hasn't\", 'haven', \"haven't\", 'isn', \"isn't\", 'ma', 'mightn', \"mightn't\", 'mustn', \"mustn't\", 'needn', \"needn't\", 'shan', \"shan't\", 'shouldn', \"shouldn't\", 'wasn', \"wasn't\", 'weren', \"weren't\", 'won', \"won't\", 'wouldn', \"wouldn't\"]\n"
     ]
    }
   ],
   "source": [
    "print(stopwords.words('english')) # As my data set is in English so im using \"english\""
   ]
  },
  {
   "cell_type": "code",
   "execution_count": 623,
   "id": "a0844c33-db17-49bd-9a00-f0774df59406",
   "metadata": {},
   "outputs": [],
   "source": [
    "tweets_data = pd.read_csv(\"tweets.csv\",encoding=\"ISO-8859-1\")\n",
    "original_data = pd.read_csv(\"tweets.csv\",encoding=\"ISO-8859-1\")"
   ]
  },
  {
   "cell_type": "code",
   "execution_count": 624,
   "id": "104f92d4-9567-41a0-8d2d-7e1add2a3eb6",
   "metadata": {},
   "outputs": [],
   "source": [
    "rows, columns = tweets_data.shape"
   ]
  },
  {
   "cell_type": "code",
   "execution_count": 625,
   "id": "9219c868-9d50-417b-aec1-03a2951377b7",
   "metadata": {},
   "outputs": [
    {
     "name": "stdout",
     "output_type": "stream",
     "text": [
      "1599999 are total rows in tweets.zip\n"
     ]
    }
   ],
   "source": [
    "print(f\"{rows} are total rows in {dataset_file}\")"
   ]
  },
  {
   "cell_type": "code",
   "execution_count": 626,
   "id": "d6ad2b25-cb52-45e9-aab4-68fae15f8bda",
   "metadata": {},
   "outputs": [
    {
     "name": "stdout",
     "output_type": "stream",
     "text": [
      "6 are total columns in tweets.zip\n"
     ]
    }
   ],
   "source": [
    "print(f\"{columns} are total columns in {dataset_file}\")"
   ]
  },
  {
   "cell_type": "code",
   "execution_count": 627,
   "id": "574b1dc6-6e82-4bf2-aeaf-8857abd045b5",
   "metadata": {},
   "outputs": [
    {
     "data": {
      "text/html": [
       "<div>\n",
       "<style scoped>\n",
       "    .dataframe tbody tr th:only-of-type {\n",
       "        vertical-align: middle;\n",
       "    }\n",
       "\n",
       "    .dataframe tbody tr th {\n",
       "        vertical-align: top;\n",
       "    }\n",
       "\n",
       "    .dataframe thead th {\n",
       "        text-align: right;\n",
       "    }\n",
       "</style>\n",
       "<table border=\"1\" class=\"dataframe\">\n",
       "  <thead>\n",
       "    <tr style=\"text-align: right;\">\n",
       "      <th></th>\n",
       "      <th>Target</th>\n",
       "      <th>ids</th>\n",
       "      <th>date</th>\n",
       "      <th>flag</th>\n",
       "      <th>user</th>\n",
       "      <th>text</th>\n",
       "    </tr>\n",
       "  </thead>\n",
       "  <tbody>\n",
       "    <tr>\n",
       "      <th>0</th>\n",
       "      <td>0</td>\n",
       "      <td>1467810672</td>\n",
       "      <td>Mon Apr 06 22:19:49 PDT 2009</td>\n",
       "      <td>NO_QUERY</td>\n",
       "      <td>scotthamilton</td>\n",
       "      <td>is upset that he can't update his Facebook by ...</td>\n",
       "    </tr>\n",
       "    <tr>\n",
       "      <th>1</th>\n",
       "      <td>0</td>\n",
       "      <td>1467810917</td>\n",
       "      <td>Mon Apr 06 22:19:53 PDT 2009</td>\n",
       "      <td>NO_QUERY</td>\n",
       "      <td>mattycus</td>\n",
       "      <td>@Kenichan I dived many times for the ball. Man...</td>\n",
       "    </tr>\n",
       "    <tr>\n",
       "      <th>2</th>\n",
       "      <td>0</td>\n",
       "      <td>1467811184</td>\n",
       "      <td>Mon Apr 06 22:19:57 PDT 2009</td>\n",
       "      <td>NO_QUERY</td>\n",
       "      <td>ElleCTF</td>\n",
       "      <td>my whole body feels itchy and like its on fire</td>\n",
       "    </tr>\n",
       "    <tr>\n",
       "      <th>3</th>\n",
       "      <td>0</td>\n",
       "      <td>1467811193</td>\n",
       "      <td>Mon Apr 06 22:19:57 PDT 2009</td>\n",
       "      <td>NO_QUERY</td>\n",
       "      <td>Karoli</td>\n",
       "      <td>@nationwideclass no, it's not behaving at all....</td>\n",
       "    </tr>\n",
       "    <tr>\n",
       "      <th>4</th>\n",
       "      <td>0</td>\n",
       "      <td>1467811372</td>\n",
       "      <td>Mon Apr 06 22:20:00 PDT 2009</td>\n",
       "      <td>NO_QUERY</td>\n",
       "      <td>joy_wolf</td>\n",
       "      <td>@Kwesidei not the whole crew</td>\n",
       "    </tr>\n",
       "    <tr>\n",
       "      <th>...</th>\n",
       "      <td>...</td>\n",
       "      <td>...</td>\n",
       "      <td>...</td>\n",
       "      <td>...</td>\n",
       "      <td>...</td>\n",
       "      <td>...</td>\n",
       "    </tr>\n",
       "    <tr>\n",
       "      <th>1599994</th>\n",
       "      <td>4</td>\n",
       "      <td>2193601966</td>\n",
       "      <td>Tue Jun 16 08:40:49 PDT 2009</td>\n",
       "      <td>NO_QUERY</td>\n",
       "      <td>AmandaMarie1028</td>\n",
       "      <td>Just woke up. Having no school is the best fee...</td>\n",
       "    </tr>\n",
       "    <tr>\n",
       "      <th>1599995</th>\n",
       "      <td>4</td>\n",
       "      <td>2193601969</td>\n",
       "      <td>Tue Jun 16 08:40:49 PDT 2009</td>\n",
       "      <td>NO_QUERY</td>\n",
       "      <td>TheWDBoards</td>\n",
       "      <td>TheWDB.com - Very cool to hear old Walt interv...</td>\n",
       "    </tr>\n",
       "    <tr>\n",
       "      <th>1599996</th>\n",
       "      <td>4</td>\n",
       "      <td>2193601991</td>\n",
       "      <td>Tue Jun 16 08:40:49 PDT 2009</td>\n",
       "      <td>NO_QUERY</td>\n",
       "      <td>bpbabe</td>\n",
       "      <td>Are you ready for your MoJo Makeover? Ask me f...</td>\n",
       "    </tr>\n",
       "    <tr>\n",
       "      <th>1599997</th>\n",
       "      <td>4</td>\n",
       "      <td>2193602064</td>\n",
       "      <td>Tue Jun 16 08:40:49 PDT 2009</td>\n",
       "      <td>NO_QUERY</td>\n",
       "      <td>tinydiamondz</td>\n",
       "      <td>Happy 38th Birthday to my boo of alll time!!! ...</td>\n",
       "    </tr>\n",
       "    <tr>\n",
       "      <th>1599998</th>\n",
       "      <td>4</td>\n",
       "      <td>2193602129</td>\n",
       "      <td>Tue Jun 16 08:40:50 PDT 2009</td>\n",
       "      <td>NO_QUERY</td>\n",
       "      <td>RyanTrevMorris</td>\n",
       "      <td>happy #charitytuesday @theNSPCC @SparksCharity...</td>\n",
       "    </tr>\n",
       "  </tbody>\n",
       "</table>\n",
       "<p>1599999 rows × 6 columns</p>\n",
       "</div>"
      ],
      "text/plain": [
       "         Target         ids                          date      flag  \\\n",
       "0             0  1467810672  Mon Apr 06 22:19:49 PDT 2009  NO_QUERY   \n",
       "1             0  1467810917  Mon Apr 06 22:19:53 PDT 2009  NO_QUERY   \n",
       "2             0  1467811184  Mon Apr 06 22:19:57 PDT 2009  NO_QUERY   \n",
       "3             0  1467811193  Mon Apr 06 22:19:57 PDT 2009  NO_QUERY   \n",
       "4             0  1467811372  Mon Apr 06 22:20:00 PDT 2009  NO_QUERY   \n",
       "...         ...         ...                           ...       ...   \n",
       "1599994       4  2193601966  Tue Jun 16 08:40:49 PDT 2009  NO_QUERY   \n",
       "1599995       4  2193601969  Tue Jun 16 08:40:49 PDT 2009  NO_QUERY   \n",
       "1599996       4  2193601991  Tue Jun 16 08:40:49 PDT 2009  NO_QUERY   \n",
       "1599997       4  2193602064  Tue Jun 16 08:40:49 PDT 2009  NO_QUERY   \n",
       "1599998       4  2193602129  Tue Jun 16 08:40:50 PDT 2009  NO_QUERY   \n",
       "\n",
       "                    user                                               text  \n",
       "0          scotthamilton  is upset that he can't update his Facebook by ...  \n",
       "1               mattycus  @Kenichan I dived many times for the ball. Man...  \n",
       "2                ElleCTF    my whole body feels itchy and like its on fire   \n",
       "3                 Karoli  @nationwideclass no, it's not behaving at all....  \n",
       "4               joy_wolf                      @Kwesidei not the whole crew   \n",
       "...                  ...                                                ...  \n",
       "1599994  AmandaMarie1028  Just woke up. Having no school is the best fee...  \n",
       "1599995      TheWDBoards  TheWDB.com - Very cool to hear old Walt interv...  \n",
       "1599996           bpbabe  Are you ready for your MoJo Makeover? Ask me f...  \n",
       "1599997     tinydiamondz  Happy 38th Birthday to my boo of alll time!!! ...  \n",
       "1599998   RyanTrevMorris  happy #charitytuesday @theNSPCC @SparksCharity...  \n",
       "\n",
       "[1599999 rows x 6 columns]"
      ]
     },
     "execution_count": 627,
     "metadata": {},
     "output_type": "execute_result"
    }
   ],
   "source": [
    "tweets_data"
   ]
  },
  {
   "cell_type": "markdown",
   "id": "7a6b7ae1-e900-411e-b33f-f50e68753c1a",
   "metadata": {},
   "source": [
    "#### If no lables so Assigning column names"
   ]
  },
  {
   "cell_type": "code",
   "execution_count": 629,
   "id": "74a894bb-59be-40d5-9acc-fa3d978c436d",
   "metadata": {},
   "outputs": [],
   "source": [
    "#column_names = [\"Target\", \"ids\",\"date\", \"flag\", \"user\", \"text\"]"
   ]
  },
  {
   "cell_type": "code",
   "execution_count": 630,
   "id": "f32c6bf1-8f32-452d-ab3d-8361473feddc",
   "metadata": {},
   "outputs": [
    {
     "data": {
      "text/html": [
       "<div>\n",
       "<style scoped>\n",
       "    .dataframe tbody tr th:only-of-type {\n",
       "        vertical-align: middle;\n",
       "    }\n",
       "\n",
       "    .dataframe tbody tr th {\n",
       "        vertical-align: top;\n",
       "    }\n",
       "\n",
       "    .dataframe thead th {\n",
       "        text-align: right;\n",
       "    }\n",
       "</style>\n",
       "<table border=\"1\" class=\"dataframe\">\n",
       "  <thead>\n",
       "    <tr style=\"text-align: right;\">\n",
       "      <th></th>\n",
       "      <th>Target</th>\n",
       "      <th>ids</th>\n",
       "      <th>date</th>\n",
       "      <th>flag</th>\n",
       "      <th>user</th>\n",
       "      <th>text</th>\n",
       "    </tr>\n",
       "  </thead>\n",
       "  <tbody>\n",
       "    <tr>\n",
       "      <th>1427351</th>\n",
       "      <td>4</td>\n",
       "      <td>2059381010</td>\n",
       "      <td>Sat Jun 06 16:49:06 PDT 2009</td>\n",
       "      <td>NO_QUERY</td>\n",
       "      <td>official_roxy_j</td>\n",
       "      <td>Im back soo tweet me</td>\n",
       "    </tr>\n",
       "    <tr>\n",
       "      <th>961269</th>\n",
       "      <td>4</td>\n",
       "      <td>1827030251</td>\n",
       "      <td>Sun May 17 09:50:35 PDT 2009</td>\n",
       "      <td>NO_QUERY</td>\n",
       "      <td>m4s</td>\n",
       "      <td>@Evelyncharmz</td>\n",
       "    </tr>\n",
       "    <tr>\n",
       "      <th>790898</th>\n",
       "      <td>0</td>\n",
       "      <td>2325798140</td>\n",
       "      <td>Thu Jun 25 06:04:48 PDT 2009</td>\n",
       "      <td>NO_QUERY</td>\n",
       "      <td>xoxWENDYxox</td>\n",
       "      <td>The lil lion cried after I dropped him off in ...</td>\n",
       "    </tr>\n",
       "    <tr>\n",
       "      <th>396033</th>\n",
       "      <td>0</td>\n",
       "      <td>2056256111</td>\n",
       "      <td>Sat Jun 06 10:48:45 PDT 2009</td>\n",
       "      <td>NO_QUERY</td>\n",
       "      <td>Pixie_Anna</td>\n",
       "      <td>@Uk_joedan_fan Thanks. She's seeing the neurol...</td>\n",
       "    </tr>\n",
       "    <tr>\n",
       "      <th>126930</th>\n",
       "      <td>0</td>\n",
       "      <td>1834618006</td>\n",
       "      <td>Mon May 18 03:36:56 PDT 2009</td>\n",
       "      <td>NO_QUERY</td>\n",
       "      <td>LeaAndLuas</td>\n",
       "      <td>think its very hard to learn the little one, t...</td>\n",
       "    </tr>\n",
       "    <tr>\n",
       "      <th>356585</th>\n",
       "      <td>0</td>\n",
       "      <td>2044323024</td>\n",
       "      <td>Fri Jun 05 09:11:24 PDT 2009</td>\n",
       "      <td>NO_QUERY</td>\n",
       "      <td>Peyton_Irving</td>\n",
       "      <td>raining today !</td>\n",
       "    </tr>\n",
       "    <tr>\n",
       "      <th>594501</th>\n",
       "      <td>0</td>\n",
       "      <td>2218528002</td>\n",
       "      <td>Wed Jun 17 22:38:52 PDT 2009</td>\n",
       "      <td>NO_QUERY</td>\n",
       "      <td>mollier</td>\n",
       "      <td>@caseylynnm weird, that does suck.   I still h...</td>\n",
       "    </tr>\n",
       "    <tr>\n",
       "      <th>371730</th>\n",
       "      <td>0</td>\n",
       "      <td>2050504082</td>\n",
       "      <td>Fri Jun 05 18:47:15 PDT 2009</td>\n",
       "      <td>NO_QUERY</td>\n",
       "      <td>TickleMeStefy</td>\n",
       "      <td>Its not faire !! Why cant Bon Jovi come to Mon...</td>\n",
       "    </tr>\n",
       "    <tr>\n",
       "      <th>1362234</th>\n",
       "      <td>4</td>\n",
       "      <td>2049267461</td>\n",
       "      <td>Fri Jun 05 16:35:06 PDT 2009</td>\n",
       "      <td>NO_QUERY</td>\n",
       "      <td>_LostSoul_</td>\n",
       "      <td>@vagrantdead ty for the #followfriday playoff ...</td>\n",
       "    </tr>\n",
       "    <tr>\n",
       "      <th>1160689</th>\n",
       "      <td>4</td>\n",
       "      <td>1979449960</td>\n",
       "      <td>Sun May 31 03:05:52 PDT 2009</td>\n",
       "      <td>NO_QUERY</td>\n",
       "      <td>hannnahismyname</td>\n",
       "      <td>I'm playing pet society! hahaha It kills bored...</td>\n",
       "    </tr>\n",
       "  </tbody>\n",
       "</table>\n",
       "</div>"
      ],
      "text/plain": [
       "         Target         ids                          date      flag  \\\n",
       "1427351       4  2059381010  Sat Jun 06 16:49:06 PDT 2009  NO_QUERY   \n",
       "961269        4  1827030251  Sun May 17 09:50:35 PDT 2009  NO_QUERY   \n",
       "790898        0  2325798140  Thu Jun 25 06:04:48 PDT 2009  NO_QUERY   \n",
       "396033        0  2056256111  Sat Jun 06 10:48:45 PDT 2009  NO_QUERY   \n",
       "126930        0  1834618006  Mon May 18 03:36:56 PDT 2009  NO_QUERY   \n",
       "356585        0  2044323024  Fri Jun 05 09:11:24 PDT 2009  NO_QUERY   \n",
       "594501        0  2218528002  Wed Jun 17 22:38:52 PDT 2009  NO_QUERY   \n",
       "371730        0  2050504082  Fri Jun 05 18:47:15 PDT 2009  NO_QUERY   \n",
       "1362234       4  2049267461  Fri Jun 05 16:35:06 PDT 2009  NO_QUERY   \n",
       "1160689       4  1979449960  Sun May 31 03:05:52 PDT 2009  NO_QUERY   \n",
       "\n",
       "                    user                                               text  \n",
       "1427351  official_roxy_j                              Im back soo tweet me   \n",
       "961269               m4s                                     @Evelyncharmz   \n",
       "790898       xoxWENDYxox  The lil lion cried after I dropped him off in ...  \n",
       "396033        Pixie_Anna  @Uk_joedan_fan Thanks. She's seeing the neurol...  \n",
       "126930        LeaAndLuas  think its very hard to learn the little one, t...  \n",
       "356585     Peyton_Irving                                   raining today !   \n",
       "594501           mollier  @caseylynnm weird, that does suck.   I still h...  \n",
       "371730     TickleMeStefy  Its not faire !! Why cant Bon Jovi come to Mon...  \n",
       "1362234       _LostSoul_  @vagrantdead ty for the #followfriday playoff ...  \n",
       "1160689  hannnahismyname  I'm playing pet society! hahaha It kills bored...  "
      ]
     },
     "execution_count": 630,
     "metadata": {},
     "output_type": "execute_result"
    }
   ],
   "source": [
    "tweets_data.sample(10)"
   ]
  },
  {
   "cell_type": "code",
   "execution_count": 631,
   "id": "55fd7316-b6fd-4eb9-95bd-ce469ff63acb",
   "metadata": {},
   "outputs": [
    {
     "data": {
      "text/html": [
       "<div>\n",
       "<style scoped>\n",
       "    .dataframe tbody tr th:only-of-type {\n",
       "        vertical-align: middle;\n",
       "    }\n",
       "\n",
       "    .dataframe tbody tr th {\n",
       "        vertical-align: top;\n",
       "    }\n",
       "\n",
       "    .dataframe thead th {\n",
       "        text-align: right;\n",
       "    }\n",
       "</style>\n",
       "<table border=\"1\" class=\"dataframe\">\n",
       "  <thead>\n",
       "    <tr style=\"text-align: right;\">\n",
       "      <th></th>\n",
       "      <th>Target</th>\n",
       "      <th>ids</th>\n",
       "      <th>date</th>\n",
       "      <th>flag</th>\n",
       "      <th>user</th>\n",
       "      <th>text</th>\n",
       "    </tr>\n",
       "  </thead>\n",
       "  <tbody>\n",
       "    <tr>\n",
       "      <th>1599989</th>\n",
       "      <td>4</td>\n",
       "      <td>2193579249</td>\n",
       "      <td>Tue Jun 16 08:38:59 PDT 2009</td>\n",
       "      <td>NO_QUERY</td>\n",
       "      <td>razzberry5594</td>\n",
       "      <td>WOOOOO! Xbox is back</td>\n",
       "    </tr>\n",
       "    <tr>\n",
       "      <th>1599990</th>\n",
       "      <td>4</td>\n",
       "      <td>2193579284</td>\n",
       "      <td>Tue Jun 16 08:38:59 PDT 2009</td>\n",
       "      <td>NO_QUERY</td>\n",
       "      <td>AgustinaP</td>\n",
       "      <td>@rmedina @LaTati Mmmm  That sounds absolutely ...</td>\n",
       "    </tr>\n",
       "    <tr>\n",
       "      <th>1599991</th>\n",
       "      <td>4</td>\n",
       "      <td>2193579434</td>\n",
       "      <td>Tue Jun 16 08:39:00 PDT 2009</td>\n",
       "      <td>NO_QUERY</td>\n",
       "      <td>sdancingsteph</td>\n",
       "      <td>ReCoVeRiNg FrOm ThE lOnG wEeKeNd</td>\n",
       "    </tr>\n",
       "    <tr>\n",
       "      <th>1599992</th>\n",
       "      <td>4</td>\n",
       "      <td>2193579477</td>\n",
       "      <td>Tue Jun 16 08:39:00 PDT 2009</td>\n",
       "      <td>NO_QUERY</td>\n",
       "      <td>ChloeAmisha</td>\n",
       "      <td>@SCOOBY_GRITBOYS</td>\n",
       "    </tr>\n",
       "    <tr>\n",
       "      <th>1599993</th>\n",
       "      <td>4</td>\n",
       "      <td>2193579489</td>\n",
       "      <td>Tue Jun 16 08:39:00 PDT 2009</td>\n",
       "      <td>NO_QUERY</td>\n",
       "      <td>EvolveTom</td>\n",
       "      <td>@Cliff_Forster Yeah, that does work better tha...</td>\n",
       "    </tr>\n",
       "    <tr>\n",
       "      <th>1599994</th>\n",
       "      <td>4</td>\n",
       "      <td>2193601966</td>\n",
       "      <td>Tue Jun 16 08:40:49 PDT 2009</td>\n",
       "      <td>NO_QUERY</td>\n",
       "      <td>AmandaMarie1028</td>\n",
       "      <td>Just woke up. Having no school is the best fee...</td>\n",
       "    </tr>\n",
       "    <tr>\n",
       "      <th>1599995</th>\n",
       "      <td>4</td>\n",
       "      <td>2193601969</td>\n",
       "      <td>Tue Jun 16 08:40:49 PDT 2009</td>\n",
       "      <td>NO_QUERY</td>\n",
       "      <td>TheWDBoards</td>\n",
       "      <td>TheWDB.com - Very cool to hear old Walt interv...</td>\n",
       "    </tr>\n",
       "    <tr>\n",
       "      <th>1599996</th>\n",
       "      <td>4</td>\n",
       "      <td>2193601991</td>\n",
       "      <td>Tue Jun 16 08:40:49 PDT 2009</td>\n",
       "      <td>NO_QUERY</td>\n",
       "      <td>bpbabe</td>\n",
       "      <td>Are you ready for your MoJo Makeover? Ask me f...</td>\n",
       "    </tr>\n",
       "    <tr>\n",
       "      <th>1599997</th>\n",
       "      <td>4</td>\n",
       "      <td>2193602064</td>\n",
       "      <td>Tue Jun 16 08:40:49 PDT 2009</td>\n",
       "      <td>NO_QUERY</td>\n",
       "      <td>tinydiamondz</td>\n",
       "      <td>Happy 38th Birthday to my boo of alll time!!! ...</td>\n",
       "    </tr>\n",
       "    <tr>\n",
       "      <th>1599998</th>\n",
       "      <td>4</td>\n",
       "      <td>2193602129</td>\n",
       "      <td>Tue Jun 16 08:40:50 PDT 2009</td>\n",
       "      <td>NO_QUERY</td>\n",
       "      <td>RyanTrevMorris</td>\n",
       "      <td>happy #charitytuesday @theNSPCC @SparksCharity...</td>\n",
       "    </tr>\n",
       "  </tbody>\n",
       "</table>\n",
       "</div>"
      ],
      "text/plain": [
       "         Target         ids                          date      flag  \\\n",
       "1599989       4  2193579249  Tue Jun 16 08:38:59 PDT 2009  NO_QUERY   \n",
       "1599990       4  2193579284  Tue Jun 16 08:38:59 PDT 2009  NO_QUERY   \n",
       "1599991       4  2193579434  Tue Jun 16 08:39:00 PDT 2009  NO_QUERY   \n",
       "1599992       4  2193579477  Tue Jun 16 08:39:00 PDT 2009  NO_QUERY   \n",
       "1599993       4  2193579489  Tue Jun 16 08:39:00 PDT 2009  NO_QUERY   \n",
       "1599994       4  2193601966  Tue Jun 16 08:40:49 PDT 2009  NO_QUERY   \n",
       "1599995       4  2193601969  Tue Jun 16 08:40:49 PDT 2009  NO_QUERY   \n",
       "1599996       4  2193601991  Tue Jun 16 08:40:49 PDT 2009  NO_QUERY   \n",
       "1599997       4  2193602064  Tue Jun 16 08:40:49 PDT 2009  NO_QUERY   \n",
       "1599998       4  2193602129  Tue Jun 16 08:40:50 PDT 2009  NO_QUERY   \n",
       "\n",
       "                    user                                               text  \n",
       "1599989    razzberry5594                              WOOOOO! Xbox is back   \n",
       "1599990        AgustinaP  @rmedina @LaTati Mmmm  That sounds absolutely ...  \n",
       "1599991    sdancingsteph                  ReCoVeRiNg FrOm ThE lOnG wEeKeNd   \n",
       "1599992      ChloeAmisha                                  @SCOOBY_GRITBOYS   \n",
       "1599993        EvolveTom  @Cliff_Forster Yeah, that does work better tha...  \n",
       "1599994  AmandaMarie1028  Just woke up. Having no school is the best fee...  \n",
       "1599995      TheWDBoards  TheWDB.com - Very cool to hear old Walt interv...  \n",
       "1599996           bpbabe  Are you ready for your MoJo Makeover? Ask me f...  \n",
       "1599997     tinydiamondz  Happy 38th Birthday to my boo of alll time!!! ...  \n",
       "1599998   RyanTrevMorris  happy #charitytuesday @theNSPCC @SparksCharity...  "
      ]
     },
     "execution_count": 631,
     "metadata": {},
     "output_type": "execute_result"
    }
   ],
   "source": [
    "tweets_data.tail(10)"
   ]
  },
  {
   "cell_type": "code",
   "execution_count": 632,
   "id": "d614b4b6-52e8-46ad-a197-6637677e4c27",
   "metadata": {},
   "outputs": [],
   "source": [
    "tweets_data.replace({\"Target\":{4:1}}, inplace = True) # Making Target 0----4 to 0----1"
   ]
  },
  {
   "cell_type": "code",
   "execution_count": 633,
   "id": "786014f0-ea12-42f7-96ec-f8ca99abe821",
   "metadata": {},
   "outputs": [
    {
     "name": "stdout",
     "output_type": "stream",
     "text": [
      "<class 'pandas.core.frame.DataFrame'>\n",
      "RangeIndex: 1599999 entries, 0 to 1599998\n",
      "Data columns (total 6 columns):\n",
      " #   Column  Non-Null Count    Dtype \n",
      "---  ------  --------------    ----- \n",
      " 0   Target  1599999 non-null  int64 \n",
      " 1   ids     1599999 non-null  int64 \n",
      " 2   date    1599999 non-null  object\n",
      " 3   flag    1599999 non-null  object\n",
      " 4   user    1599999 non-null  object\n",
      " 5   text    1599999 non-null  object\n",
      "dtypes: int64(2), object(4)\n",
      "memory usage: 73.2+ MB\n"
     ]
    }
   ],
   "source": [
    "tweets_data.info()"
   ]
  },
  {
   "cell_type": "code",
   "execution_count": 634,
   "id": "28e0b944-0334-4238-b81e-aa9a94e9892b",
   "metadata": {},
   "outputs": [
    {
     "data": {
      "text/plain": [
       "0"
      ]
     },
     "execution_count": 634,
     "metadata": {},
     "output_type": "execute_result"
    }
   ],
   "source": [
    "tweets_data.duplicated().sum() # Check duplicates in Data set"
   ]
  },
  {
   "cell_type": "code",
   "execution_count": 635,
   "id": "9583d6da-de14-466d-af77-d4eef73ea96b",
   "metadata": {},
   "outputs": [
    {
     "data": {
      "text/plain": [
       "1685"
      ]
     },
     "execution_count": 635,
     "metadata": {},
     "output_type": "execute_result"
    }
   ],
   "source": [
    "tweets_data.ids.duplicated().sum() # Check duplicate ids"
   ]
  },
  {
   "cell_type": "code",
   "execution_count": 636,
   "id": "355a1165-5599-46a2-9a06-984c62286f6b",
   "metadata": {},
   "outputs": [],
   "source": [
    "# Creating a new column for Length of Every tweet\n",
    "tweets_data['text_length'] = tweets_data['text'].apply(len)"
   ]
  },
  {
   "cell_type": "code",
   "execution_count": 637,
   "id": "c82919d2-f7cb-43c3-a0b3-7aaee46c11f3",
   "metadata": {},
   "outputs": [
    {
     "data": {
      "text/plain": [
       "0          111\n",
       "1           89\n",
       "2           47\n",
       "3          111\n",
       "4           29\n",
       "          ... \n",
       "1599994     56\n",
       "1599995     81\n",
       "1599996     57\n",
       "1599997     65\n",
       "1599998     62\n",
       "Name: text_length, Length: 1599999, dtype: int64"
      ]
     },
     "execution_count": 637,
     "metadata": {},
     "output_type": "execute_result"
    }
   ],
   "source": [
    "tweets_data[\"text_length\"]"
   ]
  },
  {
   "cell_type": "code",
   "execution_count": 638,
   "id": "6bb05c55-9b2e-45d4-a562-6ae261426e47",
   "metadata": {},
   "outputs": [
    {
     "data": {
      "text/plain": [
       "717"
      ]
     },
     "execution_count": 638,
     "metadata": {},
     "output_type": "execute_result"
    }
   ],
   "source": [
    "max(tweets_data.text_length) # Maximum length of tweet"
   ]
  },
  {
   "cell_type": "code",
   "execution_count": 639,
   "id": "30509601-8733-4263-a3cf-81e742285f48",
   "metadata": {
    "scrolled": true
   },
   "outputs": [
    {
     "name": "stdout",
     "output_type": "stream",
     "text": [
      "0          is upset that he can't update his Facebook by ...\n",
      "1          @Kenichan I dived many times for the ball. Man...\n",
      "2            my whole body feels itchy and like its on fire \n",
      "3          @nationwideclass no, it's not behaving at all....\n",
      "4                              @Kwesidei not the whole crew \n",
      "                                 ...                        \n",
      "1599994    Just woke up. Having no school is the best fee...\n",
      "1599995    TheWDB.com - Very cool to hear old Walt interv...\n",
      "1599996    Are you ready for your MoJo Makeover? Ask me f...\n",
      "1599997    Happy 38th Birthday to my boo of alll time!!! ...\n",
      "1599998    happy #charitytuesday @theNSPCC @SparksCharity...\n",
      "Name: text, Length: 1599999, dtype: object\n"
     ]
    }
   ],
   "source": [
    "print(tweets_data[\"text\"])"
   ]
  },
  {
   "cell_type": "code",
   "execution_count": 640,
   "id": "cc30b2b7-0829-4fb4-804c-47736df5217a",
   "metadata": {},
   "outputs": [
    {
     "data": {
      "text/plain": [
       "6"
      ]
     },
     "execution_count": 640,
     "metadata": {},
     "output_type": "execute_result"
    }
   ],
   "source": [
    "tweets_data[\"text\"].str.len().min() # minimum length tweet"
   ]
  },
  {
   "cell_type": "code",
   "execution_count": 641,
   "id": "fa372a4c-025c-4a19-96ac-4a16402bd828",
   "metadata": {},
   "outputs": [
    {
     "data": {
      "text/plain": [
       "4232"
      ]
     },
     "execution_count": 641,
     "metadata": {},
     "output_type": "execute_result"
    }
   ],
   "source": [
    "tweets_data[\"text\"].str.len().idxmin() # minimum length tweet inex"
   ]
  },
  {
   "cell_type": "code",
   "execution_count": 642,
   "id": "d0db8189-7f6a-4bc7-b205-59ffbcb39b75",
   "metadata": {},
   "outputs": [
    {
     "data": {
      "text/plain": [
       "' just '"
      ]
     },
     "execution_count": 642,
     "metadata": {},
     "output_type": "execute_result"
    }
   ],
   "source": [
    "tweets_data.text[tweets_data[\"text\"].str.len().idxmin()]"
   ]
  },
  {
   "cell_type": "code",
   "execution_count": 643,
   "id": "043308b1-5c4e-46da-af33-6b2557cc5cfd",
   "metadata": {},
   "outputs": [],
   "source": [
    "min_value = tweets_data.text[tweets_data.text.str.len().idxmin()] # Same as above but different method"
   ]
  },
  {
   "cell_type": "code",
   "execution_count": 644,
   "id": "11a5fe0a-c645-43f3-a494-fa5c589b4c8e",
   "metadata": {},
   "outputs": [
    {
     "data": {
      "text/plain": [
       "' just '"
      ]
     },
     "execution_count": 644,
     "metadata": {},
     "output_type": "execute_result"
    }
   ],
   "source": [
    "min_value"
   ]
  },
  {
   "cell_type": "code",
   "execution_count": 645,
   "id": "5e6d5399-d2b1-4168-8607-a2f8bd28d9b9",
   "metadata": {},
   "outputs": [
    {
     "data": {
      "text/plain": [
       "6"
      ]
     },
     "execution_count": 645,
     "metadata": {},
     "output_type": "execute_result"
    }
   ],
   "source": [
    "len(min_value)"
   ]
  },
  {
   "cell_type": "code",
   "execution_count": 646,
   "id": "6f3e036b-8aa9-4a2d-b373-3f8247e55730",
   "metadata": {},
   "outputs": [],
   "source": [
    "max_value = tweets_data.text[tweets_data.text.str.len().idxmax()] # Same as above but different method"
   ]
  },
  {
   "cell_type": "code",
   "execution_count": 647,
   "id": "85ec9a30-0b86-4f57-a2b1-2ebf9413633b",
   "metadata": {},
   "outputs": [
    {
     "data": {
      "text/plain": [
       "717"
      ]
     },
     "execution_count": 647,
     "metadata": {},
     "output_type": "execute_result"
    }
   ],
   "source": [
    "len(max_value)"
   ]
  },
  {
   "cell_type": "code",
   "execution_count": null,
   "id": "43920768-befc-4c23-b522-c76d30d8699d",
   "metadata": {},
   "outputs": [],
   "source": []
  },
  {
   "cell_type": "code",
   "execution_count": 648,
   "id": "346ddf38-a774-4368-a18b-9c2bd500d773",
   "metadata": {},
   "outputs": [
    {
     "data": {
      "image/png": "[encoded data removed]",
      "text/plain": [
       "<Figure size 500x500 with 1 Axes>"
      ]
     },
     "metadata": {},
     "output_type": "display_data"
    }
   ],
   "source": [
    "plt.figure(figsize=(5,5))\n",
    "plt.bar(['Min lenth of tweet', 'Max length of tweet'], [len(min_value), len(max_value)], color=['blue', 'red'], )\n",
    "plt.xlabel('Value Type')\n",
    "plt.ylabel('Values')\n",
    "plt.title('Minimum and Maximum Values')\n",
    "plt.show()"
   ]
  },
  {
   "cell_type": "code",
   "execution_count": 649,
   "id": "aeea8206-fb6f-4d6d-b011-ac7851ce1453",
   "metadata": {},
   "outputs": [
    {
     "data": {
      "text/plain": [
       "717"
      ]
     },
     "execution_count": 649,
     "metadata": {},
     "output_type": "execute_result"
    }
   ],
   "source": [
    "tweets_data[\"text\"].str.len().max() # minimum length tweet"
   ]
  },
  {
   "cell_type": "code",
   "execution_count": 650,
   "id": "d4c772d9-beff-4228-999e-2e043d2669fc",
   "metadata": {},
   "outputs": [
    {
     "name": "stdout",
     "output_type": "stream",
     "text": [
      "Tweet with maximum length:  717 \n",
      "\n",
      "@catfish_ohm Ã Â¹ÂÃ Â¸ÂÃ Â¹ÂÃ Â¸Â²Ã Â¹ÂÃ Â¸Â«Ã Â¹ÂÃ Â¸?Ã Â¸Â²Ã Â¸Â£Ã Â¹ÂÃ Â¸ÂÃ Â¸Â¹Ã Â¸ÂÃ Â¸?Ã Â¸Â¸Ã Â¹ÂÃ Â¸Â£Ã Â¸Â°(Ã Â¸ÂªÃ Â¸Â±Ã Â¸ÂªÃ Â¹Â+Ã Â¸Â¢Ã Â¸Â¹Ã Â¸Â£Ã Â¸Â´Ã Â¹?Ã Â¸?Ã Â¹ÂÃ Â¸ÂÃ Â¹ÂÃ Â¹?Ã Â¸ÂÃ Â¸ÂÃ Â¸ÂÃ Â¸Â°Ã Â¸ÂÃ Â¸Â­Ã Â¸ÂÃ Â¸ÂµÃ Â¸Â¡Ã Â¸Â´Ã Â¹ÂÃ Â¸?Ã Â¸Â°Ã Â¸Â«Ã Â¸Â§Ã Â¸Â(Ã Â¸ÂÃ Â¸ÂÃ Â¸Â²Ã Â¸ÂÃ Â¹ÂÃ Â¸ÂÃ Â¸Â´Ã Â¸ÂÃ Â¹?Ã Â¸?Ã Â¸Â¢Ã Â¸Â±Ã Â¸ÂÃ Â¹ÂÃ Â¸ÂÃ Â¸Â¢Ã Â¹ÂÃ Â¸Â«Ã Â¹ÂÃ Â¹ÂÃ Â¸Â¡Ã Â¹ÂÃ Â¹ÂÃ Â¸ÂÃ Â¹ÂÃ Â¹ÂÃ Â¸Â«Ã Â¸Â£Ã Â¸Â­.Ã Â¹?Ã Â¸ÂÃ Â¹ÂÃ Â¸ÂÃ Â¹ÂÃ Â¸Â²Ã Â¸ÂÃ Â¹ÂÃ Â¸Â«Ã Â¸Â­Ã Â¸Â°Ã Â¸Â£Ã Â¸Â²Ã Â¸Â¢Ã Â¸ÂÃ Â¸Â±Ã Â¹ÂÃ Â¸ÂÃ Â¹ÂÃ Â¸ÂÃ Â¸Â²Ã Â¹ÂÃ Â¸Â¡Ã Â¹ÂÃ Â¸Â­Ã Â¸Â°Ã Â¸?Ã Â¸Â§Ã Â¹ÂÃ Â¸Â²Ã Â¸ÂÃ Â¸Â¥Ã Â¸Â²Ã Â¹?Ã Â¸Â¡Ã Â¸Â§Ã Â¹ÂÃ Â¸Â¢Ã Â¸Â­Ã Â¸Â° = \n"
     ]
    }
   ],
   "source": [
    "tweets_data['text_length'] = tweets_data['text'].apply(len)\n",
    "# Find the index of the maximum length\n",
    "max_length_index = tweets_data['text_length'].idxmax()\n",
    "# Retrieve the tweet with the maximum length\n",
    "max_length_tweet = tweets_data.loc[max_length_index, 'text']\n",
    "print(\"Tweet with maximum length: \", len(max_length_tweet),\"\\n\")\n",
    "print(max_length_tweet)"
   ]
  },
  {
   "cell_type": "code",
   "execution_count": 651,
   "id": "447d436e-db78-4b42-a6c1-095f202afe60",
   "metadata": {},
   "outputs": [
    {
     "name": "stdout",
     "output_type": "stream",
     "text": [
      "Tweet with maximum length:  6\n",
      " just \n"
     ]
    }
   ],
   "source": [
    "tweets_data['text_length'] = tweets_data['text'].apply(len)\n",
    "# Find the index of the maximum length\n",
    "min_length_index = tweets_data['text_length'].idxmin()\n",
    "# Retrieve the tweet with the maximum length\n",
    "min_length_tweet = tweets_data.loc[min_length_index, 'text']\n",
    "print(\"Tweet with maximum length: \", len(min_length_tweet))\n",
    "print(min_length_tweet)"
   ]
  },
  {
   "cell_type": "code",
   "execution_count": 652,
   "id": "ed00028f-f3ca-45da-bd48-2e96a273d432",
   "metadata": {},
   "outputs": [
    {
     "data": {
      "text/plain": [
       "<Axes: >"
      ]
     },
     "execution_count": 652,
     "metadata": {},
     "output_type": "execute_result"
    },
    {
     "data": {
      "image/png": "[encoded data removed]",
      "text/plain": [
       "<Figure size 1300x500 with 1 Axes>"
      ]
     },
     "metadata": {},
     "output_type": "display_data"
    }
   ],
   "source": [
    "tweets_data[\"text_length\"].hist(bins = 50, figsize = (13,5), color = 'r')"
   ]
  },
  {
   "cell_type": "code",
   "execution_count": 653,
   "id": "9f8d11e2-ab14-4e22-83c1-a773eb44a1fa",
   "metadata": {},
   "outputs": [
    {
     "data": {
      "text/plain": [
       "<Axes: >"
      ]
     },
     "execution_count": 653,
     "metadata": {},
     "output_type": "execute_result"
    },
    {
     "data": {
      "image/png": "[encoded data removed]",
      "text/plain": [
       "<Figure size 1300x500 with 1 Axes>"
      ]
     },
     "metadata": {},
     "output_type": "display_data"
    }
   ],
   "source": [
    "tweets_data[\"Target\"].hist(bins = 5, figsize = (13,5), color = 'b')"
   ]
  },
  {
   "cell_type": "code",
   "execution_count": 654,
   "id": "ab05d8c8-ce28-4ab7-bfdc-19f2e5c97bca",
   "metadata": {},
   "outputs": [],
   "source": [
    "# My Dataset is very Large to perform Analysis I'm using just a subset form it"
   ]
  },
  {
   "cell_type": "code",
   "execution_count": 655,
   "id": "d6f76064-8418-4f80-a4cb-e481c3c2c39b",
   "metadata": {},
   "outputs": [
    {
     "name": "stderr",
     "output_type": "stream",
     "text": [
      "/tmp/ipykernel_5457/1907819345.py:1: FutureWarning: Parsed string \"Mon Apr 06 22:19:49 PDT 2009\" included an un-recognized timezone \"PDT\". Dropping unrecognized timezones is deprecated; in a future version this will raise. Instead pass the string without the timezone, then use .tz_localize to convert to a recognized timezone.\n",
      "  tweets_data['tweet_created'] = pd.to_datetime(tweets_data['date']).dt.date\n"
     ]
    },
    {
     "data": {
      "text/html": [
       "<div>\n",
       "<style scoped>\n",
       "    .dataframe tbody tr th:only-of-type {\n",
       "        vertical-align: middle;\n",
       "    }\n",
       "\n",
       "    .dataframe tbody tr th {\n",
       "        vertical-align: top;\n",
       "    }\n",
       "\n",
       "    .dataframe thead th {\n",
       "        text-align: right;\n",
       "    }\n",
       "</style>\n",
       "<table border=\"1\" class=\"dataframe\">\n",
       "  <thead>\n",
       "    <tr style=\"text-align: right;\">\n",
       "      <th></th>\n",
       "      <th>Date</th>\n",
       "      <th>Count</th>\n",
       "    </tr>\n",
       "  </thead>\n",
       "  <tbody>\n",
       "    <tr>\n",
       "      <th>0</th>\n",
       "      <td>2009-04-06</td>\n",
       "      <td>3359</td>\n",
       "    </tr>\n",
       "    <tr>\n",
       "      <th>1</th>\n",
       "      <td>2009-04-07</td>\n",
       "      <td>17311</td>\n",
       "    </tr>\n",
       "    <tr>\n",
       "      <th>2</th>\n",
       "      <td>2009-04-17</td>\n",
       "      <td>3084</td>\n",
       "    </tr>\n",
       "    <tr>\n",
       "      <th>3</th>\n",
       "      <td>2009-04-18</td>\n",
       "      <td>21754</td>\n",
       "    </tr>\n",
       "    <tr>\n",
       "      <th>4</th>\n",
       "      <td>2009-04-19</td>\n",
       "      <td>27469</td>\n",
       "    </tr>\n",
       "    <tr>\n",
       "      <th>5</th>\n",
       "      <td>2009-04-20</td>\n",
       "      <td>18460</td>\n",
       "    </tr>\n",
       "    <tr>\n",
       "      <th>6</th>\n",
       "      <td>2009-04-21</td>\n",
       "      <td>8587</td>\n",
       "    </tr>\n",
       "    <tr>\n",
       "      <th>7</th>\n",
       "      <td>2009-05-01</td>\n",
       "      <td>7716</td>\n",
       "    </tr>\n",
       "    <tr>\n",
       "      <th>8</th>\n",
       "      <td>2009-05-02</td>\n",
       "      <td>27434</td>\n",
       "    </tr>\n",
       "    <tr>\n",
       "      <th>9</th>\n",
       "      <td>2009-05-03</td>\n",
       "      <td>35333</td>\n",
       "    </tr>\n",
       "    <tr>\n",
       "      <th>10</th>\n",
       "      <td>2009-05-04</td>\n",
       "      <td>15481</td>\n",
       "    </tr>\n",
       "    <tr>\n",
       "      <th>11</th>\n",
       "      <td>2009-05-09</td>\n",
       "      <td>11739</td>\n",
       "    </tr>\n",
       "    <tr>\n",
       "      <th>12</th>\n",
       "      <td>2009-05-10</td>\n",
       "      <td>26029</td>\n",
       "    </tr>\n",
       "    <tr>\n",
       "      <th>13</th>\n",
       "      <td>2009-05-11</td>\n",
       "      <td>4186</td>\n",
       "    </tr>\n",
       "    <tr>\n",
       "      <th>14</th>\n",
       "      <td>2009-05-13</td>\n",
       "      <td>4066</td>\n",
       "    </tr>\n",
       "    <tr>\n",
       "      <th>15</th>\n",
       "      <td>2009-05-14</td>\n",
       "      <td>17460</td>\n",
       "    </tr>\n",
       "    <tr>\n",
       "      <th>16</th>\n",
       "      <td>2009-05-16</td>\n",
       "      <td>9146</td>\n",
       "    </tr>\n",
       "    <tr>\n",
       "      <th>17</th>\n",
       "      <td>2009-05-17</td>\n",
       "      <td>40154</td>\n",
       "    </tr>\n",
       "    <tr>\n",
       "      <th>18</th>\n",
       "      <td>2009-05-18</td>\n",
       "      <td>36469</td>\n",
       "    </tr>\n",
       "    <tr>\n",
       "      <th>19</th>\n",
       "      <td>2009-05-21</td>\n",
       "      <td>2132</td>\n",
       "    </tr>\n",
       "    <tr>\n",
       "      <th>20</th>\n",
       "      <td>2009-05-22</td>\n",
       "      <td>39074</td>\n",
       "    </tr>\n",
       "    <tr>\n",
       "      <th>21</th>\n",
       "      <td>2009-05-23</td>\n",
       "      <td>169</td>\n",
       "    </tr>\n",
       "    <tr>\n",
       "      <th>22</th>\n",
       "      <td>2009-05-25</td>\n",
       "      <td>169</td>\n",
       "    </tr>\n",
       "    <tr>\n",
       "      <th>23</th>\n",
       "      <td>2009-05-26</td>\n",
       "      <td>10778</td>\n",
       "    </tr>\n",
       "    <tr>\n",
       "      <th>24</th>\n",
       "      <td>2009-05-27</td>\n",
       "      <td>841</td>\n",
       "    </tr>\n",
       "    <tr>\n",
       "      <th>25</th>\n",
       "      <td>2009-05-28</td>\n",
       "      <td>15903</td>\n",
       "    </tr>\n",
       "    <tr>\n",
       "      <th>26</th>\n",
       "      <td>2009-05-29</td>\n",
       "      <td>73827</td>\n",
       "    </tr>\n",
       "    <tr>\n",
       "      <th>27</th>\n",
       "      <td>2009-05-30</td>\n",
       "      <td>103673</td>\n",
       "    </tr>\n",
       "    <tr>\n",
       "      <th>28</th>\n",
       "      <td>2009-05-31</td>\n",
       "      <td>94588</td>\n",
       "    </tr>\n",
       "    <tr>\n",
       "      <th>29</th>\n",
       "      <td>2009-06-01</td>\n",
       "      <td>110290</td>\n",
       "    </tr>\n",
       "    <tr>\n",
       "      <th>30</th>\n",
       "      <td>2009-06-02</td>\n",
       "      <td>64192</td>\n",
       "    </tr>\n",
       "    <tr>\n",
       "      <th>31</th>\n",
       "      <td>2009-06-03</td>\n",
       "      <td>41588</td>\n",
       "    </tr>\n",
       "    <tr>\n",
       "      <th>32</th>\n",
       "      <td>2009-06-04</td>\n",
       "      <td>7842</td>\n",
       "    </tr>\n",
       "    <tr>\n",
       "      <th>33</th>\n",
       "      <td>2009-06-05</td>\n",
       "      <td>58757</td>\n",
       "    </tr>\n",
       "    <tr>\n",
       "      <th>34</th>\n",
       "      <td>2009-06-06</td>\n",
       "      <td>111676</td>\n",
       "    </tr>\n",
       "    <tr>\n",
       "      <th>35</th>\n",
       "      <td>2009-06-07</td>\n",
       "      <td>96350</td>\n",
       "    </tr>\n",
       "    <tr>\n",
       "      <th>36</th>\n",
       "      <td>2009-06-14</td>\n",
       "      <td>8272</td>\n",
       "    </tr>\n",
       "    <tr>\n",
       "      <th>37</th>\n",
       "      <td>2009-06-15</td>\n",
       "      <td>109781</td>\n",
       "    </tr>\n",
       "    <tr>\n",
       "      <th>38</th>\n",
       "      <td>2009-06-16</td>\n",
       "      <td>67980</td>\n",
       "    </tr>\n",
       "    <tr>\n",
       "      <th>39</th>\n",
       "      <td>2009-06-17</td>\n",
       "      <td>44012</td>\n",
       "    </tr>\n",
       "    <tr>\n",
       "      <th>40</th>\n",
       "      <td>2009-06-18</td>\n",
       "      <td>43004</td>\n",
       "    </tr>\n",
       "    <tr>\n",
       "      <th>41</th>\n",
       "      <td>2009-06-19</td>\n",
       "      <td>43136</td>\n",
       "    </tr>\n",
       "    <tr>\n",
       "      <th>42</th>\n",
       "      <td>2009-06-20</td>\n",
       "      <td>45364</td>\n",
       "    </tr>\n",
       "    <tr>\n",
       "      <th>43</th>\n",
       "      <td>2009-06-21</td>\n",
       "      <td>16360</td>\n",
       "    </tr>\n",
       "    <tr>\n",
       "      <th>44</th>\n",
       "      <td>2009-06-22</td>\n",
       "      <td>12009</td>\n",
       "    </tr>\n",
       "    <tr>\n",
       "      <th>45</th>\n",
       "      <td>2009-06-23</td>\n",
       "      <td>17002</td>\n",
       "    </tr>\n",
       "    <tr>\n",
       "      <th>46</th>\n",
       "      <td>2009-06-24</td>\n",
       "      <td>6299</td>\n",
       "    </tr>\n",
       "    <tr>\n",
       "      <th>47</th>\n",
       "      <td>2009-06-25</td>\n",
       "      <td>19694</td>\n",
       "    </tr>\n",
       "  </tbody>\n",
       "</table>\n",
       "</div>"
      ],
      "text/plain": [
       "          Date   Count\n",
       "0   2009-04-06    3359\n",
       "1   2009-04-07   17311\n",
       "2   2009-04-17    3084\n",
       "3   2009-04-18   21754\n",
       "4   2009-04-19   27469\n",
       "5   2009-04-20   18460\n",
       "6   2009-04-21    8587\n",
       "7   2009-05-01    7716\n",
       "8   2009-05-02   27434\n",
       "9   2009-05-03   35333\n",
       "10  2009-05-04   15481\n",
       "11  2009-05-09   11739\n",
       "12  2009-05-10   26029\n",
       "13  2009-05-11    4186\n",
       "14  2009-05-13    4066\n",
       "15  2009-05-14   17460\n",
       "16  2009-05-16    9146\n",
       "17  2009-05-17   40154\n",
       "18  2009-05-18   36469\n",
       "19  2009-05-21    2132\n",
       "20  2009-05-22   39074\n",
       "21  2009-05-23     169\n",
       "22  2009-05-25     169\n",
       "23  2009-05-26   10778\n",
       "24  2009-05-27     841\n",
       "25  2009-05-28   15903\n",
       "26  2009-05-29   73827\n",
       "27  2009-05-30  103673\n",
       "28  2009-05-31   94588\n",
       "29  2009-06-01  110290\n",
       "30  2009-06-02   64192\n",
       "31  2009-06-03   41588\n",
       "32  2009-06-04    7842\n",
       "33  2009-06-05   58757\n",
       "34  2009-06-06  111676\n",
       "35  2009-06-07   96350\n",
       "36  2009-06-14    8272\n",
       "37  2009-06-15  109781\n",
       "38  2009-06-16   67980\n",
       "39  2009-06-17   44012\n",
       "40  2009-06-18   43004\n",
       "41  2009-06-19   43136\n",
       "42  2009-06-20   45364\n",
       "43  2009-06-21   16360\n",
       "44  2009-06-22   12009\n",
       "45  2009-06-23   17002\n",
       "46  2009-06-24    6299\n",
       "47  2009-06-25   19694"
      ]
     },
     "execution_count": 655,
     "metadata": {},
     "output_type": "execute_result"
    }
   ],
   "source": [
    "tweets_data['tweet_created'] = pd.to_datetime(tweets_data['date']).dt.date\n",
    "numberoftweets = tweets_data.groupby('tweet_created').size()\n",
    "numberoftweets = numberoftweets.reset_index()\n",
    "numberoftweets.columns = ['Date', 'Count']\n",
    "numberoftweets"
   ]
  },
  {
   "cell_type": "code",
   "execution_count": 656,
   "id": "09162353-553f-4d96-890c-bb60759c1776",
   "metadata": {},
   "outputs": [
    {
     "data": {
      "text/plain": [
       "111676"
      ]
     },
     "execution_count": 656,
     "metadata": {},
     "output_type": "execute_result"
    }
   ],
   "source": [
    "numberoftweets.Count.max() # Maximum Tweets created in One Day"
   ]
  },
  {
   "cell_type": "code",
   "execution_count": 657,
   "id": "75429504-c039-4e35-9baf-b9549dea7bce",
   "metadata": {},
   "outputs": [
    {
     "data": {
      "text/plain": [
       "169"
      ]
     },
     "execution_count": 657,
     "metadata": {},
     "output_type": "execute_result"
    }
   ],
   "source": [
    "numberoftweets.Count.min() # Minimum tweets created in One Day"
   ]
  },
  {
   "cell_type": "code",
   "execution_count": 658,
   "id": "31c0445a-87ff-40e4-828b-54954fafa054",
   "metadata": {
    "scrolled": true
   },
   "outputs": [
    {
     "name": "stdout",
     "output_type": "stream",
     "text": [
      "Days with the same number of tweets:\n",
      "2009-05-23\n",
      "2009-05-25\n"
     ]
    }
   ],
   "source": [
    "# Find dates with the same number of tweets\n",
    "same_tweets_days = numberoftweets[numberoftweets['Count'].duplicated(keep=False)]['Date'].tolist()\n",
    "\n",
    "print(\"Days with the same number of tweets:\")\n",
    "for day in same_tweets_days:\n",
    "    print(day)\n",
    "\n",
    "    "
   ]
  },
  {
   "cell_type": "code",
   "execution_count": 659,
   "id": "fabc419f-c369-4d60-befb-475be82b5c80",
   "metadata": {},
   "outputs": [
    {
     "data": {
      "text/plain": [
       "48"
      ]
     },
     "execution_count": 659,
     "metadata": {},
     "output_type": "execute_result"
    }
   ],
   "source": [
    "tweets_data['tweet_created'].nunique()"
   ]
  },
  {
   "cell_type": "code",
   "execution_count": 660,
   "id": "568161f4-1db6-4c1d-8b92-a025fbcfa17e",
   "metadata": {},
   "outputs": [
    {
     "data": {
      "image/png": "[encoded data removed]",
      "text/plain": [
       "<Figure size 1000x600 with 1 Axes>"
      ]
     },
     "metadata": {},
     "output_type": "display_data"
    }
   ],
   "source": [
    "# Plotting\n",
    "plt.figure(figsize=(10, 6))\n",
    "sns.histplot(data = tweets_data, x = 'tweet_created', hue='Target', multiple='stack', palette={0: 'red', 1: 'green'})\n",
    "plt.xlabel('Number of Characters')\n",
    "plt.ylabel('Count')\n",
    "plt.title('Character Counts in Tweets by Sentiment')\n",
    "plt.show()"
   ]
  },
  {
   "cell_type": "code",
   "execution_count": 661,
   "id": "d3b2b460-29eb-4183-b808-b2eb0a8ba66e",
   "metadata": {},
   "outputs": [
    {
     "name": "stderr",
     "output_type": "stream",
     "text": [
      "/tmp/ipykernel_5457/3614696218.py:4: FutureWarning: \n",
      "\n",
      "Passing `palette` without assigning `hue` is deprecated and will be removed in v0.14.0. Assign the `y` variable to `hue` and set `legend=False` for the same effect.\n",
      "\n",
      "  sns.barplot(x=numberoftweets.Count, y=numberoftweets.Date, data=numberoftweets, palette=color, legend=False)\n"
     ]
    },
    {
     "data": {
      "image/png": "[encoded data removed]",
      "text/plain": [
       "<Figure size 1600x1600 with 1 Axes>"
      ]
     },
     "metadata": {},
     "output_type": "display_data"
    }
   ],
   "source": [
    "plt.figure(figsize=(16, 16))\n",
    "tweetcreated= tweets_data['tweet_created']\n",
    "color = sns.color_palette( \"husl\", len(numberoftweets))\n",
    "sns.barplot(x=numberoftweets.Count, y=numberoftweets.Date, data=numberoftweets, palette=color, legend=False)\n",
    "plt.title('Number of Tweets Created by Date')\n",
    "plt.ylabel(\"Counts of Tweets\")\n",
    "plt.xlabel(\"Date of Tweets\")\n",
    "plt.xticks(rotation=90)\n",
    "plt.show()"
   ]
  },
  {
   "cell_type": "markdown",
   "id": "0d1b4201-0d38-434a-b223-0076bccb51a1",
   "metadata": {},
   "source": [
    "# Sampling Data Set"
   ]
  },
  {
   "attachments": {
    "90415ade-41a3-4a04-acc1-434b4d0d1e09.png": {
     "image/png": "[encoded data removed]"
    }
   },
   "cell_type": "markdown",
   "id": "79d05a96-5f19-45f9-a878-0609d53e5283",
   "metadata": {
    "scrolled": true
   },
   "source": [
    "##### Data set contain millions of tweets. So i'm take few samples bcz it will lots of time to train. I used whole Dataset it took almost 40 mints in text processing. You can try Whole Dataset.\n",
    "\n",
    "![Screenshot from 2024-06-30 01-59-16.png](attachment:90415ade-41a3-4a04-acc1-434b4d0d1e09.png)"
   ]
  },
  {
   "cell_type": "code",
   "execution_count": 664,
   "id": "995f1b46-6c42-4fe1-818f-c867875a3524",
   "metadata": {},
   "outputs": [],
   "source": [
    "sample_data = original_data.sample(50000)"
   ]
  },
  {
   "cell_type": "code",
   "execution_count": 665,
   "id": "b621b654-eddf-45f0-a68c-be710641a643",
   "metadata": {},
   "outputs": [
    {
     "data": {
      "text/html": [
       "<div>\n",
       "<style scoped>\n",
       "    .dataframe tbody tr th:only-of-type {\n",
       "        vertical-align: middle;\n",
       "    }\n",
       "\n",
       "    .dataframe tbody tr th {\n",
       "        vertical-align: top;\n",
       "    }\n",
       "\n",
       "    .dataframe thead th {\n",
       "        text-align: right;\n",
       "    }\n",
       "</style>\n",
       "<table border=\"1\" class=\"dataframe\">\n",
       "  <thead>\n",
       "    <tr style=\"text-align: right;\">\n",
       "      <th></th>\n",
       "      <th>Target</th>\n",
       "      <th>ids</th>\n",
       "      <th>date</th>\n",
       "      <th>flag</th>\n",
       "      <th>user</th>\n",
       "      <th>text</th>\n",
       "    </tr>\n",
       "  </thead>\n",
       "  <tbody>\n",
       "    <tr>\n",
       "      <th>1442958</th>\n",
       "      <td>4</td>\n",
       "      <td>2062053422</td>\n",
       "      <td>Sat Jun 06 22:13:19 PDT 2009</td>\n",
       "      <td>NO_QUERY</td>\n",
       "      <td>KellyG5</td>\n",
       "      <td>http://twitpic.com/1uoev - ha ha what are you ...</td>\n",
       "    </tr>\n",
       "    <tr>\n",
       "      <th>34148</th>\n",
       "      <td>0</td>\n",
       "      <td>1564713481</td>\n",
       "      <td>Mon Apr 20 04:39:20 PDT 2009</td>\n",
       "      <td>NO_QUERY</td>\n",
       "      <td>cl4irethomas</td>\n",
       "      <td>@AnnieC1 could do with some sympathy ... she's...</td>\n",
       "    </tr>\n",
       "    <tr>\n",
       "      <th>789182</th>\n",
       "      <td>0</td>\n",
       "      <td>2325319004</td>\n",
       "      <td>Thu Jun 25 05:13:08 PDT 2009</td>\n",
       "      <td>NO_QUERY</td>\n",
       "      <td>acullenatheart</td>\n",
       "      <td>my iPhone is attempting to kill itself. Can't ...</td>\n",
       "    </tr>\n",
       "    <tr>\n",
       "      <th>724967</th>\n",
       "      <td>0</td>\n",
       "      <td>2262207910</td>\n",
       "      <td>Sat Jun 20 22:04:45 PDT 2009</td>\n",
       "      <td>NO_QUERY</td>\n",
       "      <td>locn</td>\n",
       "      <td>Zion and Vegas was so much awesomeness. Too ba...</td>\n",
       "    </tr>\n",
       "    <tr>\n",
       "      <th>956955</th>\n",
       "      <td>4</td>\n",
       "      <td>1825348470</td>\n",
       "      <td>Sun May 17 05:21:54 PDT 2009</td>\n",
       "      <td>NO_QUERY</td>\n",
       "      <td>CarlaJaynee</td>\n",
       "      <td>Aww, 100 followers! I feel loved  I love you g...</td>\n",
       "    </tr>\n",
       "    <tr>\n",
       "      <th>1302924</th>\n",
       "      <td>4</td>\n",
       "      <td>2008849072</td>\n",
       "      <td>Tue Jun 02 14:45:17 PDT 2009</td>\n",
       "      <td>NO_QUERY</td>\n",
       "      <td>salihagul</td>\n",
       "      <td>missing my daddio and laughing with him. i get...</td>\n",
       "    </tr>\n",
       "    <tr>\n",
       "      <th>1237897</th>\n",
       "      <td>4</td>\n",
       "      <td>1993141661</td>\n",
       "      <td>Mon Jun 01 09:53:57 PDT 2009</td>\n",
       "      <td>NO_QUERY</td>\n",
       "      <td>Janoita</td>\n",
       "      <td>Mmmm snickers ice cream</td>\n",
       "    </tr>\n",
       "    <tr>\n",
       "      <th>1293666</th>\n",
       "      <td>4</td>\n",
       "      <td>2003248623</td>\n",
       "      <td>Tue Jun 02 06:10:33 PDT 2009</td>\n",
       "      <td>NO_QUERY</td>\n",
       "      <td>Tehlem0n</td>\n",
       "      <td>@jessicatsang Im on study leave. Only have to ...</td>\n",
       "    </tr>\n",
       "    <tr>\n",
       "      <th>1057833</th>\n",
       "      <td>4</td>\n",
       "      <td>1962815334</td>\n",
       "      <td>Fri May 29 11:43:15 PDT 2009</td>\n",
       "      <td>NO_QUERY</td>\n",
       "      <td>katiePEACE</td>\n",
       "      <td>Ahahaha helping my uncle move hopfully hannah ...</td>\n",
       "    </tr>\n",
       "    <tr>\n",
       "      <th>312714</th>\n",
       "      <td>0</td>\n",
       "      <td>2001586656</td>\n",
       "      <td>Tue Jun 02 01:22:51 PDT 2009</td>\n",
       "      <td>NO_QUERY</td>\n",
       "      <td>mealienprobeu</td>\n",
       "      <td>Another financial dispute with my mother that ...</td>\n",
       "    </tr>\n",
       "  </tbody>\n",
       "</table>\n",
       "</div>"
      ],
      "text/plain": [
       "         Target         ids                          date      flag  \\\n",
       "1442958       4  2062053422  Sat Jun 06 22:13:19 PDT 2009  NO_QUERY   \n",
       "34148         0  1564713481  Mon Apr 20 04:39:20 PDT 2009  NO_QUERY   \n",
       "789182        0  2325319004  Thu Jun 25 05:13:08 PDT 2009  NO_QUERY   \n",
       "724967        0  2262207910  Sat Jun 20 22:04:45 PDT 2009  NO_QUERY   \n",
       "956955        4  1825348470  Sun May 17 05:21:54 PDT 2009  NO_QUERY   \n",
       "1302924       4  2008849072  Tue Jun 02 14:45:17 PDT 2009  NO_QUERY   \n",
       "1237897       4  1993141661  Mon Jun 01 09:53:57 PDT 2009  NO_QUERY   \n",
       "1293666       4  2003248623  Tue Jun 02 06:10:33 PDT 2009  NO_QUERY   \n",
       "1057833       4  1962815334  Fri May 29 11:43:15 PDT 2009  NO_QUERY   \n",
       "312714        0  2001586656  Tue Jun 02 01:22:51 PDT 2009  NO_QUERY   \n",
       "\n",
       "                   user                                               text  \n",
       "1442958         KellyG5  http://twitpic.com/1uoev - ha ha what are you ...  \n",
       "34148      cl4irethomas  @AnnieC1 could do with some sympathy ... she's...  \n",
       "789182   acullenatheart  my iPhone is attempting to kill itself. Can't ...  \n",
       "724967             locn  Zion and Vegas was so much awesomeness. Too ba...  \n",
       "956955      CarlaJaynee  Aww, 100 followers! I feel loved  I love you g...  \n",
       "1302924       salihagul  missing my daddio and laughing with him. i get...  \n",
       "1237897         Janoita                           Mmmm snickers ice cream   \n",
       "1293666        Tehlem0n  @jessicatsang Im on study leave. Only have to ...  \n",
       "1057833      katiePEACE  Ahahaha helping my uncle move hopfully hannah ...  \n",
       "312714    mealienprobeu  Another financial dispute with my mother that ...  "
      ]
     },
     "execution_count": 665,
     "metadata": {},
     "output_type": "execute_result"
    }
   ],
   "source": [
    "sample_data.head(10)"
   ]
  },
  {
   "cell_type": "code",
   "execution_count": 666,
   "id": "370dd519-dbdb-4f60-87a1-6fc22575d99a",
   "metadata": {},
   "outputs": [
    {
     "data": {
      "text/html": [
       "<div>\n",
       "<style scoped>\n",
       "    .dataframe tbody tr th:only-of-type {\n",
       "        vertical-align: middle;\n",
       "    }\n",
       "\n",
       "    .dataframe tbody tr th {\n",
       "        vertical-align: top;\n",
       "    }\n",
       "\n",
       "    .dataframe thead th {\n",
       "        text-align: right;\n",
       "    }\n",
       "</style>\n",
       "<table border=\"1\" class=\"dataframe\">\n",
       "  <thead>\n",
       "    <tr style=\"text-align: right;\">\n",
       "      <th></th>\n",
       "      <th>Target</th>\n",
       "      <th>ids</th>\n",
       "      <th>date</th>\n",
       "      <th>flag</th>\n",
       "      <th>user</th>\n",
       "      <th>text</th>\n",
       "    </tr>\n",
       "  </thead>\n",
       "  <tbody>\n",
       "    <tr>\n",
       "      <th>618693</th>\n",
       "      <td>0</td>\n",
       "      <td>2227618214</td>\n",
       "      <td>Thu Jun 18 13:25:24 PDT 2009</td>\n",
       "      <td>NO_QUERY</td>\n",
       "      <td>JGXO</td>\n",
       "      <td>Jus about ready, then off to IKEA w/ one of my...</td>\n",
       "    </tr>\n",
       "    <tr>\n",
       "      <th>477042</th>\n",
       "      <td>0</td>\n",
       "      <td>2178055311</td>\n",
       "      <td>Mon Jun 15 07:07:38 PDT 2009</td>\n",
       "      <td>NO_QUERY</td>\n",
       "      <td>itskb</td>\n",
       "      <td>the john lennon new york years exibit at the r...</td>\n",
       "    </tr>\n",
       "    <tr>\n",
       "      <th>1022957</th>\n",
       "      <td>4</td>\n",
       "      <td>1882912212</td>\n",
       "      <td>Fri May 22 07:41:48 PDT 2009</td>\n",
       "      <td>NO_QUERY</td>\n",
       "      <td>LeoWolfe</td>\n",
       "      <td>@xClureBearx thanks for the follow.</td>\n",
       "    </tr>\n",
       "    <tr>\n",
       "      <th>771971</th>\n",
       "      <td>0</td>\n",
       "      <td>2302595827</td>\n",
       "      <td>Tue Jun 23 17:01:48 PDT 2009</td>\n",
       "      <td>NO_QUERY</td>\n",
       "      <td>bobbysgirl1972</td>\n",
       "      <td>I have had the hiccups for the past 4 1/2 hrs....</td>\n",
       "    </tr>\n",
       "    <tr>\n",
       "      <th>205948</th>\n",
       "      <td>0</td>\n",
       "      <td>1973005538</td>\n",
       "      <td>Sat May 30 10:17:46 PDT 2009</td>\n",
       "      <td>NO_QUERY</td>\n",
       "      <td>sethu_j</td>\n",
       "      <td>why do no shops do gorgeous, big bags nowadays</td>\n",
       "    </tr>\n",
       "    <tr>\n",
       "      <th>1033361</th>\n",
       "      <td>4</td>\n",
       "      <td>1955775749</td>\n",
       "      <td>Thu May 28 20:36:19 PDT 2009</td>\n",
       "      <td>NO_QUERY</td>\n",
       "      <td>admance</td>\n",
       "      <td>@artfanatic411 Yes, I did...Twitterholic is my...</td>\n",
       "    </tr>\n",
       "    <tr>\n",
       "      <th>1413067</th>\n",
       "      <td>4</td>\n",
       "      <td>2056772328</td>\n",
       "      <td>Sat Jun 06 11:45:54 PDT 2009</td>\n",
       "      <td>NO_QUERY</td>\n",
       "      <td>Irv25</td>\n",
       "      <td>@David_DB your welcome!!!</td>\n",
       "    </tr>\n",
       "    <tr>\n",
       "      <th>416893</th>\n",
       "      <td>0</td>\n",
       "      <td>2061407079</td>\n",
       "      <td>Sat Jun 06 20:48:16 PDT 2009</td>\n",
       "      <td>NO_QUERY</td>\n",
       "      <td>kulex</td>\n",
       "      <td>Aww shit. Why did I decide to watch Grave of t...</td>\n",
       "    </tr>\n",
       "    <tr>\n",
       "      <th>812540</th>\n",
       "      <td>4</td>\n",
       "      <td>1548528643</td>\n",
       "      <td>Fri Apr 17 21:12:19 PDT 2009</td>\n",
       "      <td>NO_QUERY</td>\n",
       "      <td>xCAROxx</td>\n",
       "      <td>i love movies with sexy people in them.  theyr...</td>\n",
       "    </tr>\n",
       "    <tr>\n",
       "      <th>496806</th>\n",
       "      <td>0</td>\n",
       "      <td>2185683159</td>\n",
       "      <td>Mon Jun 15 17:45:00 PDT 2009</td>\n",
       "      <td>NO_QUERY</td>\n",
       "      <td>oliviaistaken</td>\n",
       "      <td>Going to tweet all I can before &amp;quot;Downtime...</td>\n",
       "    </tr>\n",
       "  </tbody>\n",
       "</table>\n",
       "</div>"
      ],
      "text/plain": [
       "         Target         ids                          date      flag  \\\n",
       "618693        0  2227618214  Thu Jun 18 13:25:24 PDT 2009  NO_QUERY   \n",
       "477042        0  2178055311  Mon Jun 15 07:07:38 PDT 2009  NO_QUERY   \n",
       "1022957       4  1882912212  Fri May 22 07:41:48 PDT 2009  NO_QUERY   \n",
       "771971        0  2302595827  Tue Jun 23 17:01:48 PDT 2009  NO_QUERY   \n",
       "205948        0  1973005538  Sat May 30 10:17:46 PDT 2009  NO_QUERY   \n",
       "1033361       4  1955775749  Thu May 28 20:36:19 PDT 2009  NO_QUERY   \n",
       "1413067       4  2056772328  Sat Jun 06 11:45:54 PDT 2009  NO_QUERY   \n",
       "416893        0  2061407079  Sat Jun 06 20:48:16 PDT 2009  NO_QUERY   \n",
       "812540        4  1548528643  Fri Apr 17 21:12:19 PDT 2009  NO_QUERY   \n",
       "496806        0  2185683159  Mon Jun 15 17:45:00 PDT 2009  NO_QUERY   \n",
       "\n",
       "                   user                                               text  \n",
       "618693             JGXO  Jus about ready, then off to IKEA w/ one of my...  \n",
       "477042            itskb  the john lennon new york years exibit at the r...  \n",
       "1022957        LeoWolfe               @xClureBearx thanks for the follow.   \n",
       "771971   bobbysgirl1972  I have had the hiccups for the past 4 1/2 hrs....  \n",
       "205948          sethu_j    why do no shops do gorgeous, big bags nowadays   \n",
       "1033361         admance  @artfanatic411 Yes, I did...Twitterholic is my...  \n",
       "1413067           Irv25                         @David_DB your welcome!!!   \n",
       "416893            kulex  Aww shit. Why did I decide to watch Grave of t...  \n",
       "812540          xCAROxx  i love movies with sexy people in them.  theyr...  \n",
       "496806    oliviaistaken  Going to tweet all I can before &quot;Downtime...  "
      ]
     },
     "execution_count": 666,
     "metadata": {},
     "output_type": "execute_result"
    }
   ],
   "source": [
    "sample_data.tail(10)"
   ]
  },
  {
   "cell_type": "code",
   "execution_count": 667,
   "id": "1736dc45-5c79-49e3-956b-7302512f5ece",
   "metadata": {},
   "outputs": [
    {
     "data": {
      "text/html": [
       "<div>\n",
       "<style scoped>\n",
       "    .dataframe tbody tr th:only-of-type {\n",
       "        vertical-align: middle;\n",
       "    }\n",
       "\n",
       "    .dataframe tbody tr th {\n",
       "        vertical-align: top;\n",
       "    }\n",
       "\n",
       "    .dataframe thead th {\n",
       "        text-align: right;\n",
       "    }\n",
       "</style>\n",
       "<table border=\"1\" class=\"dataframe\">\n",
       "  <thead>\n",
       "    <tr style=\"text-align: right;\">\n",
       "      <th></th>\n",
       "      <th>Target</th>\n",
       "      <th>ids</th>\n",
       "      <th>date</th>\n",
       "      <th>flag</th>\n",
       "      <th>user</th>\n",
       "      <th>text</th>\n",
       "    </tr>\n",
       "  </thead>\n",
       "  <tbody>\n",
       "    <tr>\n",
       "      <th>32249</th>\n",
       "      <td>0</td>\n",
       "      <td>1564211797</td>\n",
       "      <td>Mon Apr 20 02:21:01 PDT 2009</td>\n",
       "      <td>NO_QUERY</td>\n",
       "      <td>vspijker</td>\n",
       "      <td>Back at work........ again   tomorrow going to...</td>\n",
       "    </tr>\n",
       "    <tr>\n",
       "      <th>844138</th>\n",
       "      <td>4</td>\n",
       "      <td>1564005659</td>\n",
       "      <td>Mon Apr 20 01:17:35 PDT 2009</td>\n",
       "      <td>NO_QUERY</td>\n",
       "      <td>Rullet</td>\n",
       "      <td>@AMPRGROUP My street album free download http:...</td>\n",
       "    </tr>\n",
       "    <tr>\n",
       "      <th>93488</th>\n",
       "      <td>0</td>\n",
       "      <td>1770676922</td>\n",
       "      <td>Mon May 11 21:57:12 PDT 2009</td>\n",
       "      <td>NO_QUERY</td>\n",
       "      <td>sugarstar80</td>\n",
       "      <td>So fed up the Canucks are out of the playoffs....</td>\n",
       "    </tr>\n",
       "    <tr>\n",
       "      <th>1312056</th>\n",
       "      <td>4</td>\n",
       "      <td>2013576880</td>\n",
       "      <td>Tue Jun 02 23:01:16 PDT 2009</td>\n",
       "      <td>NO_QUERY</td>\n",
       "      <td>Lupeezy</td>\n",
       "      <td>My phone is Gona sleep before i do! Empress ke...</td>\n",
       "    </tr>\n",
       "    <tr>\n",
       "      <th>194912</th>\n",
       "      <td>0</td>\n",
       "      <td>1970391719</td>\n",
       "      <td>Sat May 30 03:40:50 PDT 2009</td>\n",
       "      <td>NO_QUERY</td>\n",
       "      <td>karmachord</td>\n",
       "      <td>@RedMummy I know  what a fool I am!</td>\n",
       "    </tr>\n",
       "    <tr>\n",
       "      <th>1079699</th>\n",
       "      <td>4</td>\n",
       "      <td>1968116955</td>\n",
       "      <td>Fri May 29 20:47:28 PDT 2009</td>\n",
       "      <td>NO_QUERY</td>\n",
       "      <td>MrsDawkins</td>\n",
       "      <td>@niyana where the link homie   y do i feel we ...</td>\n",
       "    </tr>\n",
       "    <tr>\n",
       "      <th>799299</th>\n",
       "      <td>0</td>\n",
       "      <td>2328936546</td>\n",
       "      <td>Thu Jun 25 10:09:37 PDT 2009</td>\n",
       "      <td>NO_QUERY</td>\n",
       "      <td>Tingbabe</td>\n",
       "      <td>not feeling good at all</td>\n",
       "    </tr>\n",
       "    <tr>\n",
       "      <th>705462</th>\n",
       "      <td>0</td>\n",
       "      <td>2256369245</td>\n",
       "      <td>Sat Jun 20 12:40:16 PDT 2009</td>\n",
       "      <td>NO_QUERY</td>\n",
       "      <td>_Catalyst</td>\n",
       "      <td>@xanderkitty OMG you poor thing. I would have ...</td>\n",
       "    </tr>\n",
       "    <tr>\n",
       "      <th>550302</th>\n",
       "      <td>0</td>\n",
       "      <td>2202875683</td>\n",
       "      <td>Tue Jun 16 22:34:55 PDT 2009</td>\n",
       "      <td>NO_QUERY</td>\n",
       "      <td>chekkacuomova</td>\n",
       "      <td>@sergeantkero are you using mac or windows? I ...</td>\n",
       "    </tr>\n",
       "    <tr>\n",
       "      <th>69188</th>\n",
       "      <td>0</td>\n",
       "      <td>1693179792</td>\n",
       "      <td>Sun May 03 21:47:07 PDT 2009</td>\n",
       "      <td>NO_QUERY</td>\n",
       "      <td>eltah_08</td>\n",
       "      <td>@RealPaulJohnson  it's always somethin wit u. ...</td>\n",
       "    </tr>\n",
       "  </tbody>\n",
       "</table>\n",
       "</div>"
      ],
      "text/plain": [
       "         Target         ids                          date      flag  \\\n",
       "32249         0  1564211797  Mon Apr 20 02:21:01 PDT 2009  NO_QUERY   \n",
       "844138        4  1564005659  Mon Apr 20 01:17:35 PDT 2009  NO_QUERY   \n",
       "93488         0  1770676922  Mon May 11 21:57:12 PDT 2009  NO_QUERY   \n",
       "1312056       4  2013576880  Tue Jun 02 23:01:16 PDT 2009  NO_QUERY   \n",
       "194912        0  1970391719  Sat May 30 03:40:50 PDT 2009  NO_QUERY   \n",
       "1079699       4  1968116955  Fri May 29 20:47:28 PDT 2009  NO_QUERY   \n",
       "799299        0  2328936546  Thu Jun 25 10:09:37 PDT 2009  NO_QUERY   \n",
       "705462        0  2256369245  Sat Jun 20 12:40:16 PDT 2009  NO_QUERY   \n",
       "550302        0  2202875683  Tue Jun 16 22:34:55 PDT 2009  NO_QUERY   \n",
       "69188         0  1693179792  Sun May 03 21:47:07 PDT 2009  NO_QUERY   \n",
       "\n",
       "                  user                                               text  \n",
       "32249         vspijker  Back at work........ again   tomorrow going to...  \n",
       "844138          Rullet  @AMPRGROUP My street album free download http:...  \n",
       "93488      sugarstar80  So fed up the Canucks are out of the playoffs....  \n",
       "1312056        Lupeezy  My phone is Gona sleep before i do! Empress ke...  \n",
       "194912      karmachord                @RedMummy I know  what a fool I am!  \n",
       "1079699     MrsDawkins  @niyana where the link homie   y do i feel we ...  \n",
       "799299        Tingbabe                           not feeling good at all   \n",
       "705462       _Catalyst  @xanderkitty OMG you poor thing. I would have ...  \n",
       "550302   chekkacuomova  @sergeantkero are you using mac or windows? I ...  \n",
       "69188         eltah_08  @RealPaulJohnson  it's always somethin wit u. ...  "
      ]
     },
     "execution_count": 667,
     "metadata": {},
     "output_type": "execute_result"
    }
   ],
   "source": [
    "sample_data.sample(10)"
   ]
  },
  {
   "cell_type": "code",
   "execution_count": 668,
   "id": "30473c33-df05-4b4b-8ea9-0e62aa6da08e",
   "metadata": {},
   "outputs": [],
   "source": [
    "sample_data.replace({\"Target\":{4:1}}, inplace = True)"
   ]
  },
  {
   "cell_type": "code",
   "execution_count": 669,
   "id": "8285632b-9469-4c8e-8a7d-c7156fc4f449",
   "metadata": {},
   "outputs": [],
   "source": [
    "# Removing the URl\n",
    "def rem_url(text):\n",
    "    url = re.compile(r'https?://\\S+|www\\.\\S+')\n",
    "    return url.sub(r'',text)\n",
    "\n",
    "# Removing the stepwords 'english'\n",
    "def rem_stopwords(text):\n",
    "    text = ' '.join([word for word in text.split() if word not in (stopwords.words('english'))])\n",
    "    return text\n",
    "\n",
    "# Removing the html  \n",
    "def rem_html(text):\n",
    "    html=re.compile(r'<.*?>')\n",
    "    return html.sub(r'',text)\n",
    "\n",
    "def remove_at_mentions(text):\n",
    "    return re.sub(r'@\\w+', '', text)\n",
    "\n",
    "\n",
    "# Removing emojis by codes\n",
    "def rem_emoji(text):\n",
    "    emoji_pattern = re.compile(\"[\"\n",
    "                           u\"\\U0001F600-\\U0001F64F\"  \n",
    "                           u\"\\U0001F300-\\U0001F5FF\" \n",
    "                           u\"\\U000024C2-\\U0001F251\"\n",
    "                           \"]+\", flags=re.UNICODE)\n",
    "    return emoji_pattern.sub(r'', text)\n",
    "\n",
    "\n",
    "# Fixing the text\n",
    "def fixing(text):\n",
    "    text = re.sub(r\"Mr\\'s\", \" he is\", text)\n",
    "    text = re.sub(r\"Mr\\'.\", \" he is\", text)\n",
    "    text = re.sub(r\"Ms\\'.\", \" She \", text)\n",
    "    text = re.sub(r\"She\\'s\", \" she is\", text)\n",
    "    text = re.sub(r\"I\\'m\", \" i am\", text)\n",
    "    text = re.sub(r\"haven\\'t\", \" have not\", text)\n",
    "    text = re.sub(r\"you\\'r\", \" you are\", text)\n",
    "    text = re.sub(r\"won\\'t\", \" will not\", text)\n",
    "    text = re.sub(r\"won\\'t've\", \" will not have\", text)\n",
    "    text = re.sub(r\"can\\'t\", \" can not\", text)\n",
    "    text = re.sub(r\"don\\'t\", \" do not\", text)\n",
    "    text = re.sub(r\" plz\", \" please\", text)\n",
    "    text = re.sub(r\"it\\'s\", \" its\", text) \n",
    "    text = re.sub(r\"can\\'t've\", \" can not have\", text)\n",
    "    text = re.sub(r\"ma\\'am\", \" madam\", text)\n",
    "    text = re.sub(r\"let\\'s\", \" let us\", text)\n",
    "    text = re.sub(r\"ain\\'t\", \" am not\", text)\n",
    "    text = re.sub(r\"shan\\'t\", \" shall not\", text)\n",
    "    text = re.sub(r\"sha\\n't\", \" shall not\", text)\n",
    "    text = re.sub(r\"o\\'clock\", \" of the clock\", text)\n",
    "    text = re.sub(r\"y\\'all\", \" you all\", text)\n",
    "    text = re.sub(r\"n\\'t\", \" not\", text)\n",
    "    text = re.sub(r\"n\\'t've\", \" not have\", text)\n",
    "    text = re.sub(r\"\\'re\", \" are\", text)\n",
    "    text = re.sub(r\"\\'s\", \" is\", text)\n",
    "    text = re.sub(r\"\\'d\", \" would\", text)\n",
    "    text = re.sub(r\"\\'d've\", \" would have\", text)\n",
    "    text = re.sub(r\"\\'ll\", \" will\", text)\n",
    "    text = re.sub(r\"\\'ll've\", \" will have\", text)\n",
    "    text = re.sub(r\"\\'t\", \" not\", text)\n",
    "    text = re.sub(r\"\\'ve\", \" have\", text)\n",
    "    text = re.sub(r\"\\'m\", \" am\", text)\n",
    "    text = re.sub(r\"\\'re\", \" are\", text)\n",
    "    text = re.sub(r\"He\\'s\", \" he is\", text)\n",
    "    text = re.sub(r\"in\\'s\", \" in\", text)\n",
    "    return text  \n",
    "\n",
    "# Seperate alphabets\n",
    "def sep_alphabets(text):\n",
    "    words = text\n",
    "    words = re.findall(r\"[^\\W\\d_]+|\\d+\", words)\n",
    "    return \" \".join(words)\n",
    "\n",
    "\n",
    "def tweet_to_words(tweet):\n",
    "    letters_only = re.sub(\"[^a-zA-Z]\", \" \",tweet) \n",
    "    words = letters_only.lower().split()                             \n",
    "    stops = set(stopwords.words(\"english\"))                  \n",
    "    meaningful_words = [w for w in words if not w in stops] \n",
    "    return( \" \".join( meaningful_words ))\n",
    "\n",
    "sample_data['final_tweet'] = sample_data['text']\n",
    "\n",
    "sample_data['final_tweet'] = sample_data['final_tweet'].astype(str).apply(remove_at_mentions)\n",
    "sample_data['final_tweet'] = sample_data['final_tweet'].apply(lambda x : rem_url(x))\n",
    "sample_data['final_tweet'] = sample_data['final_tweet'].apply(lambda x : rem_stopwords(x))\n",
    "sample_data['final_tweet'] = sample_data['final_tweet'].apply(lambda x : rem_html(x))\n",
    "sample_data['final_tweet'] = sample_data['final_tweet'].apply(lambda x : rem_emoji(x))\n",
    "sample_data['final_tweet'] = sample_data['final_tweet'].apply(lambda x : fixing(x))\n",
    "sample_data['final_tweet'] = sample_data['final_tweet'].apply(lambda x : sep_alphabets(x))\n",
    "sample_data['final_tweet'] = sample_data['final_tweet'].apply(lambda x : tweet_to_words(x))\n",
    "sample_data['final_tweet'] = sample_data['final_tweet'].astype(str).replace(\"plz\", \"please\", regex=True)"
   ]
  },
  {
   "cell_type": "code",
   "execution_count": 670,
   "id": "27ca9ba2-6ef4-4b93-b61f-106d6df0caa8",
   "metadata": {},
   "outputs": [
    {
     "data": {
      "text/html": [
       "<div>\n",
       "<style scoped>\n",
       "    .dataframe tbody tr th:only-of-type {\n",
       "        vertical-align: middle;\n",
       "    }\n",
       "\n",
       "    .dataframe tbody tr th {\n",
       "        vertical-align: top;\n",
       "    }\n",
       "\n",
       "    .dataframe thead th {\n",
       "        text-align: right;\n",
       "    }\n",
       "</style>\n",
       "<table border=\"1\" class=\"dataframe\">\n",
       "  <thead>\n",
       "    <tr style=\"text-align: right;\">\n",
       "      <th></th>\n",
       "      <th>Target</th>\n",
       "      <th>ids</th>\n",
       "      <th>date</th>\n",
       "      <th>flag</th>\n",
       "      <th>user</th>\n",
       "      <th>text</th>\n",
       "      <th>final_tweet</th>\n",
       "    </tr>\n",
       "  </thead>\n",
       "  <tbody>\n",
       "    <tr>\n",
       "      <th>1442958</th>\n",
       "      <td>1</td>\n",
       "      <td>2062053422</td>\n",
       "      <td>Sat Jun 06 22:13:19 PDT 2009</td>\n",
       "      <td>NO_QUERY</td>\n",
       "      <td>KellyG5</td>\n",
       "      <td>http://twitpic.com/1uoev - ha ha what are you ...</td>\n",
       "      <td>ha ha saying lol cute eh lol</td>\n",
       "    </tr>\n",
       "    <tr>\n",
       "      <th>34148</th>\n",
       "      <td>0</td>\n",
       "      <td>1564713481</td>\n",
       "      <td>Mon Apr 20 04:39:20 PDT 2009</td>\n",
       "      <td>NO_QUERY</td>\n",
       "      <td>cl4irethomas</td>\n",
       "      <td>@AnnieC1 could do with some sympathy ... she's...</td>\n",
       "      <td>could sympathy work sick today offers</td>\n",
       "    </tr>\n",
       "    <tr>\n",
       "      <th>789182</th>\n",
       "      <td>0</td>\n",
       "      <td>2325319004</td>\n",
       "      <td>Thu Jun 25 05:13:08 PDT 2009</td>\n",
       "      <td>NO_QUERY</td>\n",
       "      <td>acullenatheart</td>\n",
       "      <td>my iPhone is attempting to kill itself. Can't ...</td>\n",
       "      <td>iphone attempting kill ca wait get home try fix</td>\n",
       "    </tr>\n",
       "    <tr>\n",
       "      <th>724967</th>\n",
       "      <td>0</td>\n",
       "      <td>2262207910</td>\n",
       "      <td>Sat Jun 20 22:04:45 PDT 2009</td>\n",
       "      <td>NO_QUERY</td>\n",
       "      <td>locn</td>\n",
       "      <td>Zion and Vegas was so much awesomeness. Too ba...</td>\n",
       "      <td>zion vegas much awesomeness bad stupid camera ...</td>\n",
       "    </tr>\n",
       "    <tr>\n",
       "      <th>956955</th>\n",
       "      <td>1</td>\n",
       "      <td>1825348470</td>\n",
       "      <td>Sun May 17 05:21:54 PDT 2009</td>\n",
       "      <td>NO_QUERY</td>\n",
       "      <td>CarlaJaynee</td>\n",
       "      <td>Aww, 100 followers! I feel loved  I love you g...</td>\n",
       "      <td>aww followers feel loved love guys lt x</td>\n",
       "    </tr>\n",
       "    <tr>\n",
       "      <th>...</th>\n",
       "      <td>...</td>\n",
       "      <td>...</td>\n",
       "      <td>...</td>\n",
       "      <td>...</td>\n",
       "      <td>...</td>\n",
       "      <td>...</td>\n",
       "      <td>...</td>\n",
       "    </tr>\n",
       "    <tr>\n",
       "      <th>1033361</th>\n",
       "      <td>1</td>\n",
       "      <td>1955775749</td>\n",
       "      <td>Thu May 28 20:36:19 PDT 2009</td>\n",
       "      <td>NO_QUERY</td>\n",
       "      <td>admance</td>\n",
       "      <td>@artfanatic411 Yes, I did...Twitterholic is my...</td>\n",
       "      <td>yes twitterholic middle name</td>\n",
       "    </tr>\n",
       "    <tr>\n",
       "      <th>1413067</th>\n",
       "      <td>1</td>\n",
       "      <td>2056772328</td>\n",
       "      <td>Sat Jun 06 11:45:54 PDT 2009</td>\n",
       "      <td>NO_QUERY</td>\n",
       "      <td>Irv25</td>\n",
       "      <td>@David_DB your welcome!!!</td>\n",
       "      <td>welcome</td>\n",
       "    </tr>\n",
       "    <tr>\n",
       "      <th>416893</th>\n",
       "      <td>0</td>\n",
       "      <td>2061407079</td>\n",
       "      <td>Sat Jun 06 20:48:16 PDT 2009</td>\n",
       "      <td>NO_QUERY</td>\n",
       "      <td>kulex</td>\n",
       "      <td>Aww shit. Why did I decide to watch Grave of t...</td>\n",
       "      <td>aww shit decide watch grave fireflies</td>\n",
       "    </tr>\n",
       "    <tr>\n",
       "      <th>812540</th>\n",
       "      <td>1</td>\n",
       "      <td>1548528643</td>\n",
       "      <td>Fri Apr 17 21:12:19 PDT 2009</td>\n",
       "      <td>NO_QUERY</td>\n",
       "      <td>xCAROxx</td>\n",
       "      <td>i love movies with sexy people in them.  theyr...</td>\n",
       "      <td>love movies sexy people theyre quite delicious...</td>\n",
       "    </tr>\n",
       "    <tr>\n",
       "      <th>496806</th>\n",
       "      <td>0</td>\n",
       "      <td>2185683159</td>\n",
       "      <td>Mon Jun 15 17:45:00 PDT 2009</td>\n",
       "      <td>NO_QUERY</td>\n",
       "      <td>oliviaistaken</td>\n",
       "      <td>Going to tweet all I can before &amp;quot;Downtime...</td>\n",
       "      <td>going tweet quot downtime quot</td>\n",
       "    </tr>\n",
       "  </tbody>\n",
       "</table>\n",
       "<p>50000 rows × 7 columns</p>\n",
       "</div>"
      ],
      "text/plain": [
       "         Target         ids                          date      flag  \\\n",
       "1442958       1  2062053422  Sat Jun 06 22:13:19 PDT 2009  NO_QUERY   \n",
       "34148         0  1564713481  Mon Apr 20 04:39:20 PDT 2009  NO_QUERY   \n",
       "789182        0  2325319004  Thu Jun 25 05:13:08 PDT 2009  NO_QUERY   \n",
       "724967        0  2262207910  Sat Jun 20 22:04:45 PDT 2009  NO_QUERY   \n",
       "956955        1  1825348470  Sun May 17 05:21:54 PDT 2009  NO_QUERY   \n",
       "...         ...         ...                           ...       ...   \n",
       "1033361       1  1955775749  Thu May 28 20:36:19 PDT 2009  NO_QUERY   \n",
       "1413067       1  2056772328  Sat Jun 06 11:45:54 PDT 2009  NO_QUERY   \n",
       "416893        0  2061407079  Sat Jun 06 20:48:16 PDT 2009  NO_QUERY   \n",
       "812540        1  1548528643  Fri Apr 17 21:12:19 PDT 2009  NO_QUERY   \n",
       "496806        0  2185683159  Mon Jun 15 17:45:00 PDT 2009  NO_QUERY   \n",
       "\n",
       "                   user                                               text  \\\n",
       "1442958         KellyG5  http://twitpic.com/1uoev - ha ha what are you ...   \n",
       "34148      cl4irethomas  @AnnieC1 could do with some sympathy ... she's...   \n",
       "789182   acullenatheart  my iPhone is attempting to kill itself. Can't ...   \n",
       "724967             locn  Zion and Vegas was so much awesomeness. Too ba...   \n",
       "956955      CarlaJaynee  Aww, 100 followers! I feel loved  I love you g...   \n",
       "...                 ...                                                ...   \n",
       "1033361         admance  @artfanatic411 Yes, I did...Twitterholic is my...   \n",
       "1413067           Irv25                         @David_DB your welcome!!!    \n",
       "416893            kulex  Aww shit. Why did I decide to watch Grave of t...   \n",
       "812540          xCAROxx  i love movies with sexy people in them.  theyr...   \n",
       "496806    oliviaistaken  Going to tweet all I can before &quot;Downtime...   \n",
       "\n",
       "                                               final_tweet  \n",
       "1442958                       ha ha saying lol cute eh lol  \n",
       "34148                could sympathy work sick today offers  \n",
       "789182     iphone attempting kill ca wait get home try fix  \n",
       "724967   zion vegas much awesomeness bad stupid camera ...  \n",
       "956955             aww followers feel loved love guys lt x  \n",
       "...                                                    ...  \n",
       "1033361                       yes twitterholic middle name  \n",
       "1413067                                            welcome  \n",
       "416893               aww shit decide watch grave fireflies  \n",
       "812540   love movies sexy people theyre quite delicious...  \n",
       "496806                      going tweet quot downtime quot  \n",
       "\n",
       "[50000 rows x 7 columns]"
      ]
     },
     "execution_count": 670,
     "metadata": {},
     "output_type": "execute_result"
    }
   ],
   "source": [
    "sample_data"
   ]
  },
  {
   "cell_type": "code",
   "execution_count": 671,
   "id": "7d3c7e26-b3f3-40a9-8d1a-3c619edb7468",
   "metadata": {},
   "outputs": [
    {
     "data": {
      "text/html": [
       "<div>\n",
       "<style scoped>\n",
       "    .dataframe tbody tr th:only-of-type {\n",
       "        vertical-align: middle;\n",
       "    }\n",
       "\n",
       "    .dataframe tbody tr th {\n",
       "        vertical-align: top;\n",
       "    }\n",
       "\n",
       "    .dataframe thead th {\n",
       "        text-align: right;\n",
       "    }\n",
       "</style>\n",
       "<table border=\"1\" class=\"dataframe\">\n",
       "  <thead>\n",
       "    <tr style=\"text-align: right;\">\n",
       "      <th></th>\n",
       "      <th>Target</th>\n",
       "      <th>ids</th>\n",
       "      <th>date</th>\n",
       "      <th>flag</th>\n",
       "      <th>user</th>\n",
       "      <th>text</th>\n",
       "      <th>final_tweet</th>\n",
       "    </tr>\n",
       "  </thead>\n",
       "  <tbody>\n",
       "    <tr>\n",
       "      <th>1442958</th>\n",
       "      <td>1</td>\n",
       "      <td>2062053422</td>\n",
       "      <td>Sat Jun 06 22:13:19 PDT 2009</td>\n",
       "      <td>NO_QUERY</td>\n",
       "      <td>KellyG5</td>\n",
       "      <td>http://twitpic.com/1uoev - ha ha what are you ...</td>\n",
       "      <td>ha ha saying lol cute eh lol</td>\n",
       "    </tr>\n",
       "    <tr>\n",
       "      <th>34148</th>\n",
       "      <td>0</td>\n",
       "      <td>1564713481</td>\n",
       "      <td>Mon Apr 20 04:39:20 PDT 2009</td>\n",
       "      <td>NO_QUERY</td>\n",
       "      <td>cl4irethomas</td>\n",
       "      <td>@AnnieC1 could do with some sympathy ... she's...</td>\n",
       "      <td>could sympathy work sick today offers</td>\n",
       "    </tr>\n",
       "    <tr>\n",
       "      <th>789182</th>\n",
       "      <td>0</td>\n",
       "      <td>2325319004</td>\n",
       "      <td>Thu Jun 25 05:13:08 PDT 2009</td>\n",
       "      <td>NO_QUERY</td>\n",
       "      <td>acullenatheart</td>\n",
       "      <td>my iPhone is attempting to kill itself. Can't ...</td>\n",
       "      <td>iphone attempting kill ca wait get home try fix</td>\n",
       "    </tr>\n",
       "    <tr>\n",
       "      <th>724967</th>\n",
       "      <td>0</td>\n",
       "      <td>2262207910</td>\n",
       "      <td>Sat Jun 20 22:04:45 PDT 2009</td>\n",
       "      <td>NO_QUERY</td>\n",
       "      <td>locn</td>\n",
       "      <td>Zion and Vegas was so much awesomeness. Too ba...</td>\n",
       "      <td>zion vegas much awesomeness bad stupid camera ...</td>\n",
       "    </tr>\n",
       "    <tr>\n",
       "      <th>956955</th>\n",
       "      <td>1</td>\n",
       "      <td>1825348470</td>\n",
       "      <td>Sun May 17 05:21:54 PDT 2009</td>\n",
       "      <td>NO_QUERY</td>\n",
       "      <td>CarlaJaynee</td>\n",
       "      <td>Aww, 100 followers! I feel loved  I love you g...</td>\n",
       "      <td>aww followers feel loved love guys lt x</td>\n",
       "    </tr>\n",
       "    <tr>\n",
       "      <th>1302924</th>\n",
       "      <td>1</td>\n",
       "      <td>2008849072</td>\n",
       "      <td>Tue Jun 02 14:45:17 PDT 2009</td>\n",
       "      <td>NO_QUERY</td>\n",
       "      <td>salihagul</td>\n",
       "      <td>missing my daddio and laughing with him. i get...</td>\n",
       "      <td>missing daddio laughing get funny ness joke ma...</td>\n",
       "    </tr>\n",
       "    <tr>\n",
       "      <th>1237897</th>\n",
       "      <td>1</td>\n",
       "      <td>1993141661</td>\n",
       "      <td>Mon Jun 01 09:53:57 PDT 2009</td>\n",
       "      <td>NO_QUERY</td>\n",
       "      <td>Janoita</td>\n",
       "      <td>Mmmm snickers ice cream</td>\n",
       "      <td>mmmm snickers ice cream</td>\n",
       "    </tr>\n",
       "    <tr>\n",
       "      <th>1293666</th>\n",
       "      <td>1</td>\n",
       "      <td>2003248623</td>\n",
       "      <td>Tue Jun 02 06:10:33 PDT 2009</td>\n",
       "      <td>NO_QUERY</td>\n",
       "      <td>Tehlem0n</td>\n",
       "      <td>@jessicatsang Im on study leave. Only have to ...</td>\n",
       "      <td>im study leave go school exams</td>\n",
       "    </tr>\n",
       "    <tr>\n",
       "      <th>1057833</th>\n",
       "      <td>1</td>\n",
       "      <td>1962815334</td>\n",
       "      <td>Fri May 29 11:43:15 PDT 2009</td>\n",
       "      <td>NO_QUERY</td>\n",
       "      <td>katiePEACE</td>\n",
       "      <td>Ahahaha helping my uncle move hopfully hannah ...</td>\n",
       "      <td>ahahaha helping uncle move hopfully hannah hel...</td>\n",
       "    </tr>\n",
       "    <tr>\n",
       "      <th>312714</th>\n",
       "      <td>0</td>\n",
       "      <td>2001586656</td>\n",
       "      <td>Tue Jun 02 01:22:51 PDT 2009</td>\n",
       "      <td>NO_QUERY</td>\n",
       "      <td>mealienprobeu</td>\n",
       "      <td>Another financial dispute with my mother that ...</td>\n",
       "      <td>another financial dispute mother started much ...</td>\n",
       "    </tr>\n",
       "  </tbody>\n",
       "</table>\n",
       "</div>"
      ],
      "text/plain": [
       "         Target         ids                          date      flag  \\\n",
       "1442958       1  2062053422  Sat Jun 06 22:13:19 PDT 2009  NO_QUERY   \n",
       "34148         0  1564713481  Mon Apr 20 04:39:20 PDT 2009  NO_QUERY   \n",
       "789182        0  2325319004  Thu Jun 25 05:13:08 PDT 2009  NO_QUERY   \n",
       "724967        0  2262207910  Sat Jun 20 22:04:45 PDT 2009  NO_QUERY   \n",
       "956955        1  1825348470  Sun May 17 05:21:54 PDT 2009  NO_QUERY   \n",
       "1302924       1  2008849072  Tue Jun 02 14:45:17 PDT 2009  NO_QUERY   \n",
       "1237897       1  1993141661  Mon Jun 01 09:53:57 PDT 2009  NO_QUERY   \n",
       "1293666       1  2003248623  Tue Jun 02 06:10:33 PDT 2009  NO_QUERY   \n",
       "1057833       1  1962815334  Fri May 29 11:43:15 PDT 2009  NO_QUERY   \n",
       "312714        0  2001586656  Tue Jun 02 01:22:51 PDT 2009  NO_QUERY   \n",
       "\n",
       "                   user                                               text  \\\n",
       "1442958         KellyG5  http://twitpic.com/1uoev - ha ha what are you ...   \n",
       "34148      cl4irethomas  @AnnieC1 could do with some sympathy ... she's...   \n",
       "789182   acullenatheart  my iPhone is attempting to kill itself. Can't ...   \n",
       "724967             locn  Zion and Vegas was so much awesomeness. Too ba...   \n",
       "956955      CarlaJaynee  Aww, 100 followers! I feel loved  I love you g...   \n",
       "1302924       salihagul  missing my daddio and laughing with him. i get...   \n",
       "1237897         Janoita                           Mmmm snickers ice cream    \n",
       "1293666        Tehlem0n  @jessicatsang Im on study leave. Only have to ...   \n",
       "1057833      katiePEACE  Ahahaha helping my uncle move hopfully hannah ...   \n",
       "312714    mealienprobeu  Another financial dispute with my mother that ...   \n",
       "\n",
       "                                               final_tweet  \n",
       "1442958                       ha ha saying lol cute eh lol  \n",
       "34148                could sympathy work sick today offers  \n",
       "789182     iphone attempting kill ca wait get home try fix  \n",
       "724967   zion vegas much awesomeness bad stupid camera ...  \n",
       "956955             aww followers feel loved love guys lt x  \n",
       "1302924  missing daddio laughing get funny ness joke ma...  \n",
       "1237897                            mmmm snickers ice cream  \n",
       "1293666                     im study leave go school exams  \n",
       "1057833  ahahaha helping uncle move hopfully hannah hel...  \n",
       "312714   another financial dispute mother started much ...  "
      ]
     },
     "execution_count": 671,
     "metadata": {},
     "output_type": "execute_result"
    }
   ],
   "source": [
    "sample_data.head(10)"
   ]
  },
  {
   "cell_type": "code",
   "execution_count": 672,
   "id": "bfc2536c-ebb3-4faa-8f29-74aa626d3663",
   "metadata": {},
   "outputs": [
    {
     "data": {
      "text/html": [
       "<div>\n",
       "<style scoped>\n",
       "    .dataframe tbody tr th:only-of-type {\n",
       "        vertical-align: middle;\n",
       "    }\n",
       "\n",
       "    .dataframe tbody tr th {\n",
       "        vertical-align: top;\n",
       "    }\n",
       "\n",
       "    .dataframe thead th {\n",
       "        text-align: right;\n",
       "    }\n",
       "</style>\n",
       "<table border=\"1\" class=\"dataframe\">\n",
       "  <thead>\n",
       "    <tr style=\"text-align: right;\">\n",
       "      <th></th>\n",
       "      <th>Target</th>\n",
       "      <th>ids</th>\n",
       "      <th>date</th>\n",
       "      <th>flag</th>\n",
       "      <th>user</th>\n",
       "      <th>text</th>\n",
       "      <th>final_tweet</th>\n",
       "    </tr>\n",
       "  </thead>\n",
       "  <tbody>\n",
       "    <tr>\n",
       "      <th>618693</th>\n",
       "      <td>0</td>\n",
       "      <td>2227618214</td>\n",
       "      <td>Thu Jun 18 13:25:24 PDT 2009</td>\n",
       "      <td>NO_QUERY</td>\n",
       "      <td>JGXO</td>\n",
       "      <td>Jus about ready, then off to IKEA w/ one of my...</td>\n",
       "      <td>jus ready ikea w one fav boys yayy ca much dam...</td>\n",
       "    </tr>\n",
       "    <tr>\n",
       "      <th>477042</th>\n",
       "      <td>0</td>\n",
       "      <td>2178055311</td>\n",
       "      <td>Mon Jun 15 07:07:38 PDT 2009</td>\n",
       "      <td>NO_QUERY</td>\n",
       "      <td>itskb</td>\n",
       "      <td>the john lennon new york years exibit at the r...</td>\n",
       "      <td>john lennon new york years exibit rock n roll ...</td>\n",
       "    </tr>\n",
       "    <tr>\n",
       "      <th>1022957</th>\n",
       "      <td>1</td>\n",
       "      <td>1882912212</td>\n",
       "      <td>Fri May 22 07:41:48 PDT 2009</td>\n",
       "      <td>NO_QUERY</td>\n",
       "      <td>LeoWolfe</td>\n",
       "      <td>@xClureBearx thanks for the follow.</td>\n",
       "      <td>thanks follow</td>\n",
       "    </tr>\n",
       "    <tr>\n",
       "      <th>771971</th>\n",
       "      <td>0</td>\n",
       "      <td>2302595827</td>\n",
       "      <td>Tue Jun 23 17:01:48 PDT 2009</td>\n",
       "      <td>NO_QUERY</td>\n",
       "      <td>bobbysgirl1972</td>\n",
       "      <td>I have had the hiccups for the past 4 1/2 hrs....</td>\n",
       "      <td>hiccups past hrs help whatta ugh</td>\n",
       "    </tr>\n",
       "    <tr>\n",
       "      <th>205948</th>\n",
       "      <td>0</td>\n",
       "      <td>1973005538</td>\n",
       "      <td>Sat May 30 10:17:46 PDT 2009</td>\n",
       "      <td>NO_QUERY</td>\n",
       "      <td>sethu_j</td>\n",
       "      <td>why do no shops do gorgeous, big bags nowadays</td>\n",
       "      <td>shops gorgeous big bags nowadays</td>\n",
       "    </tr>\n",
       "    <tr>\n",
       "      <th>1033361</th>\n",
       "      <td>1</td>\n",
       "      <td>1955775749</td>\n",
       "      <td>Thu May 28 20:36:19 PDT 2009</td>\n",
       "      <td>NO_QUERY</td>\n",
       "      <td>admance</td>\n",
       "      <td>@artfanatic411 Yes, I did...Twitterholic is my...</td>\n",
       "      <td>yes twitterholic middle name</td>\n",
       "    </tr>\n",
       "    <tr>\n",
       "      <th>1413067</th>\n",
       "      <td>1</td>\n",
       "      <td>2056772328</td>\n",
       "      <td>Sat Jun 06 11:45:54 PDT 2009</td>\n",
       "      <td>NO_QUERY</td>\n",
       "      <td>Irv25</td>\n",
       "      <td>@David_DB your welcome!!!</td>\n",
       "      <td>welcome</td>\n",
       "    </tr>\n",
       "    <tr>\n",
       "      <th>416893</th>\n",
       "      <td>0</td>\n",
       "      <td>2061407079</td>\n",
       "      <td>Sat Jun 06 20:48:16 PDT 2009</td>\n",
       "      <td>NO_QUERY</td>\n",
       "      <td>kulex</td>\n",
       "      <td>Aww shit. Why did I decide to watch Grave of t...</td>\n",
       "      <td>aww shit decide watch grave fireflies</td>\n",
       "    </tr>\n",
       "    <tr>\n",
       "      <th>812540</th>\n",
       "      <td>1</td>\n",
       "      <td>1548528643</td>\n",
       "      <td>Fri Apr 17 21:12:19 PDT 2009</td>\n",
       "      <td>NO_QUERY</td>\n",
       "      <td>xCAROxx</td>\n",
       "      <td>i love movies with sexy people in them.  theyr...</td>\n",
       "      <td>love movies sexy people theyre quite delicious...</td>\n",
       "    </tr>\n",
       "    <tr>\n",
       "      <th>496806</th>\n",
       "      <td>0</td>\n",
       "      <td>2185683159</td>\n",
       "      <td>Mon Jun 15 17:45:00 PDT 2009</td>\n",
       "      <td>NO_QUERY</td>\n",
       "      <td>oliviaistaken</td>\n",
       "      <td>Going to tweet all I can before &amp;quot;Downtime...</td>\n",
       "      <td>going tweet quot downtime quot</td>\n",
       "    </tr>\n",
       "  </tbody>\n",
       "</table>\n",
       "</div>"
      ],
      "text/plain": [
       "         Target         ids                          date      flag  \\\n",
       "618693        0  2227618214  Thu Jun 18 13:25:24 PDT 2009  NO_QUERY   \n",
       "477042        0  2178055311  Mon Jun 15 07:07:38 PDT 2009  NO_QUERY   \n",
       "1022957       1  1882912212  Fri May 22 07:41:48 PDT 2009  NO_QUERY   \n",
       "771971        0  2302595827  Tue Jun 23 17:01:48 PDT 2009  NO_QUERY   \n",
       "205948        0  1973005538  Sat May 30 10:17:46 PDT 2009  NO_QUERY   \n",
       "1033361       1  1955775749  Thu May 28 20:36:19 PDT 2009  NO_QUERY   \n",
       "1413067       1  2056772328  Sat Jun 06 11:45:54 PDT 2009  NO_QUERY   \n",
       "416893        0  2061407079  Sat Jun 06 20:48:16 PDT 2009  NO_QUERY   \n",
       "812540        1  1548528643  Fri Apr 17 21:12:19 PDT 2009  NO_QUERY   \n",
       "496806        0  2185683159  Mon Jun 15 17:45:00 PDT 2009  NO_QUERY   \n",
       "\n",
       "                   user                                               text  \\\n",
       "618693             JGXO  Jus about ready, then off to IKEA w/ one of my...   \n",
       "477042            itskb  the john lennon new york years exibit at the r...   \n",
       "1022957        LeoWolfe               @xClureBearx thanks for the follow.    \n",
       "771971   bobbysgirl1972  I have had the hiccups for the past 4 1/2 hrs....   \n",
       "205948          sethu_j    why do no shops do gorgeous, big bags nowadays    \n",
       "1033361         admance  @artfanatic411 Yes, I did...Twitterholic is my...   \n",
       "1413067           Irv25                         @David_DB your welcome!!!    \n",
       "416893            kulex  Aww shit. Why did I decide to watch Grave of t...   \n",
       "812540          xCAROxx  i love movies with sexy people in them.  theyr...   \n",
       "496806    oliviaistaken  Going to tweet all I can before &quot;Downtime...   \n",
       "\n",
       "                                               final_tweet  \n",
       "618693   jus ready ikea w one fav boys yayy ca much dam...  \n",
       "477042   john lennon new york years exibit rock n roll ...  \n",
       "1022957                                      thanks follow  \n",
       "771971                    hiccups past hrs help whatta ugh  \n",
       "205948                    shops gorgeous big bags nowadays  \n",
       "1033361                       yes twitterholic middle name  \n",
       "1413067                                            welcome  \n",
       "416893               aww shit decide watch grave fireflies  \n",
       "812540   love movies sexy people theyre quite delicious...  \n",
       "496806                      going tweet quot downtime quot  "
      ]
     },
     "execution_count": 672,
     "metadata": {},
     "output_type": "execute_result"
    }
   ],
   "source": [
    "sample_data.tail(10)"
   ]
  },
  {
   "cell_type": "code",
   "execution_count": 673,
   "id": "a9220c7e-4e66-422a-9bd7-5fc702d4c573",
   "metadata": {},
   "outputs": [
    {
     "data": {
      "text/html": [
       "<div>\n",
       "<style scoped>\n",
       "    .dataframe tbody tr th:only-of-type {\n",
       "        vertical-align: middle;\n",
       "    }\n",
       "\n",
       "    .dataframe tbody tr th {\n",
       "        vertical-align: top;\n",
       "    }\n",
       "\n",
       "    .dataframe thead th {\n",
       "        text-align: right;\n",
       "    }\n",
       "</style>\n",
       "<table border=\"1\" class=\"dataframe\">\n",
       "  <thead>\n",
       "    <tr style=\"text-align: right;\">\n",
       "      <th></th>\n",
       "      <th>Target</th>\n",
       "      <th>ids</th>\n",
       "      <th>date</th>\n",
       "      <th>flag</th>\n",
       "      <th>user</th>\n",
       "      <th>text</th>\n",
       "      <th>final_tweet</th>\n",
       "    </tr>\n",
       "  </thead>\n",
       "  <tbody>\n",
       "    <tr>\n",
       "      <th>37191</th>\n",
       "      <td>0</td>\n",
       "      <td>1572884527</td>\n",
       "      <td>Mon Apr 20 22:54:19 PDT 2009</td>\n",
       "      <td>NO_QUERY</td>\n",
       "      <td>meowwzer</td>\n",
       "      <td>just woke up feeling confused and anxious abou...</td>\n",
       "      <td>woke feeling confused anxious upcoming events ...</td>\n",
       "    </tr>\n",
       "    <tr>\n",
       "      <th>1018917</th>\n",
       "      <td>1</td>\n",
       "      <td>1882095993</td>\n",
       "      <td>Fri May 22 06:13:21 PDT 2009</td>\n",
       "      <td>NO_QUERY</td>\n",
       "      <td>JasmineYun</td>\n",
       "      <td>@Eva2Ta HAVE FUN!!!  Wing big at the casino fi...</td>\n",
       "      <td>fun wing big casino first spend shopping</td>\n",
       "    </tr>\n",
       "    <tr>\n",
       "      <th>1109350</th>\n",
       "      <td>1</td>\n",
       "      <td>1971876299</td>\n",
       "      <td>Sat May 30 08:05:19 PDT 2009</td>\n",
       "      <td>NO_QUERY</td>\n",
       "      <td>avandenb</td>\n",
       "      <td>Washing the paint out of my hair</td>\n",
       "      <td>washing paint hair</td>\n",
       "    </tr>\n",
       "    <tr>\n",
       "      <th>467856</th>\n",
       "      <td>0</td>\n",
       "      <td>2175870892</td>\n",
       "      <td>Mon Jun 15 02:14:22 PDT 2009</td>\n",
       "      <td>NO_QUERY</td>\n",
       "      <td>wiga_sunshine</td>\n",
       "      <td>4 : 13 and i'm in my boring maximum time!! huu...</td>\n",
       "      <td>boring maximum time huuugghh</td>\n",
       "    </tr>\n",
       "    <tr>\n",
       "      <th>1326555</th>\n",
       "      <td>1</td>\n",
       "      <td>2015269953</td>\n",
       "      <td>Wed Jun 03 04:11:56 PDT 2009</td>\n",
       "      <td>NO_QUERY</td>\n",
       "      <td>xtnabcn</td>\n",
       "      <td>@AlexDeQuerzen I always have the work/play the...</td>\n",
       "      <td>always work play theory mind suggested maybe c...</td>\n",
       "    </tr>\n",
       "    <tr>\n",
       "      <th>110794</th>\n",
       "      <td>0</td>\n",
       "      <td>1824950118</td>\n",
       "      <td>Sun May 17 03:40:01 PDT 2009</td>\n",
       "      <td>NO_QUERY</td>\n",
       "      <td>_mayumi</td>\n",
       "      <td>lazy sunday today i think. 4 days of school le...</td>\n",
       "      <td>lazy sunday today think days school left study...</td>\n",
       "    </tr>\n",
       "    <tr>\n",
       "      <th>674745</th>\n",
       "      <td>0</td>\n",
       "      <td>2247880438</td>\n",
       "      <td>Fri Jun 19 19:46:00 PDT 2009</td>\n",
       "      <td>NO_QUERY</td>\n",
       "      <td>mattielong</td>\n",
       "      <td>god fucking dammit</td>\n",
       "      <td>god fucking dammit</td>\n",
       "    </tr>\n",
       "    <tr>\n",
       "      <th>124164</th>\n",
       "      <td>0</td>\n",
       "      <td>1834055000</td>\n",
       "      <td>Mon May 18 01:27:24 PDT 2009</td>\n",
       "      <td>NO_QUERY</td>\n",
       "      <td>supernovi</td>\n",
       "      <td>I hate gravel it has messed my car up</td>\n",
       "      <td>hate gravel messed car</td>\n",
       "    </tr>\n",
       "    <tr>\n",
       "      <th>190540</th>\n",
       "      <td>0</td>\n",
       "      <td>1969381829</td>\n",
       "      <td>Fri May 29 23:51:36 PDT 2009</td>\n",
       "      <td>NO_QUERY</td>\n",
       "      <td>ObamaKitty</td>\n",
       "      <td>Re-pinging @neoncat: @kay_rose I didn't eat at...</td>\n",
       "      <td>pinging eat day gt lt eat diner yesterday hung...</td>\n",
       "    </tr>\n",
       "    <tr>\n",
       "      <th>292041</th>\n",
       "      <td>0</td>\n",
       "      <td>1995885275</td>\n",
       "      <td>Mon Jun 01 14:11:56 PDT 2009</td>\n",
       "      <td>NO_QUERY</td>\n",
       "      <td>lexayyyy</td>\n",
       "      <td>im hungry now</td>\n",
       "      <td>im hungry</td>\n",
       "    </tr>\n",
       "  </tbody>\n",
       "</table>\n",
       "</div>"
      ],
      "text/plain": [
       "         Target         ids                          date      flag  \\\n",
       "37191         0  1572884527  Mon Apr 20 22:54:19 PDT 2009  NO_QUERY   \n",
       "1018917       1  1882095993  Fri May 22 06:13:21 PDT 2009  NO_QUERY   \n",
       "1109350       1  1971876299  Sat May 30 08:05:19 PDT 2009  NO_QUERY   \n",
       "467856        0  2175870892  Mon Jun 15 02:14:22 PDT 2009  NO_QUERY   \n",
       "1326555       1  2015269953  Wed Jun 03 04:11:56 PDT 2009  NO_QUERY   \n",
       "110794        0  1824950118  Sun May 17 03:40:01 PDT 2009  NO_QUERY   \n",
       "674745        0  2247880438  Fri Jun 19 19:46:00 PDT 2009  NO_QUERY   \n",
       "124164        0  1834055000  Mon May 18 01:27:24 PDT 2009  NO_QUERY   \n",
       "190540        0  1969381829  Fri May 29 23:51:36 PDT 2009  NO_QUERY   \n",
       "292041        0  1995885275  Mon Jun 01 14:11:56 PDT 2009  NO_QUERY   \n",
       "\n",
       "                  user                                               text  \\\n",
       "37191         meowwzer  just woke up feeling confused and anxious abou...   \n",
       "1018917     JasmineYun  @Eva2Ta HAVE FUN!!!  Wing big at the casino fi...   \n",
       "1109350       avandenb                  Washing the paint out of my hair    \n",
       "467856   wiga_sunshine  4 : 13 and i'm in my boring maximum time!! huu...   \n",
       "1326555        xtnabcn  @AlexDeQuerzen I always have the work/play the...   \n",
       "110794         _mayumi  lazy sunday today i think. 4 days of school le...   \n",
       "674745      mattielong                                god fucking dammit    \n",
       "124164       supernovi             I hate gravel it has messed my car up    \n",
       "190540      ObamaKitty  Re-pinging @neoncat: @kay_rose I didn't eat at...   \n",
       "292041        lexayyyy                                     im hungry now    \n",
       "\n",
       "                                               final_tweet  \n",
       "37191    woke feeling confused anxious upcoming events ...  \n",
       "1018917           fun wing big casino first spend shopping  \n",
       "1109350                                 washing paint hair  \n",
       "467856                        boring maximum time huuugghh  \n",
       "1326555  always work play theory mind suggested maybe c...  \n",
       "110794   lazy sunday today think days school left study...  \n",
       "674745                                  god fucking dammit  \n",
       "124164                              hate gravel messed car  \n",
       "190540   pinging eat day gt lt eat diner yesterday hung...  \n",
       "292041                                           im hungry  "
      ]
     },
     "execution_count": 673,
     "metadata": {},
     "output_type": "execute_result"
    }
   ],
   "source": [
    "sample_data.sample(10)"
   ]
  },
  {
   "cell_type": "code",
   "execution_count": 674,
   "id": "75bdcf08-82ea-43e3-9660-438608ad7c16",
   "metadata": {},
   "outputs": [
    {
     "name": "stdout",
     "output_type": "stream",
     "text": [
      "<class 'pandas.core.frame.DataFrame'>\n",
      "Index: 50000 entries, 1442958 to 496806\n",
      "Data columns (total 7 columns):\n",
      " #   Column       Non-Null Count  Dtype \n",
      "---  ------       --------------  ----- \n",
      " 0   Target       50000 non-null  int64 \n",
      " 1   ids          50000 non-null  int64 \n",
      " 2   date         50000 non-null  object\n",
      " 3   flag         50000 non-null  object\n",
      " 4   user         50000 non-null  object\n",
      " 5   text         50000 non-null  object\n",
      " 6   final_tweet  50000 non-null  object\n",
      "dtypes: int64(2), object(5)\n",
      "memory usage: 3.1+ MB\n"
     ]
    }
   ],
   "source": [
    "sample_data.info()"
   ]
  },
  {
   "cell_type": "code",
   "execution_count": 675,
   "id": "26900f6e-ddd8-4f1d-9023-d90379b51c14",
   "metadata": {},
   "outputs": [
    {
     "data": {
      "text/html": [
       "<div>\n",
       "<style scoped>\n",
       "    .dataframe tbody tr th:only-of-type {\n",
       "        vertical-align: middle;\n",
       "    }\n",
       "\n",
       "    .dataframe tbody tr th {\n",
       "        vertical-align: top;\n",
       "    }\n",
       "\n",
       "    .dataframe thead th {\n",
       "        text-align: right;\n",
       "    }\n",
       "</style>\n",
       "<table border=\"1\" class=\"dataframe\">\n",
       "  <thead>\n",
       "    <tr style=\"text-align: right;\">\n",
       "      <th></th>\n",
       "      <th>Target</th>\n",
       "      <th>ids</th>\n",
       "    </tr>\n",
       "  </thead>\n",
       "  <tbody>\n",
       "    <tr>\n",
       "      <th>count</th>\n",
       "      <td>50000.000000</td>\n",
       "      <td>5.000000e+04</td>\n",
       "    </tr>\n",
       "    <tr>\n",
       "      <th>mean</th>\n",
       "      <td>0.496260</td>\n",
       "      <td>1.998724e+09</td>\n",
       "    </tr>\n",
       "    <tr>\n",
       "      <th>std</th>\n",
       "      <td>0.499991</td>\n",
       "      <td>1.943709e+08</td>\n",
       "    </tr>\n",
       "    <tr>\n",
       "      <th>min</th>\n",
       "      <td>0.000000</td>\n",
       "      <td>1.467812e+09</td>\n",
       "    </tr>\n",
       "    <tr>\n",
       "      <th>25%</th>\n",
       "      <td>0.000000</td>\n",
       "      <td>1.956743e+09</td>\n",
       "    </tr>\n",
       "    <tr>\n",
       "      <th>50%</th>\n",
       "      <td>0.000000</td>\n",
       "      <td>2.002167e+09</td>\n",
       "    </tr>\n",
       "    <tr>\n",
       "      <th>75%</th>\n",
       "      <td>1.000000</td>\n",
       "      <td>2.177721e+09</td>\n",
       "    </tr>\n",
       "    <tr>\n",
       "      <th>max</th>\n",
       "      <td>1.000000</td>\n",
       "      <td>2.329205e+09</td>\n",
       "    </tr>\n",
       "  </tbody>\n",
       "</table>\n",
       "</div>"
      ],
      "text/plain": [
       "             Target           ids\n",
       "count  50000.000000  5.000000e+04\n",
       "mean       0.496260  1.998724e+09\n",
       "std        0.499991  1.943709e+08\n",
       "min        0.000000  1.467812e+09\n",
       "25%        0.000000  1.956743e+09\n",
       "50%        0.000000  2.002167e+09\n",
       "75%        1.000000  2.177721e+09\n",
       "max        1.000000  2.329205e+09"
      ]
     },
     "execution_count": 675,
     "metadata": {},
     "output_type": "execute_result"
    }
   ],
   "source": [
    "sample_data.describe() # You can't analyze Ids and Target so use just text_length"
   ]
  },
  {
   "cell_type": "code",
   "execution_count": null,
   "id": "6cc75505-c4a1-4621-959d-163126a4b31f",
   "metadata": {},
   "outputs": [],
   "source": []
  },
  {
   "cell_type": "code",
   "execution_count": 676,
   "id": "2a69a93e-733b-4b59-8092-0c9c3a244d1e",
   "metadata": {},
   "outputs": [
    {
     "data": {
      "text/plain": [
       "3"
      ]
     },
     "execution_count": 676,
     "metadata": {},
     "output_type": "execute_result"
    }
   ],
   "source": [
    "sample_data.ids.duplicated().sum()"
   ]
  },
  {
   "cell_type": "code",
   "execution_count": 677,
   "id": "73d37280-9d5a-4c4d-81e6-5a75a07c02db",
   "metadata": {},
   "outputs": [],
   "source": [
    "sample_data[\"final_text_length\"] = sample_data[\"final_tweet\"].apply(len) # After Pre-processing"
   ]
  },
  {
   "cell_type": "code",
   "execution_count": 678,
   "id": "5472f778-a0d7-496d-8cdc-c6f5665a86cb",
   "metadata": {},
   "outputs": [
    {
     "data": {
      "text/plain": [
       "1442958    28\n",
       "34148      37\n",
       "789182     47\n",
       "724967     60\n",
       "956955     39\n",
       "           ..\n",
       "1033361    28\n",
       "1413067     7\n",
       "416893     37\n",
       "812540     65\n",
       "496806     30\n",
       "Name: final_text_length, Length: 50000, dtype: int64"
      ]
     },
     "execution_count": 678,
     "metadata": {},
     "output_type": "execute_result"
    }
   ],
   "source": [
    "sample_data.final_text_length"
   ]
  },
  {
   "cell_type": "code",
   "execution_count": 679,
   "id": "f877b030-7d80-48c5-800d-569ebb5a8daa",
   "metadata": {},
   "outputs": [],
   "source": [
    "sample_data[\"text_length\"] = sample_data[\"text\"].apply(len) # Before Preporessing "
   ]
  },
  {
   "cell_type": "code",
   "execution_count": 680,
   "id": "0fd7f777-6001-47d5-bf75-b0ea92e51707",
   "metadata": {},
   "outputs": [
    {
     "data": {
      "text/plain": [
       "1442958    91\n",
       "34148      85\n",
       "789182     78\n",
       "724967     87\n",
       "956955     57\n",
       "           ..\n",
       "1033361    59\n",
       "1413067    26\n",
       "416893     60\n",
       "812540     98\n",
       "496806     53\n",
       "Name: text_length, Length: 50000, dtype: int64"
      ]
     },
     "execution_count": 680,
     "metadata": {},
     "output_type": "execute_result"
    }
   ],
   "source": [
    "sample_data.text_length"
   ]
  },
  {
   "cell_type": "code",
   "execution_count": 681,
   "id": "2660c68f-8895-4dfe-9bcc-b11bfa4cbd1c",
   "metadata": {},
   "outputs": [
    {
     "data": {
      "text/plain": [
       "137"
      ]
     },
     "execution_count": 681,
     "metadata": {},
     "output_type": "execute_result"
    }
   ],
   "source": [
    "max(sample_data.final_text_length)"
   ]
  },
  {
   "cell_type": "code",
   "execution_count": 682,
   "id": "c3428058-5edf-4ddb-a337-f97399337619",
   "metadata": {},
   "outputs": [
    {
     "data": {
      "text/plain": [
       "0"
      ]
     },
     "execution_count": 682,
     "metadata": {},
     "output_type": "execute_result"
    }
   ],
   "source": [
    "min(sample_data.final_text_length)"
   ]
  },
  {
   "cell_type": "code",
   "execution_count": 683,
   "id": "6b72fa2c-a9f2-486d-a4ba-84370668efcc",
   "metadata": {},
   "outputs": [
    {
     "data": {
      "text/plain": [
       "0"
      ]
     },
     "execution_count": 683,
     "metadata": {},
     "output_type": "execute_result"
    }
   ],
   "source": [
    "sample_data[\"final_tweet\"].str.len().min() # minimum length tweet"
   ]
  },
  {
   "cell_type": "code",
   "execution_count": 684,
   "id": "117a7336-2a22-4e70-a67b-6b3d2bfc0d2b",
   "metadata": {},
   "outputs": [
    {
     "data": {
      "text/plain": [
       "137"
      ]
     },
     "execution_count": 684,
     "metadata": {},
     "output_type": "execute_result"
    }
   ],
   "source": [
    "sample_data[\"final_tweet\"].str.len().max() # minimum length tweet"
   ]
  },
  {
   "cell_type": "code",
   "execution_count": 685,
   "id": "1e1f6434-47ff-4a01-8445-a168ab688464",
   "metadata": {},
   "outputs": [
    {
     "data": {
      "text/plain": [
       "448773"
      ]
     },
     "execution_count": 685,
     "metadata": {},
     "output_type": "execute_result"
    }
   ],
   "source": [
    "sample_data.final_tweet.str.len().idxmin() # index of minimum lenth text"
   ]
  },
  {
   "cell_type": "code",
   "execution_count": 686,
   "id": "16bd5a36-b45b-44e7-97df-4dbba1bd86be",
   "metadata": {},
   "outputs": [
    {
     "data": {
      "text/plain": [
       "1766"
      ]
     },
     "execution_count": 686,
     "metadata": {},
     "output_type": "execute_result"
    }
   ],
   "source": [
    "sample_data.final_tweet.str.len().idxmax() # index of maximum lenth text"
   ]
  },
  {
   "cell_type": "code",
   "execution_count": 687,
   "id": "5a9a96e5-da77-47ab-8fdb-4d13c074ae19",
   "metadata": {},
   "outputs": [
    {
     "data": {
      "text/plain": [
       "'tks pa quot tapauing quot croissant tuna knowing dat ive back back meetings since morning amp zuraidah tks buying fav starbuck mocha frap'"
      ]
     },
     "execution_count": 687,
     "metadata": {},
     "output_type": "execute_result"
    }
   ],
   "source": [
    "sample_data.final_tweet[sample_data.final_tweet.str.len().idxmax()] # index of maximum lenth text"
   ]
  },
  {
   "cell_type": "code",
   "execution_count": 688,
   "id": "c9966827-80df-4f12-8f45-3a5453467786",
   "metadata": {},
   "outputs": [
    {
     "data": {
      "text/plain": [
       "''"
      ]
     },
     "execution_count": 688,
     "metadata": {},
     "output_type": "execute_result"
    }
   ],
   "source": [
    "sample_data.final_tweet[sample_data.final_tweet.str.len().idxmin()] # index of minimum lenth text"
   ]
  },
  {
   "cell_type": "code",
   "execution_count": 689,
   "id": "433b63e9-423e-487e-b212-97c767674a70",
   "metadata": {},
   "outputs": [
    {
     "data": {
      "text/html": [
       "<div>\n",
       "<style scoped>\n",
       "    .dataframe tbody tr th:only-of-type {\n",
       "        vertical-align: middle;\n",
       "    }\n",
       "\n",
       "    .dataframe tbody tr th {\n",
       "        vertical-align: top;\n",
       "    }\n",
       "\n",
       "    .dataframe thead th {\n",
       "        text-align: right;\n",
       "    }\n",
       "</style>\n",
       "<table border=\"1\" class=\"dataframe\">\n",
       "  <thead>\n",
       "    <tr style=\"text-align: right;\">\n",
       "      <th></th>\n",
       "      <th>Target</th>\n",
       "      <th>ids</th>\n",
       "      <th>date</th>\n",
       "      <th>flag</th>\n",
       "      <th>user</th>\n",
       "      <th>text</th>\n",
       "      <th>final_tweet</th>\n",
       "      <th>final_text_length</th>\n",
       "      <th>text_length</th>\n",
       "    </tr>\n",
       "  </thead>\n",
       "  <tbody>\n",
       "    <tr>\n",
       "      <th>1442958</th>\n",
       "      <td>1</td>\n",
       "      <td>2062053422</td>\n",
       "      <td>Sat Jun 06 22:13:19 PDT 2009</td>\n",
       "      <td>NO_QUERY</td>\n",
       "      <td>KellyG5</td>\n",
       "      <td>http://twitpic.com/1uoev - ha ha what are you ...</td>\n",
       "      <td>ha ha saying lol cute eh lol</td>\n",
       "      <td>28</td>\n",
       "      <td>91</td>\n",
       "    </tr>\n",
       "    <tr>\n",
       "      <th>34148</th>\n",
       "      <td>0</td>\n",
       "      <td>1564713481</td>\n",
       "      <td>Mon Apr 20 04:39:20 PDT 2009</td>\n",
       "      <td>NO_QUERY</td>\n",
       "      <td>cl4irethomas</td>\n",
       "      <td>@AnnieC1 could do with some sympathy ... she's...</td>\n",
       "      <td>could sympathy work sick today offers</td>\n",
       "      <td>37</td>\n",
       "      <td>85</td>\n",
       "    </tr>\n",
       "    <tr>\n",
       "      <th>789182</th>\n",
       "      <td>0</td>\n",
       "      <td>2325319004</td>\n",
       "      <td>Thu Jun 25 05:13:08 PDT 2009</td>\n",
       "      <td>NO_QUERY</td>\n",
       "      <td>acullenatheart</td>\n",
       "      <td>my iPhone is attempting to kill itself. Can't ...</td>\n",
       "      <td>iphone attempting kill ca wait get home try fix</td>\n",
       "      <td>47</td>\n",
       "      <td>78</td>\n",
       "    </tr>\n",
       "    <tr>\n",
       "      <th>724967</th>\n",
       "      <td>0</td>\n",
       "      <td>2262207910</td>\n",
       "      <td>Sat Jun 20 22:04:45 PDT 2009</td>\n",
       "      <td>NO_QUERY</td>\n",
       "      <td>locn</td>\n",
       "      <td>Zion and Vegas was so much awesomeness. Too ba...</td>\n",
       "      <td>zion vegas much awesomeness bad stupid camera ...</td>\n",
       "      <td>60</td>\n",
       "      <td>87</td>\n",
       "    </tr>\n",
       "    <tr>\n",
       "      <th>956955</th>\n",
       "      <td>1</td>\n",
       "      <td>1825348470</td>\n",
       "      <td>Sun May 17 05:21:54 PDT 2009</td>\n",
       "      <td>NO_QUERY</td>\n",
       "      <td>CarlaJaynee</td>\n",
       "      <td>Aww, 100 followers! I feel loved  I love you g...</td>\n",
       "      <td>aww followers feel loved love guys lt x</td>\n",
       "      <td>39</td>\n",
       "      <td>57</td>\n",
       "    </tr>\n",
       "    <tr>\n",
       "      <th>...</th>\n",
       "      <td>...</td>\n",
       "      <td>...</td>\n",
       "      <td>...</td>\n",
       "      <td>...</td>\n",
       "      <td>...</td>\n",
       "      <td>...</td>\n",
       "      <td>...</td>\n",
       "      <td>...</td>\n",
       "      <td>...</td>\n",
       "    </tr>\n",
       "    <tr>\n",
       "      <th>1033361</th>\n",
       "      <td>1</td>\n",
       "      <td>1955775749</td>\n",
       "      <td>Thu May 28 20:36:19 PDT 2009</td>\n",
       "      <td>NO_QUERY</td>\n",
       "      <td>admance</td>\n",
       "      <td>@artfanatic411 Yes, I did...Twitterholic is my...</td>\n",
       "      <td>yes twitterholic middle name</td>\n",
       "      <td>28</td>\n",
       "      <td>59</td>\n",
       "    </tr>\n",
       "    <tr>\n",
       "      <th>1413067</th>\n",
       "      <td>1</td>\n",
       "      <td>2056772328</td>\n",
       "      <td>Sat Jun 06 11:45:54 PDT 2009</td>\n",
       "      <td>NO_QUERY</td>\n",
       "      <td>Irv25</td>\n",
       "      <td>@David_DB your welcome!!!</td>\n",
       "      <td>welcome</td>\n",
       "      <td>7</td>\n",
       "      <td>26</td>\n",
       "    </tr>\n",
       "    <tr>\n",
       "      <th>416893</th>\n",
       "      <td>0</td>\n",
       "      <td>2061407079</td>\n",
       "      <td>Sat Jun 06 20:48:16 PDT 2009</td>\n",
       "      <td>NO_QUERY</td>\n",
       "      <td>kulex</td>\n",
       "      <td>Aww shit. Why did I decide to watch Grave of t...</td>\n",
       "      <td>aww shit decide watch grave fireflies</td>\n",
       "      <td>37</td>\n",
       "      <td>60</td>\n",
       "    </tr>\n",
       "    <tr>\n",
       "      <th>812540</th>\n",
       "      <td>1</td>\n",
       "      <td>1548528643</td>\n",
       "      <td>Fri Apr 17 21:12:19 PDT 2009</td>\n",
       "      <td>NO_QUERY</td>\n",
       "      <td>xCAROxx</td>\n",
       "      <td>i love movies with sexy people in them.  theyr...</td>\n",
       "      <td>love movies sexy people theyre quite delicious...</td>\n",
       "      <td>65</td>\n",
       "      <td>98</td>\n",
       "    </tr>\n",
       "    <tr>\n",
       "      <th>496806</th>\n",
       "      <td>0</td>\n",
       "      <td>2185683159</td>\n",
       "      <td>Mon Jun 15 17:45:00 PDT 2009</td>\n",
       "      <td>NO_QUERY</td>\n",
       "      <td>oliviaistaken</td>\n",
       "      <td>Going to tweet all I can before &amp;quot;Downtime...</td>\n",
       "      <td>going tweet quot downtime quot</td>\n",
       "      <td>30</td>\n",
       "      <td>53</td>\n",
       "    </tr>\n",
       "  </tbody>\n",
       "</table>\n",
       "<p>50000 rows × 9 columns</p>\n",
       "</div>"
      ],
      "text/plain": [
       "         Target         ids                          date      flag  \\\n",
       "1442958       1  2062053422  Sat Jun 06 22:13:19 PDT 2009  NO_QUERY   \n",
       "34148         0  1564713481  Mon Apr 20 04:39:20 PDT 2009  NO_QUERY   \n",
       "789182        0  2325319004  Thu Jun 25 05:13:08 PDT 2009  NO_QUERY   \n",
       "724967        0  2262207910  Sat Jun 20 22:04:45 PDT 2009  NO_QUERY   \n",
       "956955        1  1825348470  Sun May 17 05:21:54 PDT 2009  NO_QUERY   \n",
       "...         ...         ...                           ...       ...   \n",
       "1033361       1  1955775749  Thu May 28 20:36:19 PDT 2009  NO_QUERY   \n",
       "1413067       1  2056772328  Sat Jun 06 11:45:54 PDT 2009  NO_QUERY   \n",
       "416893        0  2061407079  Sat Jun 06 20:48:16 PDT 2009  NO_QUERY   \n",
       "812540        1  1548528643  Fri Apr 17 21:12:19 PDT 2009  NO_QUERY   \n",
       "496806        0  2185683159  Mon Jun 15 17:45:00 PDT 2009  NO_QUERY   \n",
       "\n",
       "                   user                                               text  \\\n",
       "1442958         KellyG5  http://twitpic.com/1uoev - ha ha what are you ...   \n",
       "34148      cl4irethomas  @AnnieC1 could do with some sympathy ... she's...   \n",
       "789182   acullenatheart  my iPhone is attempting to kill itself. Can't ...   \n",
       "724967             locn  Zion and Vegas was so much awesomeness. Too ba...   \n",
       "956955      CarlaJaynee  Aww, 100 followers! I feel loved  I love you g...   \n",
       "...                 ...                                                ...   \n",
       "1033361         admance  @artfanatic411 Yes, I did...Twitterholic is my...   \n",
       "1413067           Irv25                         @David_DB your welcome!!!    \n",
       "416893            kulex  Aww shit. Why did I decide to watch Grave of t...   \n",
       "812540          xCAROxx  i love movies with sexy people in them.  theyr...   \n",
       "496806    oliviaistaken  Going to tweet all I can before &quot;Downtime...   \n",
       "\n",
       "                                               final_tweet  final_text_length  \\\n",
       "1442958                       ha ha saying lol cute eh lol                 28   \n",
       "34148                could sympathy work sick today offers                 37   \n",
       "789182     iphone attempting kill ca wait get home try fix                 47   \n",
       "724967   zion vegas much awesomeness bad stupid camera ...                 60   \n",
       "956955             aww followers feel loved love guys lt x                 39   \n",
       "...                                                    ...                ...   \n",
       "1033361                       yes twitterholic middle name                 28   \n",
       "1413067                                            welcome                  7   \n",
       "416893               aww shit decide watch grave fireflies                 37   \n",
       "812540   love movies sexy people theyre quite delicious...                 65   \n",
       "496806                      going tweet quot downtime quot                 30   \n",
       "\n",
       "         text_length  \n",
       "1442958           91  \n",
       "34148             85  \n",
       "789182            78  \n",
       "724967            87  \n",
       "956955            57  \n",
       "...              ...  \n",
       "1033361           59  \n",
       "1413067           26  \n",
       "416893            60  \n",
       "812540            98  \n",
       "496806            53  \n",
       "\n",
       "[50000 rows x 9 columns]"
      ]
     },
     "execution_count": 689,
     "metadata": {},
     "output_type": "execute_result"
    }
   ],
   "source": [
    "sample_data"
   ]
  },
  {
   "cell_type": "code",
   "execution_count": 690,
   "id": "7c505c42-d896-472a-9414-641181b50b83",
   "metadata": {},
   "outputs": [
    {
     "data": {
      "image/png": "[encoded data removed]",
      "text/plain": [
       "<Figure size 1000x600 with 1 Axes>"
      ]
     },
     "metadata": {},
     "output_type": "display_data"
    }
   ],
   "source": [
    "\n",
    "# Plotting\n",
    "plt.figure(figsize=(10, 6))\n",
    "sns.histplot(data=sample_data, x='final_text_length', hue='Target', multiple='stack', palette={0: 'red', 1: 'green'})\n",
    "plt.xlabel('Number of Characters')\n",
    "plt.ylabel('Count')\n",
    "plt.title('Character Counts in Tweets After preprocessing')\n",
    "plt.show()"
   ]
  },
  {
   "cell_type": "code",
   "execution_count": 691,
   "id": "59b3a564-5628-4e6d-bebf-1e0561b21766",
   "metadata": {},
   "outputs": [
    {
     "data": {
      "image/png": "[encoded data removed]",
      "text/plain": [
       "<Figure size 1000x600 with 1 Axes>"
      ]
     },
     "metadata": {},
     "output_type": "display_data"
    }
   ],
   "source": [
    "\n",
    "# Plotting\n",
    "plt.figure(figsize=(10, 6))\n",
    "sns.histplot(data=sample_data, x='text_length', hue='Target', multiple='stack', palette={0: 'red', 1: 'green'})\n",
    "plt.xlabel('Number of Characters')\n",
    "plt.ylabel('Count')\n",
    "plt.title('Character Counts in Tweets Before preprocessing')\n",
    "plt.show()"
   ]
  },
  {
   "cell_type": "code",
   "execution_count": 692,
   "id": "168eb64f-54a6-497a-91e4-c1df3fd1f587",
   "metadata": {},
   "outputs": [
    {
     "data": {
      "text/plain": [
       "Target               0\n",
       "ids                  0\n",
       "date                 0\n",
       "flag                 0\n",
       "user                 0\n",
       "text                 0\n",
       "final_tweet          0\n",
       "final_text_length    0\n",
       "text_length          0\n",
       "dtype: int64"
      ]
     },
     "execution_count": 692,
     "metadata": {},
     "output_type": "execute_result"
    }
   ],
   "source": [
    "sample_data.isnull().sum()"
   ]
  },
  {
   "cell_type": "code",
   "execution_count": 693,
   "id": "86cbae24-eb39-479e-b31e-530559e46f55",
   "metadata": {},
   "outputs": [
    {
     "data": {
      "text/plain": [
       "'Fri Apr 17 20:31:46 PDT 2009'"
      ]
     },
     "execution_count": 693,
     "metadata": {},
     "output_type": "execute_result"
    }
   ],
   "source": [
    "sample_data[\"date\"].min() # First tweet "
   ]
  },
  {
   "cell_type": "code",
   "execution_count": 694,
   "id": "f052896e-abf6-4b09-84d6-4d69250422e4",
   "metadata": {},
   "outputs": [
    {
     "data": {
      "text/plain": [
       "'Wed May 27 07:27:36 PDT 2009'"
      ]
     },
     "execution_count": 694,
     "metadata": {},
     "output_type": "execute_result"
    }
   ],
   "source": [
    "sample_data.date.max() # Last Tweet"
   ]
  },
  {
   "cell_type": "code",
   "execution_count": 695,
   "id": "5f46bf16-e900-45bf-8dff-9174ea2e15e0",
   "metadata": {},
   "outputs": [
    {
     "data": {
      "text/plain": [
       "<Axes: xlabel='Target'>"
      ]
     },
     "execution_count": 695,
     "metadata": {},
     "output_type": "execute_result"
    },
    {
     "data": {
      "image/png": "[encoded data removed]",
      "text/plain": [
       "<Figure size 640x480 with 1 Axes>"
      ]
     },
     "metadata": {},
     "output_type": "display_data"
    }
   ],
   "source": [
    "sample_data.groupby('Target').size().plot(kind='bar')"
   ]
  },
  {
   "cell_type": "code",
   "execution_count": 696,
   "id": "674ee264-5b16-45ab-b4c9-4ec07dd114c6",
   "metadata": {},
   "outputs": [
    {
     "data": {
      "text/plain": [
       "Target\n",
       "0    25187\n",
       "1    24813\n",
       "Name: count, dtype: int64"
      ]
     },
     "execution_count": 696,
     "metadata": {},
     "output_type": "execute_result"
    }
   ],
   "source": [
    "sample_data[\"Target\"].value_counts()"
   ]
  },
  {
   "cell_type": "code",
   "execution_count": 697,
   "id": "fc02f4bc-fffe-419b-844d-5502a47f05bb",
   "metadata": {},
   "outputs": [
    {
     "data": {
      "text/plain": [
       "<Axes: xlabel='Target'>"
      ]
     },
     "execution_count": 697,
     "metadata": {},
     "output_type": "execute_result"
    },
    {
     "data": {
      "image/png": "[encoded data removed]",
      "text/plain": [
       "<Figure size 640x480 with 1 Axes>"
      ]
     },
     "metadata": {},
     "output_type": "display_data"
    }
   ],
   "source": [
    "sample_data[\"Target\"].value_counts().plot(kind=\"bar\")"
   ]
  },
  {
   "cell_type": "code",
   "execution_count": 698,
   "id": "05a1d73c-b2c7-4114-93c0-cb93041a53f0",
   "metadata": {},
   "outputs": [],
   "source": [
    "# As in Data set there is No \"2\" Neutral. So lets change 4 to 1"
   ]
  },
  {
   "cell_type": "code",
   "execution_count": 699,
   "id": "290bf591-837c-4f57-a023-8203fa8e94cf",
   "metadata": {},
   "outputs": [],
   "source": [
    "# using_data.replace({\"Target\":{4:1}}, inplace = True)"
   ]
  },
  {
   "cell_type": "code",
   "execution_count": 700,
   "id": "bcc66188-48c0-4520-8fbe-cd20248c792a",
   "metadata": {},
   "outputs": [
    {
     "data": {
      "text/html": [
       "<div>\n",
       "<style scoped>\n",
       "    .dataframe tbody tr th:only-of-type {\n",
       "        vertical-align: middle;\n",
       "    }\n",
       "\n",
       "    .dataframe tbody tr th {\n",
       "        vertical-align: top;\n",
       "    }\n",
       "\n",
       "    .dataframe thead th {\n",
       "        text-align: right;\n",
       "    }\n",
       "</style>\n",
       "<table border=\"1\" class=\"dataframe\">\n",
       "  <thead>\n",
       "    <tr style=\"text-align: right;\">\n",
       "      <th></th>\n",
       "      <th>Target</th>\n",
       "      <th>ids</th>\n",
       "      <th>date</th>\n",
       "      <th>flag</th>\n",
       "      <th>user</th>\n",
       "      <th>text</th>\n",
       "      <th>final_tweet</th>\n",
       "      <th>final_text_length</th>\n",
       "      <th>text_length</th>\n",
       "    </tr>\n",
       "  </thead>\n",
       "  <tbody>\n",
       "    <tr>\n",
       "      <th>1442958</th>\n",
       "      <td>1</td>\n",
       "      <td>2062053422</td>\n",
       "      <td>Sat Jun 06 22:13:19 PDT 2009</td>\n",
       "      <td>NO_QUERY</td>\n",
       "      <td>KellyG5</td>\n",
       "      <td>http://twitpic.com/1uoev - ha ha what are you ...</td>\n",
       "      <td>ha ha saying lol cute eh lol</td>\n",
       "      <td>28</td>\n",
       "      <td>91</td>\n",
       "    </tr>\n",
       "    <tr>\n",
       "      <th>34148</th>\n",
       "      <td>0</td>\n",
       "      <td>1564713481</td>\n",
       "      <td>Mon Apr 20 04:39:20 PDT 2009</td>\n",
       "      <td>NO_QUERY</td>\n",
       "      <td>cl4irethomas</td>\n",
       "      <td>@AnnieC1 could do with some sympathy ... she's...</td>\n",
       "      <td>could sympathy work sick today offers</td>\n",
       "      <td>37</td>\n",
       "      <td>85</td>\n",
       "    </tr>\n",
       "    <tr>\n",
       "      <th>789182</th>\n",
       "      <td>0</td>\n",
       "      <td>2325319004</td>\n",
       "      <td>Thu Jun 25 05:13:08 PDT 2009</td>\n",
       "      <td>NO_QUERY</td>\n",
       "      <td>acullenatheart</td>\n",
       "      <td>my iPhone is attempting to kill itself. Can't ...</td>\n",
       "      <td>iphone attempting kill ca wait get home try fix</td>\n",
       "      <td>47</td>\n",
       "      <td>78</td>\n",
       "    </tr>\n",
       "    <tr>\n",
       "      <th>724967</th>\n",
       "      <td>0</td>\n",
       "      <td>2262207910</td>\n",
       "      <td>Sat Jun 20 22:04:45 PDT 2009</td>\n",
       "      <td>NO_QUERY</td>\n",
       "      <td>locn</td>\n",
       "      <td>Zion and Vegas was so much awesomeness. Too ba...</td>\n",
       "      <td>zion vegas much awesomeness bad stupid camera ...</td>\n",
       "      <td>60</td>\n",
       "      <td>87</td>\n",
       "    </tr>\n",
       "    <tr>\n",
       "      <th>956955</th>\n",
       "      <td>1</td>\n",
       "      <td>1825348470</td>\n",
       "      <td>Sun May 17 05:21:54 PDT 2009</td>\n",
       "      <td>NO_QUERY</td>\n",
       "      <td>CarlaJaynee</td>\n",
       "      <td>Aww, 100 followers! I feel loved  I love you g...</td>\n",
       "      <td>aww followers feel loved love guys lt x</td>\n",
       "      <td>39</td>\n",
       "      <td>57</td>\n",
       "    </tr>\n",
       "    <tr>\n",
       "      <th>...</th>\n",
       "      <td>...</td>\n",
       "      <td>...</td>\n",
       "      <td>...</td>\n",
       "      <td>...</td>\n",
       "      <td>...</td>\n",
       "      <td>...</td>\n",
       "      <td>...</td>\n",
       "      <td>...</td>\n",
       "      <td>...</td>\n",
       "    </tr>\n",
       "    <tr>\n",
       "      <th>1033361</th>\n",
       "      <td>1</td>\n",
       "      <td>1955775749</td>\n",
       "      <td>Thu May 28 20:36:19 PDT 2009</td>\n",
       "      <td>NO_QUERY</td>\n",
       "      <td>admance</td>\n",
       "      <td>@artfanatic411 Yes, I did...Twitterholic is my...</td>\n",
       "      <td>yes twitterholic middle name</td>\n",
       "      <td>28</td>\n",
       "      <td>59</td>\n",
       "    </tr>\n",
       "    <tr>\n",
       "      <th>1413067</th>\n",
       "      <td>1</td>\n",
       "      <td>2056772328</td>\n",
       "      <td>Sat Jun 06 11:45:54 PDT 2009</td>\n",
       "      <td>NO_QUERY</td>\n",
       "      <td>Irv25</td>\n",
       "      <td>@David_DB your welcome!!!</td>\n",
       "      <td>welcome</td>\n",
       "      <td>7</td>\n",
       "      <td>26</td>\n",
       "    </tr>\n",
       "    <tr>\n",
       "      <th>416893</th>\n",
       "      <td>0</td>\n",
       "      <td>2061407079</td>\n",
       "      <td>Sat Jun 06 20:48:16 PDT 2009</td>\n",
       "      <td>NO_QUERY</td>\n",
       "      <td>kulex</td>\n",
       "      <td>Aww shit. Why did I decide to watch Grave of t...</td>\n",
       "      <td>aww shit decide watch grave fireflies</td>\n",
       "      <td>37</td>\n",
       "      <td>60</td>\n",
       "    </tr>\n",
       "    <tr>\n",
       "      <th>812540</th>\n",
       "      <td>1</td>\n",
       "      <td>1548528643</td>\n",
       "      <td>Fri Apr 17 21:12:19 PDT 2009</td>\n",
       "      <td>NO_QUERY</td>\n",
       "      <td>xCAROxx</td>\n",
       "      <td>i love movies with sexy people in them.  theyr...</td>\n",
       "      <td>love movies sexy people theyre quite delicious...</td>\n",
       "      <td>65</td>\n",
       "      <td>98</td>\n",
       "    </tr>\n",
       "    <tr>\n",
       "      <th>496806</th>\n",
       "      <td>0</td>\n",
       "      <td>2185683159</td>\n",
       "      <td>Mon Jun 15 17:45:00 PDT 2009</td>\n",
       "      <td>NO_QUERY</td>\n",
       "      <td>oliviaistaken</td>\n",
       "      <td>Going to tweet all I can before &amp;quot;Downtime...</td>\n",
       "      <td>going tweet quot downtime quot</td>\n",
       "      <td>30</td>\n",
       "      <td>53</td>\n",
       "    </tr>\n",
       "  </tbody>\n",
       "</table>\n",
       "<p>50000 rows × 9 columns</p>\n",
       "</div>"
      ],
      "text/plain": [
       "         Target         ids                          date      flag  \\\n",
       "1442958       1  2062053422  Sat Jun 06 22:13:19 PDT 2009  NO_QUERY   \n",
       "34148         0  1564713481  Mon Apr 20 04:39:20 PDT 2009  NO_QUERY   \n",
       "789182        0  2325319004  Thu Jun 25 05:13:08 PDT 2009  NO_QUERY   \n",
       "724967        0  2262207910  Sat Jun 20 22:04:45 PDT 2009  NO_QUERY   \n",
       "956955        1  1825348470  Sun May 17 05:21:54 PDT 2009  NO_QUERY   \n",
       "...         ...         ...                           ...       ...   \n",
       "1033361       1  1955775749  Thu May 28 20:36:19 PDT 2009  NO_QUERY   \n",
       "1413067       1  2056772328  Sat Jun 06 11:45:54 PDT 2009  NO_QUERY   \n",
       "416893        0  2061407079  Sat Jun 06 20:48:16 PDT 2009  NO_QUERY   \n",
       "812540        1  1548528643  Fri Apr 17 21:12:19 PDT 2009  NO_QUERY   \n",
       "496806        0  2185683159  Mon Jun 15 17:45:00 PDT 2009  NO_QUERY   \n",
       "\n",
       "                   user                                               text  \\\n",
       "1442958         KellyG5  http://twitpic.com/1uoev - ha ha what are you ...   \n",
       "34148      cl4irethomas  @AnnieC1 could do with some sympathy ... she's...   \n",
       "789182   acullenatheart  my iPhone is attempting to kill itself. Can't ...   \n",
       "724967             locn  Zion and Vegas was so much awesomeness. Too ba...   \n",
       "956955      CarlaJaynee  Aww, 100 followers! I feel loved  I love you g...   \n",
       "...                 ...                                                ...   \n",
       "1033361         admance  @artfanatic411 Yes, I did...Twitterholic is my...   \n",
       "1413067           Irv25                         @David_DB your welcome!!!    \n",
       "416893            kulex  Aww shit. Why did I decide to watch Grave of t...   \n",
       "812540          xCAROxx  i love movies with sexy people in them.  theyr...   \n",
       "496806    oliviaistaken  Going to tweet all I can before &quot;Downtime...   \n",
       "\n",
       "                                               final_tweet  final_text_length  \\\n",
       "1442958                       ha ha saying lol cute eh lol                 28   \n",
       "34148                could sympathy work sick today offers                 37   \n",
       "789182     iphone attempting kill ca wait get home try fix                 47   \n",
       "724967   zion vegas much awesomeness bad stupid camera ...                 60   \n",
       "956955             aww followers feel loved love guys lt x                 39   \n",
       "...                                                    ...                ...   \n",
       "1033361                       yes twitterholic middle name                 28   \n",
       "1413067                                            welcome                  7   \n",
       "416893               aww shit decide watch grave fireflies                 37   \n",
       "812540   love movies sexy people theyre quite delicious...                 65   \n",
       "496806                      going tweet quot downtime quot                 30   \n",
       "\n",
       "         text_length  \n",
       "1442958           91  \n",
       "34148             85  \n",
       "789182            78  \n",
       "724967            87  \n",
       "956955            57  \n",
       "...              ...  \n",
       "1033361           59  \n",
       "1413067           26  \n",
       "416893            60  \n",
       "812540            98  \n",
       "496806            53  \n",
       "\n",
       "[50000 rows x 9 columns]"
      ]
     },
     "execution_count": 700,
     "metadata": {},
     "output_type": "execute_result"
    }
   ],
   "source": [
    "sample_data"
   ]
  },
  {
   "cell_type": "markdown",
   "id": "9c0fbe70-7014-4c78-ba48-aa69b058a219",
   "metadata": {},
   "source": [
    "# Working On model Implementation"
   ]
  },
  {
   "cell_type": "code",
   "execution_count": 702,
   "id": "7dd5ffb9-f78e-4130-a23b-68133bf4a3e9",
   "metadata": {},
   "outputs": [],
   "source": [
    "X = sample_data[\"final_tweet\"]\n",
    "Y = sample_data[\"Target\"]"
   ]
  },
  {
   "cell_type": "code",
   "execution_count": 703,
   "id": "4d2dc52f-d4dc-42ee-adea-a25ced31b143",
   "metadata": {},
   "outputs": [],
   "source": [
    "X_train, X_test, Y_train, Y_test = train_test_split(X, Y, test_size = 0.33, stratify = Y, random_state = 42)"
   ]
  },
  {
   "cell_type": "code",
   "execution_count": 704,
   "id": "22472273-8a02-4362-97a8-edb2e7ed65ef",
   "metadata": {},
   "outputs": [
    {
     "data": {
      "text/plain": [
       "<matplotlib.legend.Legend at 0x7195d8fd9e90>"
      ]
     },
     "execution_count": 704,
     "metadata": {},
     "output_type": "execute_result"
    },
    {
     "data": {
      "image/png": "[encoded data removed]",
      "text/plain": [
       "<Figure size 1000x600 with 1 Axes>"
      ]
     },
     "metadata": {},
     "output_type": "display_data"
    }
   ],
   "source": [
    "length_train = X_train.str.len()\n",
    "plt.figure(figsize=(10,6))\n",
    "plt.hist(length_train, bins=50, label=\"Training Text\", color = \"blue\")\n",
    "plt.legend()"
   ]
  },
  {
   "cell_type": "code",
   "execution_count": 705,
   "id": "56598e25-9533-4fc8-8e73-588dcd0625a0",
   "metadata": {},
   "outputs": [
    {
     "data": {
      "text/plain": [
       "<matplotlib.legend.Legend at 0x7195d8fbf250>"
      ]
     },
     "execution_count": 705,
     "metadata": {},
     "output_type": "execute_result"
    },
    {
     "data": {
      "image/png": "[encoded data removed]",
      "text/plain": [
       "<Figure size 1000x600 with 1 Axes>"
      ]
     },
     "metadata": {},
     "output_type": "display_data"
    }
   ],
   "source": [
    "length_test = X_test.str.len()\n",
    "plt.figure(figsize=(10,6))\n",
    "plt.hist(length_test, bins=50, label=\"Training Text\", color = \"red\")\n",
    "plt.legend()"
   ]
  },
  {
   "cell_type": "code",
   "execution_count": 706,
   "id": "590d8ef9-74c7-4312-bb86-aa7027ec0a3a",
   "metadata": {},
   "outputs": [
    {
     "data": {
      "text/plain": [
       "<matplotlib.legend.Legend at 0x7195d8be9e90>"
      ]
     },
     "execution_count": 706,
     "metadata": {},
     "output_type": "execute_result"
    },
    {
     "data": {
      "image/png": "[encoded data removed]",
      "text/plain": [
       "<Figure size 1000x600 with 1 Axes>"
      ]
     },
     "metadata": {},
     "output_type": "display_data"
    }
   ],
   "source": [
    "length_train = X_train.str.len()\n",
    "length_test = X_test.str.len()\n",
    "plt.figure(figsize=(10,6))\n",
    "plt.hist(length_train, bins=50, label='Training Text', color = \"blue\")\n",
    "plt.hist(length_test, bins=50, label='Testing Text', color = \"red\")\n",
    "plt.legend()"
   ]
  },
  {
   "cell_type": "code",
   "execution_count": 707,
   "id": "bf9b2c8e-b9e0-49eb-b975-83457be4aca9",
   "metadata": {},
   "outputs": [
    {
     "data": {
      "text/html": [
       "<div>\n",
       "<style scoped>\n",
       "    .dataframe tbody tr th:only-of-type {\n",
       "        vertical-align: middle;\n",
       "    }\n",
       "\n",
       "    .dataframe tbody tr th {\n",
       "        vertical-align: top;\n",
       "    }\n",
       "\n",
       "    .dataframe thead th {\n",
       "        text-align: right;\n",
       "    }\n",
       "</style>\n",
       "<table border=\"1\" class=\"dataframe\">\n",
       "  <thead>\n",
       "    <tr style=\"text-align: right;\">\n",
       "      <th></th>\n",
       "      <th>Target</th>\n",
       "      <th>ids</th>\n",
       "      <th>date</th>\n",
       "      <th>flag</th>\n",
       "      <th>user</th>\n",
       "      <th>text</th>\n",
       "      <th>final_tweet</th>\n",
       "      <th>final_text_length</th>\n",
       "      <th>text_length</th>\n",
       "    </tr>\n",
       "  </thead>\n",
       "  <tbody>\n",
       "    <tr>\n",
       "      <th>1442958</th>\n",
       "      <td>1</td>\n",
       "      <td>2062053422</td>\n",
       "      <td>Sat Jun 06 22:13:19 PDT 2009</td>\n",
       "      <td>NO_QUERY</td>\n",
       "      <td>KellyG5</td>\n",
       "      <td>http://twitpic.com/1uoev - ha ha what are you ...</td>\n",
       "      <td>ha ha saying lol cute eh lol</td>\n",
       "      <td>28</td>\n",
       "      <td>91</td>\n",
       "    </tr>\n",
       "    <tr>\n",
       "      <th>34148</th>\n",
       "      <td>0</td>\n",
       "      <td>1564713481</td>\n",
       "      <td>Mon Apr 20 04:39:20 PDT 2009</td>\n",
       "      <td>NO_QUERY</td>\n",
       "      <td>cl4irethomas</td>\n",
       "      <td>@AnnieC1 could do with some sympathy ... she's...</td>\n",
       "      <td>could sympathy work sick today offers</td>\n",
       "      <td>37</td>\n",
       "      <td>85</td>\n",
       "    </tr>\n",
       "    <tr>\n",
       "      <th>789182</th>\n",
       "      <td>0</td>\n",
       "      <td>2325319004</td>\n",
       "      <td>Thu Jun 25 05:13:08 PDT 2009</td>\n",
       "      <td>NO_QUERY</td>\n",
       "      <td>acullenatheart</td>\n",
       "      <td>my iPhone is attempting to kill itself. Can't ...</td>\n",
       "      <td>iphone attempting kill ca wait get home try fix</td>\n",
       "      <td>47</td>\n",
       "      <td>78</td>\n",
       "    </tr>\n",
       "    <tr>\n",
       "      <th>724967</th>\n",
       "      <td>0</td>\n",
       "      <td>2262207910</td>\n",
       "      <td>Sat Jun 20 22:04:45 PDT 2009</td>\n",
       "      <td>NO_QUERY</td>\n",
       "      <td>locn</td>\n",
       "      <td>Zion and Vegas was so much awesomeness. Too ba...</td>\n",
       "      <td>zion vegas much awesomeness bad stupid camera ...</td>\n",
       "      <td>60</td>\n",
       "      <td>87</td>\n",
       "    </tr>\n",
       "    <tr>\n",
       "      <th>956955</th>\n",
       "      <td>1</td>\n",
       "      <td>1825348470</td>\n",
       "      <td>Sun May 17 05:21:54 PDT 2009</td>\n",
       "      <td>NO_QUERY</td>\n",
       "      <td>CarlaJaynee</td>\n",
       "      <td>Aww, 100 followers! I feel loved  I love you g...</td>\n",
       "      <td>aww followers feel loved love guys lt x</td>\n",
       "      <td>39</td>\n",
       "      <td>57</td>\n",
       "    </tr>\n",
       "    <tr>\n",
       "      <th>...</th>\n",
       "      <td>...</td>\n",
       "      <td>...</td>\n",
       "      <td>...</td>\n",
       "      <td>...</td>\n",
       "      <td>...</td>\n",
       "      <td>...</td>\n",
       "      <td>...</td>\n",
       "      <td>...</td>\n",
       "      <td>...</td>\n",
       "    </tr>\n",
       "    <tr>\n",
       "      <th>1033361</th>\n",
       "      <td>1</td>\n",
       "      <td>1955775749</td>\n",
       "      <td>Thu May 28 20:36:19 PDT 2009</td>\n",
       "      <td>NO_QUERY</td>\n",
       "      <td>admance</td>\n",
       "      <td>@artfanatic411 Yes, I did...Twitterholic is my...</td>\n",
       "      <td>yes twitterholic middle name</td>\n",
       "      <td>28</td>\n",
       "      <td>59</td>\n",
       "    </tr>\n",
       "    <tr>\n",
       "      <th>1413067</th>\n",
       "      <td>1</td>\n",
       "      <td>2056772328</td>\n",
       "      <td>Sat Jun 06 11:45:54 PDT 2009</td>\n",
       "      <td>NO_QUERY</td>\n",
       "      <td>Irv25</td>\n",
       "      <td>@David_DB your welcome!!!</td>\n",
       "      <td>welcome</td>\n",
       "      <td>7</td>\n",
       "      <td>26</td>\n",
       "    </tr>\n",
       "    <tr>\n",
       "      <th>416893</th>\n",
       "      <td>0</td>\n",
       "      <td>2061407079</td>\n",
       "      <td>Sat Jun 06 20:48:16 PDT 2009</td>\n",
       "      <td>NO_QUERY</td>\n",
       "      <td>kulex</td>\n",
       "      <td>Aww shit. Why did I decide to watch Grave of t...</td>\n",
       "      <td>aww shit decide watch grave fireflies</td>\n",
       "      <td>37</td>\n",
       "      <td>60</td>\n",
       "    </tr>\n",
       "    <tr>\n",
       "      <th>812540</th>\n",
       "      <td>1</td>\n",
       "      <td>1548528643</td>\n",
       "      <td>Fri Apr 17 21:12:19 PDT 2009</td>\n",
       "      <td>NO_QUERY</td>\n",
       "      <td>xCAROxx</td>\n",
       "      <td>i love movies with sexy people in them.  theyr...</td>\n",
       "      <td>love movies sexy people theyre quite delicious...</td>\n",
       "      <td>65</td>\n",
       "      <td>98</td>\n",
       "    </tr>\n",
       "    <tr>\n",
       "      <th>496806</th>\n",
       "      <td>0</td>\n",
       "      <td>2185683159</td>\n",
       "      <td>Mon Jun 15 17:45:00 PDT 2009</td>\n",
       "      <td>NO_QUERY</td>\n",
       "      <td>oliviaistaken</td>\n",
       "      <td>Going to tweet all I can before &amp;quot;Downtime...</td>\n",
       "      <td>going tweet quot downtime quot</td>\n",
       "      <td>30</td>\n",
       "      <td>53</td>\n",
       "    </tr>\n",
       "  </tbody>\n",
       "</table>\n",
       "<p>50000 rows × 9 columns</p>\n",
       "</div>"
      ],
      "text/plain": [
       "         Target         ids                          date      flag  \\\n",
       "1442958       1  2062053422  Sat Jun 06 22:13:19 PDT 2009  NO_QUERY   \n",
       "34148         0  1564713481  Mon Apr 20 04:39:20 PDT 2009  NO_QUERY   \n",
       "789182        0  2325319004  Thu Jun 25 05:13:08 PDT 2009  NO_QUERY   \n",
       "724967        0  2262207910  Sat Jun 20 22:04:45 PDT 2009  NO_QUERY   \n",
       "956955        1  1825348470  Sun May 17 05:21:54 PDT 2009  NO_QUERY   \n",
       "...         ...         ...                           ...       ...   \n",
       "1033361       1  1955775749  Thu May 28 20:36:19 PDT 2009  NO_QUERY   \n",
       "1413067       1  2056772328  Sat Jun 06 11:45:54 PDT 2009  NO_QUERY   \n",
       "416893        0  2061407079  Sat Jun 06 20:48:16 PDT 2009  NO_QUERY   \n",
       "812540        1  1548528643  Fri Apr 17 21:12:19 PDT 2009  NO_QUERY   \n",
       "496806        0  2185683159  Mon Jun 15 17:45:00 PDT 2009  NO_QUERY   \n",
       "\n",
       "                   user                                               text  \\\n",
       "1442958         KellyG5  http://twitpic.com/1uoev - ha ha what are you ...   \n",
       "34148      cl4irethomas  @AnnieC1 could do with some sympathy ... she's...   \n",
       "789182   acullenatheart  my iPhone is attempting to kill itself. Can't ...   \n",
       "724967             locn  Zion and Vegas was so much awesomeness. Too ba...   \n",
       "956955      CarlaJaynee  Aww, 100 followers! I feel loved  I love you g...   \n",
       "...                 ...                                                ...   \n",
       "1033361         admance  @artfanatic411 Yes, I did...Twitterholic is my...   \n",
       "1413067           Irv25                         @David_DB your welcome!!!    \n",
       "416893            kulex  Aww shit. Why did I decide to watch Grave of t...   \n",
       "812540          xCAROxx  i love movies with sexy people in them.  theyr...   \n",
       "496806    oliviaistaken  Going to tweet all I can before &quot;Downtime...   \n",
       "\n",
       "                                               final_tweet  final_text_length  \\\n",
       "1442958                       ha ha saying lol cute eh lol                 28   \n",
       "34148                could sympathy work sick today offers                 37   \n",
       "789182     iphone attempting kill ca wait get home try fix                 47   \n",
       "724967   zion vegas much awesomeness bad stupid camera ...                 60   \n",
       "956955             aww followers feel loved love guys lt x                 39   \n",
       "...                                                    ...                ...   \n",
       "1033361                       yes twitterholic middle name                 28   \n",
       "1413067                                            welcome                  7   \n",
       "416893               aww shit decide watch grave fireflies                 37   \n",
       "812540   love movies sexy people theyre quite delicious...                 65   \n",
       "496806                      going tweet quot downtime quot                 30   \n",
       "\n",
       "         text_length  \n",
       "1442958           91  \n",
       "34148             85  \n",
       "789182            78  \n",
       "724967            87  \n",
       "956955            57  \n",
       "...              ...  \n",
       "1033361           59  \n",
       "1413067           26  \n",
       "416893            60  \n",
       "812540            98  \n",
       "496806            53  \n",
       "\n",
       "[50000 rows x 9 columns]"
      ]
     },
     "execution_count": 707,
     "metadata": {},
     "output_type": "execute_result"
    }
   ],
   "source": [
    "sample_data"
   ]
  },
  {
   "cell_type": "code",
   "execution_count": 714,
   "id": "a832a713-7ba1-424c-b779-1921aaea07d4",
   "metadata": {},
   "outputs": [],
   "source": [
    "X = sample_data[\"final_tweet\"]\n",
    "Y = sample_data[\"Target\"]\n",
    "X_train, X_test, Y_train, Y_test = train_test_split(X, Y, test_size = 0.33, stratify = Y, random_state = 42)"
   ]
  },
  {
   "cell_type": "code",
   "execution_count": 716,
   "id": "9f129399-a8d8-4893-9783-0fcd483ecc28",
   "metadata": {},
   "outputs": [],
   "source": [
    "vectorizer = TfidfVectorizer()\n",
    "X_train = vectorizer.fit_transform(X_train)\n",
    "X_test = vectorizer.transform(X_test)"
   ]
  },
  {
   "cell_type": "code",
   "execution_count": 718,
   "id": "8042a103-8c95-4df9-aba8-733c553b92e2",
   "metadata": {},
   "outputs": [
    {
     "name": "stdout",
     "output_type": "stream",
     "text": [
      "  (0, 4750)\t0.285336446729736\n",
      "  (0, 13684)\t0.3571419903170213\n",
      "  (0, 15232)\t0.41077986959540397\n",
      "  (0, 679)\t0.2536745622290616\n",
      "  (0, 24914)\t0.30743056300545\n",
      "  (0, 24298)\t0.30743056300545\n",
      "  (0, 23746)\t0.1755829535811562\n",
      "  (0, 23667)\t0.23216643872413337\n",
      "  (0, 14500)\t0.4201237923198626\n",
      "  (0, 26286)\t0.2565214670876748\n",
      "  (0, 15160)\t0.20463829354561308\n",
      "  (1, 1538)\t0.7057499015330406\n",
      "  (1, 26638)\t0.708461062081822\n",
      "  (2, 2025)\t0.1809951294187414\n",
      "  (2, 13615)\t0.16661832522136755\n",
      "  (2, 25467)\t0.2884551139570287\n",
      "  (2, 17752)\t0.3083834631458847\n",
      "  (2, 25839)\t0.3083834631458847\n",
      "  (2, 23941)\t0.22154464518925604\n",
      "  (2, 13748)\t0.2034251018597497\n",
      "  (2, 18675)\t0.5605181479153221\n",
      "  (2, 6031)\t0.26852676476817267\n",
      "  (2, 10298)\t0.3083834631458847\n",
      "  (2, 14010)\t0.24521209081465745\n",
      "  (2, 8249)\t0.18463930820371377\n",
      "  :\t:\n",
      "  (33495, 17475)\t0.6806719696195248\n",
      "  (33496, 11714)\t0.4274372425922687\n",
      "  (33496, 14754)\t0.4496949679040325\n",
      "  (33496, 4542)\t0.2735308908606615\n",
      "  (33496, 25838)\t0.3523727510616534\n",
      "  (33496, 7347)\t0.2889628867829605\n",
      "  (33496, 19552)\t0.3143566458210111\n",
      "  (33496, 24954)\t0.2448853500077418\n",
      "  (33496, 13542)\t0.3716243147586079\n",
      "  (33496, 9583)\t0.18892596132645836\n",
      "  (33497, 20196)\t0.32397996716544447\n",
      "  (33497, 8689)\t0.45940091706545544\n",
      "  (33497, 24983)\t0.3551275288754126\n",
      "  (33497, 23415)\t0.5881224732091495\n",
      "  (33497, 7561)\t0.24946065362374423\n",
      "  (33497, 18012)\t0.3270541968062426\n",
      "  (33497, 18909)\t0.20685528192707628\n",
      "  (33499, 8356)\t0.40504391492803204\n",
      "  (33499, 15734)\t0.3611737155657752\n",
      "  (33499, 3065)\t0.39536682590058786\n",
      "  (33499, 13947)\t0.307411915107463\n",
      "  (33499, 2880)\t0.38746006845083775\n",
      "  (33499, 22705)\t0.37778297942339356\n",
      "  (33499, 22937)\t0.3556299527749894\n",
      "  (33499, 9583)\t0.1880372678347481\n"
     ]
    }
   ],
   "source": [
    "print(X_train)"
   ]
  },
  {
   "cell_type": "code",
   "execution_count": 720,
   "id": "ddb98db1-6be4-486e-b8b9-1113dff9e7bf",
   "metadata": {},
   "outputs": [
    {
     "name": "stdout",
     "output_type": "stream",
     "text": [
      "  (0, 22263)\t0.424269200240435\n",
      "  (0, 22250)\t0.42714900686286034\n",
      "  (0, 19900)\t0.37114276033781674\n",
      "  (0, 16368)\t0.25543338875565047\n",
      "  (0, 13463)\t0.4636078656721006\n",
      "  (0, 9984)\t0.27011334705212664\n",
      "  (0, 4631)\t0.3829526519718875\n",
      "  (1, 13782)\t0.3219855368734756\n",
      "  (1, 9207)\t0.5556371646069063\n",
      "  (1, 6490)\t0.6053330674484935\n",
      "  (1, 3483)\t0.4702813336772944\n",
      "  (2, 22266)\t0.429223995777511\n",
      "  (2, 21657)\t0.24893320814803294\n",
      "  (2, 17959)\t0.48636034389004223\n",
      "  (2, 16416)\t0.31506174819544536\n",
      "  (2, 13716)\t0.20609627630349428\n",
      "  (2, 9641)\t0.36796540147042495\n",
      "  (2, 9361)\t0.30431548572166334\n",
      "  (2, 3542)\t0.3840658842043067\n",
      "  (3, 25799)\t0.5371959133350348\n",
      "  (3, 21617)\t0.6343218840433256\n",
      "  (3, 10800)\t0.555928321026968\n",
      "  (4, 26491)\t0.24329626112187816\n",
      "  (4, 25815)\t0.3936682943589734\n",
      "  (4, 25219)\t0.2605252598641996\n",
      "  :\t:\n",
      "  (16494, 4411)\t0.38609042754700823\n",
      "  (16495, 23613)\t0.2356066948788948\n",
      "  (16495, 14881)\t0.32331787856349326\n",
      "  (16495, 12174)\t0.4664626217278268\n",
      "  (16495, 10800)\t0.5200245255865704\n",
      "  (16495, 9725)\t0.2657362403582129\n",
      "  (16495, 7338)\t0.4173257378599872\n",
      "  (16495, 2377)\t0.32736161828872\n",
      "  (16496, 23344)\t0.3799237250395624\n",
      "  (16496, 22923)\t0.3433036406225573\n",
      "  (16496, 18885)\t0.40095994399442025\n",
      "  (16496, 18530)\t0.3812104680138591\n",
      "  (16496, 17453)\t0.4005140111634836\n",
      "  (16496, 13782)\t0.3390542739843072\n",
      "  (16496, 8928)\t0.3953998002411207\n",
      "  (16497, 26138)\t0.64034562602012\n",
      "  (16497, 19484)\t0.47514622586541305\n",
      "  (16497, 9442)\t0.25555319653740594\n",
      "  (16497, 4320)\t0.41519942247531755\n",
      "  (16497, 698)\t0.3556621242112117\n",
      "  (16498, 1982)\t1.0\n",
      "  (16499, 26084)\t0.5666576677269365\n",
      "  (16499, 21535)\t0.5822216854913147\n",
      "  (16499, 20437)\t0.29319852459662654\n",
      "  (16499, 1054)\t0.5039361286158026\n"
     ]
    }
   ],
   "source": [
    "print(X_test)"
   ]
  },
  {
   "cell_type": "code",
   "execution_count": 725,
   "id": "08de4738-6f1f-49fa-bf42-b83da2f43c16",
   "metadata": {},
   "outputs": [
    {
     "name": "stdout",
     "output_type": "stream",
     "text": [
      "SVM Accuracy Training Data: 0.8317910447761194\n"
     ]
    }
   ],
   "source": [
    "lg = LogisticRegression(max_iter = 1000)\n",
    "lg.fit(X_train, Y_train)\n",
    "X_train_predict = lg.predict(X_train)\n",
    "print(\"SVM Accuracy Training Data:\",accuracy_score(Y_train, X_train_predict))"
   ]
  },
  {
   "cell_type": "code",
   "execution_count": 746,
   "id": "79e6435b-02ea-43cc-abb4-b3998f9a25ad",
   "metadata": {},
   "outputs": [
    {
     "name": "stdout",
     "output_type": "stream",
     "text": [
      "SVM Accuracy Tresting Data: 0.7531515151515151\n"
     ]
    }
   ],
   "source": [
    "# Accuracy \n",
    "X_test_predict = lg.predict(X_test)\n",
    "print(\"SVM Accuracy Tresting Data:\",accuracy_score(Y_test, X_test_predict))"
   ]
  },
  {
   "cell_type": "code",
   "execution_count": 724,
   "id": "49f50e22-8cb7-4654-98fe-9e248230a8d7",
   "metadata": {},
   "outputs": [
    {
     "name": "stdout",
     "output_type": "stream",
     "text": [
      "SVM Accuracy Training Data: 0.9574626865671642\n",
      "SVM Classification Report:\n",
      "               precision    recall  f1-score   support\n",
      "\n",
      "           0       0.95      0.96      0.96     16875\n",
      "           1       0.96      0.95      0.96     16625\n",
      "\n",
      "    accuracy                           0.96     33500\n",
      "   macro avg       0.96      0.96      0.96     33500\n",
      "weighted avg       0.96      0.96      0.96     33500\n",
      "\n"
     ]
    }
   ],
   "source": [
    "# Training Data\n",
    "svm = SVC()\n",
    "svm.fit(X_train, Y_train)\n",
    "X_train_predict = svm.predict(X_train)\n",
    "print(\"SVM Accuracy Training Data:\", accuracy_score(Y_train, X_train_predict))\n",
    "print(\"SVM Classification Report:\\n\", classification_report(Y_train, X_train_predict))"
   ]
  },
  {
   "cell_type": "code",
   "execution_count": 748,
   "id": "a4e3c2a8-b11b-4625-9113-b2ed9061c9c1",
   "metadata": {},
   "outputs": [
    {
     "name": "stdout",
     "output_type": "stream",
     "text": [
      "SVM Accuracy Testing Data: 0.7519393939393939\n",
      "SVM Classification Report:\n",
      "               precision    recall  f1-score   support\n",
      "\n",
      "           0       0.76      0.75      0.75      8312\n",
      "           1       0.75      0.76      0.75      8188\n",
      "\n",
      "    accuracy                           0.75     16500\n",
      "   macro avg       0.75      0.75      0.75     16500\n",
      "weighted avg       0.75      0.75      0.75     16500\n",
      "\n"
     ]
    }
   ],
   "source": [
    "# Testing Data\n",
    "svm = SVC()\n",
    "svm.fit(X_train, Y_train)\n",
    "X_test_predict = svm.predict(X_test)\n",
    "print(\"SVM Accuracy Testing Data:\", accuracy_score(Y_test, X_test_predict))\n",
    "print(\"SVM Classification Report:\\n\", classification_report(Y_test, X_test_predict))"
   ]
  },
  {
   "cell_type": "code",
   "execution_count": 749,
   "id": "0caafc36-7150-4239-bd94-9ee1e1f4b318",
   "metadata": {},
   "outputs": [
    {
     "name": "stdout",
     "output_type": "stream",
     "text": [
      "Decision Tree Accuracy Training Data 0.9932835820895523\n",
      "Decision Tree Classification Report:\n",
      "               precision    recall  f1-score   support\n",
      "\n",
      "           0       0.99      1.00      0.99     16875\n",
      "           1       1.00      0.99      0.99     16625\n",
      "\n",
      "    accuracy                           0.99     33500\n",
      "   macro avg       0.99      0.99      0.99     33500\n",
      "weighted avg       0.99      0.99      0.99     33500\n",
      "\n"
     ]
    }
   ],
   "source": [
    "# Training Data\n",
    "dt = DecisionTreeClassifier()\n",
    "dt.fit(X_train, Y_train)\n",
    "X_train_predict = dt.predict(X_train)\n",
    "print(\"Decision Tree Accuracy Training Data\", accuracy_score(Y_train, X_train_predict))\n",
    "print(\"Decision Tree Classification Report:\\n\", classification_report(Y_train, X_train_predict))"
   ]
  },
  {
   "cell_type": "code",
   "execution_count": 750,
   "id": "857a47a9-26f0-47c4-b17c-758755cd5f39",
   "metadata": {},
   "outputs": [
    {
     "name": "stdout",
     "output_type": "stream",
     "text": [
      "Decision Tree Accuracy Testing Data 0.6803030303030303\n",
      "Decision Tree Classification Report:\n",
      "               precision    recall  f1-score   support\n",
      "\n",
      "           0       0.67      0.71      0.69      8312\n",
      "           1       0.69      0.65      0.67      8188\n",
      "\n",
      "    accuracy                           0.68     16500\n",
      "   macro avg       0.68      0.68      0.68     16500\n",
      "weighted avg       0.68      0.68      0.68     16500\n",
      "\n"
     ]
    }
   ],
   "source": [
    "# Testing Data\n",
    "dt = DecisionTreeClassifier()\n",
    "dt.fit(X_train, Y_train)\n",
    "X_test_predict = dt.predict(X_test)\n",
    "print(\"Decision Tree Accuracy Testing Data\", accuracy_score(Y_test, X_test_predict))\n",
    "print(\"Decision Tree Classification Report:\\n\", classification_report(Y_test, X_test_predict))"
   ]
  },
  {
   "cell_type": "code",
   "execution_count": 751,
   "id": "6c6aeda6-574c-4ff6-8cf4-e0c408a9c3d3",
   "metadata": {},
   "outputs": [
    {
     "name": "stdout",
     "output_type": "stream",
     "text": [
      "Decision Tree Accuracy Training Data 0.726089552238806\n",
      "Decision Tree Classification Report:\n",
      "               precision    recall  f1-score   support\n",
      "\n",
      "           0       0.73      0.72      0.73     16875\n",
      "           1       0.72      0.74      0.73     16625\n",
      "\n",
      "    accuracy                           0.73     33500\n",
      "   macro avg       0.73      0.73      0.73     33500\n",
      "weighted avg       0.73      0.73      0.73     33500\n",
      "\n"
     ]
    }
   ],
   "source": [
    "# Training Data\n",
    "from sklearn.neighbors import KNeighborsClassifier\n",
    "knn = KNeighborsClassifier()\n",
    "knn.fit(X_train, Y_train)\n",
    "X_train_predict = knn.predict(X_train)\n",
    "print(\"Decision Tree Accuracy Training Data\", accuracy_score(Y_train, X_train_predict))\n",
    "print(\"Decision Tree Classification Report:\\n\", classification_report(Y_train, X_train_predict))"
   ]
  },
  {
   "cell_type": "code",
   "execution_count": 752,
   "id": "0c009d4a-0220-4ff5-b5b2-05fc825e270d",
   "metadata": {},
   "outputs": [
    {
     "name": "stdout",
     "output_type": "stream",
     "text": [
      "KNN Accuracy Testing Data: 0.5696969696969697\n",
      "KNN Classification Report:\n",
      "               precision    recall  f1-score   support\n",
      "\n",
      "           0       0.58      0.56      0.57      8312\n",
      "           1       0.56      0.58      0.57      8188\n",
      "\n",
      "    accuracy                           0.57     16500\n",
      "   macro avg       0.57      0.57      0.57     16500\n",
      "weighted avg       0.57      0.57      0.57     16500\n",
      "\n"
     ]
    }
   ],
   "source": [
    "# Testing Data\n",
    "knn = KNeighborsClassifier()\n",
    "knn.fit(X_train, Y_train)\n",
    "X_test_predict = knn.predict(X_test)\n",
    "print(\"KNN Accuracy Testing Data:\", accuracy_score(Y_test, X_test_predict))\n",
    "print(\"KNN Classification Report:\\n\", classification_report(Y_test, X_test_predict))"
   ]
  },
  {
   "cell_type": "code",
   "execution_count": 753,
   "id": "517838a0-6b0a-4399-96f2-86ab68d8bcdf",
   "metadata": {},
   "outputs": [
    {
     "name": "stderr",
     "output_type": "stream",
     "text": [
      "/home/ubuntu/anaconda3/lib/python3.11/site-packages/xgboost/core.py:158: UserWarning: [19:50:44] WARNING: /workspace/src/learner.cc:740: \n",
      "Parameters: { \"use_label_encoder\" } are not used.\n",
      "\n",
      "  warnings.warn(smsg, UserWarning)\n"
     ]
    },
    {
     "name": "stdout",
     "output_type": "stream",
     "text": [
      "XGBoost Accuracy Training Data: 0.7711044776119403\n",
      "XGBoost Classification Report:\n",
      "               precision    recall  f1-score   support\n",
      "\n",
      "           0       0.83      0.68      0.75     16875\n",
      "           1       0.73      0.86      0.79     16625\n",
      "\n",
      "    accuracy                           0.77     33500\n",
      "   macro avg       0.78      0.77      0.77     33500\n",
      "weighted avg       0.78      0.77      0.77     33500\n",
      "\n"
     ]
    }
   ],
   "source": [
    "# Training Data\n",
    "xgb = XGBClassifier(use_label_encoder=False, eval_metric='logloss')\n",
    "xgb.fit(X_train, Y_train)\n",
    "X_train_predict = xgb.predict(X_train)\n",
    "print(\"XGBoost Accuracy Training Data:\", accuracy_score(Y_train, X_train_predict))\n",
    "print(\"XGBoost Classification Report:\\n\", classification_report(Y_train, X_train_predict))"
   ]
  },
  {
   "cell_type": "code",
   "execution_count": 754,
   "id": "01eb10b5-59b3-44f0-9141-b16412012aa8",
   "metadata": {},
   "outputs": [
    {
     "name": "stderr",
     "output_type": "stream",
     "text": [
      "/home/ubuntu/anaconda3/lib/python3.11/site-packages/xgboost/core.py:158: UserWarning: [19:50:56] WARNING: /workspace/src/learner.cc:740: \n",
      "Parameters: { \"use_label_encoder\" } are not used.\n",
      "\n",
      "  warnings.warn(smsg, UserWarning)\n"
     ]
    },
    {
     "name": "stdout",
     "output_type": "stream",
     "text": [
      "XGBoost Accuracy Testing: 0.7246060606060606\n",
      "XGBoost Classification Report:\n",
      "               precision    recall  f1-score   support\n",
      "\n",
      "           0       0.77      0.64      0.70      8312\n",
      "           1       0.69      0.81      0.74      8188\n",
      "\n",
      "    accuracy                           0.72     16500\n",
      "   macro avg       0.73      0.73      0.72     16500\n",
      "weighted avg       0.73      0.72      0.72     16500\n",
      "\n"
     ]
    }
   ],
   "source": [
    "# Testing Data\n",
    "xgb = XGBClassifier(use_label_encoder=False, eval_metric='logloss')\n",
    "xgb.fit(X_train, Y_train)\n",
    "X_test_predict = xgb.predict(X_test)\n",
    "print(\"XGBoost Accuracy Testing:\", accuracy_score(Y_test, X_test_predict))\n",
    "print(\"XGBoost Classification Report:\\n\", classification_report(Y_test, X_test_predict))"
   ]
  },
  {
   "cell_type": "code",
   "execution_count": 755,
   "id": "0f0703a7-c41e-4e05-b0fd-5f701aa61ae1",
   "metadata": {},
   "outputs": [
    {
     "name": "stdout",
     "output_type": "stream",
     "text": [
      "Random Forest Accuracy on Training Data: 0.9932835820895523\n",
      "Random Forest Classification Report on Training Data:\n",
      "               precision    recall  f1-score   support\n",
      "\n",
      "           0       0.99      1.00      0.99     16875\n",
      "           1       1.00      0.99      0.99     16625\n",
      "\n",
      "    accuracy                           0.99     33500\n",
      "   macro avg       0.99      0.99      0.99     33500\n",
      "weighted avg       0.99      0.99      0.99     33500\n",
      "\n"
     ]
    }
   ],
   "source": [
    "# Training Data\n",
    "rf = RandomForestClassifier()\n",
    "rf.fit(X_train, Y_train)\n",
    "X_train_predict_rf = rf.predict(X_train)\n",
    "\n",
    "# Evaluate the model on the training data\n",
    "print(\"Random Forest Accuracy on Training Data:\", accuracy_score(Y_train, X_train_predict_rf))\n",
    "print(\"Random Forest Classification Report on Training Data:\\n\", classification_report(Y_train, X_train_predict_rf))"
   ]
  },
  {
   "cell_type": "code",
   "execution_count": 756,
   "id": "6cf80516-bc0b-4876-9d4e-33bd616c9659",
   "metadata": {},
   "outputs": [
    {
     "name": "stdout",
     "output_type": "stream",
     "text": [
      "Random Forest Accuracy on Training Data: 0.7333939393939394\n",
      "Random Forest Classification Report on Training Data:\n",
      "               precision    recall  f1-score   support\n",
      "\n",
      "           0       0.73      0.75      0.74      8312\n",
      "           1       0.74      0.71      0.73      8188\n",
      "\n",
      "    accuracy                           0.73     16500\n",
      "   macro avg       0.73      0.73      0.73     16500\n",
      "weighted avg       0.73      0.73      0.73     16500\n",
      "\n"
     ]
    }
   ],
   "source": [
    "# Testing Data\n",
    "rf = RandomForestClassifier()\n",
    "rf.fit(X_train, Y_train)\n",
    "X_test_predict = rf.predict(X_test)\n",
    "\n",
    "# Evaluate the model on the training data\n",
    "print(\"Random Forest Accuracy on Training Data:\", accuracy_score(Y_test, X_test_predict))\n",
    "print(\"Random Forest Classification Report on Training Data:\\n\", classification_report(Y_test, X_test_predict))"
   ]
  },
  {
   "cell_type": "code",
   "execution_count": 757,
   "id": "92aae8a9-2cc3-4810-ada9-584797607d31",
   "metadata": {},
   "outputs": [],
   "source": [
    "#######################################logistic_regressio"
   ]
  },
  {
   "cell_type": "code",
   "execution_count": 758,
   "id": "17d29348-9ec9-49b7-9f2a-86061fd05ec3",
   "metadata": {},
   "outputs": [],
   "source": [
    "# Saving Model for Future use Im just saving Logistic Regression Model"
   ]
  },
  {
   "cell_type": "code",
   "execution_count": 759,
   "id": "342cdc26-f0c9-43e6-93fe-580a29cb8caf",
   "metadata": {},
   "outputs": [],
   "source": [
    "import pickle"
   ]
  },
  {
   "cell_type": "code",
   "execution_count": 760,
   "id": "a92b1926-8ace-4987-b603-cf591866a747",
   "metadata": {},
   "outputs": [],
   "source": [
    "save_model_lg = 'trained_Model_logistic_regression.sav'\n",
    "pickle.dump(lg, open(save_model_lg, \"wb\"))"
   ]
  },
  {
   "cell_type": "code",
   "execution_count": 761,
   "id": "5b8db591-1a34-4fef-b8b1-3232e40a6cf6",
   "metadata": {},
   "outputs": [],
   "source": [
    "save_model_xgb = 'trained_Model_XGBoost.sav'\n",
    "pickle.dump(xgb, open(save_model_xgb, \"wb\"))"
   ]
  },
  {
   "cell_type": "code",
   "execution_count": 762,
   "id": "ca8351eb-7ebe-4626-be93-15e6dca5548e",
   "metadata": {},
   "outputs": [],
   "source": [
    "save_model_rf = 'trained_Model_Random_Forest.sav'\n",
    "pickle.dump(rf, open(save_model_rf, \"wb\"))"
   ]
  },
  {
   "cell_type": "code",
   "execution_count": 763,
   "id": "f3e188b7-d091-41fd-be23-ebfd854b732b",
   "metadata": {},
   "outputs": [],
   "source": [
    "save_model_knn = 'trained_Model_KNN.sav'\n",
    "pickle.dump(knn, open(save_model_knn, \"wb\"))"
   ]
  },
  {
   "cell_type": "code",
   "execution_count": 764,
   "id": "717b6690-d57b-4042-b3bf-6d43146e6660",
   "metadata": {},
   "outputs": [],
   "source": [
    "save_model_svm = 'trained_Model_SVM.sav'\n",
    "pickle.dump(svm, open(save_model_svm, \"wb\"))"
   ]
  },
  {
   "cell_type": "code",
   "execution_count": 765,
   "id": "23129c7b-c66e-4c1a-9b35-c0534b7bb9ed",
   "metadata": {},
   "outputs": [],
   "source": [
    "save_model_dt = 'trained_Model_DT.sav'\n",
    "pickle.dump(dt, open(save_model_dt, \"wb\"))"
   ]
  },
  {
   "cell_type": "code",
   "execution_count": 766,
   "id": "d3915c52-1290-4871-a20c-aaf2a508478c",
   "metadata": {},
   "outputs": [],
   "source": [
    "load_saved_model = pickle.load(open(save_model_dt, \"rb\")) # loading models"
   ]
  },
  {
   "cell_type": "code",
   "execution_count": 767,
   "id": "075a408b-7425-4551-94ba-1b39bae3955d",
   "metadata": {},
   "outputs": [
    {
     "name": "stdout",
     "output_type": "stream",
     "text": [
      " \u001b[0m\u001b[01;34mnltk_data\u001b[0m/                                 trained_Model_Random_Forest.sav\n",
      "\u001b[01;35m'Screenshot from 2024-06-30 01-59-16.png'\u001b[0m   trained_Model.sav\n",
      "'Sentimental Analysis.ipynb'                trained_Model_SVM.sav\n",
      " trained_Model_DT.sav                       trained_Model_XGBoost.sav\n",
      " trained_Model_KNN.sav                      tweets.csv\n",
      " trained_Model_logistic_regression.sav      \u001b[01;31mtweets.zip\u001b[0m\n"
     ]
    }
   ],
   "source": [
    "ls"
   ]
  },
  {
   "cell_type": "code",
   "execution_count": 772,
   "id": "9c789d19-cbf8-4c8c-adfe-b17cf1d27698",
   "metadata": {},
   "outputs": [],
   "source": [
    "new_input = X_test[29]"
   ]
  },
  {
   "cell_type": "code",
   "execution_count": 774,
   "id": "3902ae8f-64fc-4d22-a1f3-5a19bda17404",
   "metadata": {},
   "outputs": [
    {
     "name": "stdout",
     "output_type": "stream",
     "text": [
      "-ve Tweet\n"
     ]
    }
   ],
   "source": [
    "predict = load_saved_model.predict(new_input)\n",
    "\n",
    "if predict[0] == 0:\n",
    "    print(\"-ve Tweet\")\n",
    "else:\n",
    "    print(\"+ve Tweet\")"
   ]
  },
  {
   "cell_type": "code",
   "execution_count": 778,
   "id": "e15c7165-bd10-4526-b57d-8adc962c556a",
   "metadata": {},
   "outputs": [
    {
     "name": "stdout",
     "output_type": "stream",
     "text": [
      "-ve Tweet\n"
     ]
    }
   ],
   "source": [
    "predict = lg.predict(new_input)\n",
    "\n",
    "if predict[0] == 0:\n",
    "    print(\"-ve Tweet\")\n",
    "else:\n",
    "    print(\"+ve Tweet\")"
   ]
  },
  {
   "cell_type": "markdown",
   "id": "3cd13fac-948c-45bb-9b7b-983998cc5c6a",
   "metadata": {},
   "source": [
    "<h1> ---------------------------------------- The End-----------------------------------</h1> "
   ]
  },
  {
   "cell_type": "code",
   "execution_count": null,
   "id": "0ee48bb3-e7aa-4c47-9488-c69e8161669c",
   "metadata": {},
   "outputs": [],
   "source": []
  }
 ],
 "metadata": {
  "kernelspec": {
   "display_name": "Python 3 (ipykernel)",
   "language": "python",
   "name": "python3"
  },
  "language_info": {
   "codemirror_mode": {
    "name": "ipython",
    "version": 3
   },
   "file_extension": ".py",
   "mimetype": "text/x-python",
   "name": "python",
   "nbconvert_exporter": "python",
   "pygments_lexer": "ipython3",
   "version": "3.11.7"
  }
 },
 "nbformat": 4,
 "nbformat_minor": 5
}
